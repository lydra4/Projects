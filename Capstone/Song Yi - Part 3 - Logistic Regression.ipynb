{
 "cells": [
  {
   "cell_type": "markdown",
   "id": "c0c892d7",
   "metadata": {},
   "source": [
    "# Capstone Section 4: Hyperparameter Tuning (Logistic Regression)\n",
    "<br>\n",
    "\n",
    "## Task\n",
    "<br>\n",
    "\n",
    "1) I will tune the hyperparameters of logistic regression on train data that has been normalized with standard scaler and another set of train data normalized with min max scaler"
   ]
  },
  {
   "cell_type": "markdown",
   "id": "46bdef1c",
   "metadata": {},
   "source": [
    "## Importing Libraries"
   ]
  },
  {
   "cell_type": "code",
   "execution_count": 2,
   "id": "8c3149e5",
   "metadata": {
    "ExecuteTime": {
     "end_time": "2022-10-11T05:04:22.955401Z",
     "start_time": "2022-10-11T05:04:22.292798Z"
    }
   },
   "outputs": [],
   "source": [
    "import os\n",
    "import gc\n",
    "import joblib\n",
    "import pandas as pd\n",
    "from IPython.display import display, Javascript\n",
    "from sklearn.model_selection import GridSearchCV\n",
    "from sklearn.linear_model import LogisticRegressionCV"
   ]
  },
  {
   "cell_type": "markdown",
   "id": "97a7f459",
   "metadata": {},
   "source": [
    "## Reading Data Files"
   ]
  },
  {
   "cell_type": "code",
   "execution_count": 3,
   "id": "4a179c56",
   "metadata": {
    "ExecuteTime": {
     "end_time": "2022-10-11T05:04:26.033898Z",
     "start_time": "2022-10-11T05:04:26.004051Z"
    }
   },
   "outputs": [],
   "source": [
    "X_train_ss = pd.read_pickle('./Data/Standard Scaler/X_train_ss.pkl')\n",
    "X_train_mms = pd.read_pickle('./Data/Min Max Scaler/X_train_mms.pkl')\n",
    "y_train = pd.read_pickle('./Data/y_train.pkl')"
   ]
  },
  {
   "cell_type": "markdown",
   "id": "a6ba8982",
   "metadata": {},
   "source": [
    "## Hyperparameter Tuning (Standard Scaler)"
   ]
  },
  {
   "cell_type": "code",
   "execution_count": 3,
   "id": "5e6fb795",
   "metadata": {
    "ExecuteTime": {
     "end_time": "2022-10-11T05:03:11.585058Z",
     "start_time": "2022-10-11T03:59:40.271647Z"
    }
   },
   "outputs": [
    {
     "name": "stderr",
     "output_type": "stream",
     "text": [
      "C:\\Users\\lydra\\anaconda3\\lib\\site-packages\\sklearn\\model_selection\\_validation.py:372: FitFailedWarning: \n",
      "9 fits failed out of a total of 21.\n",
      "The score on these train-test partitions for these parameters will be set to nan.\n",
      "If these failures are not expected, you can try to debug them by setting error_score='raise'.\n",
      "\n",
      "Below are more details about the failures:\n",
      "--------------------------------------------------------------------------------\n",
      "9 fits failed with the following error:\n",
      "Traceback (most recent call last):\n",
      "  File \"C:\\Users\\lydra\\anaconda3\\lib\\site-packages\\sklearn\\model_selection\\_validation.py\", line 680, in _fit_and_score\n",
      "    estimator.fit(X_train, y_train, **fit_params)\n",
      "  File \"C:\\Users\\lydra\\anaconda3\\lib\\site-packages\\sklearn\\linear_model\\_logistic.py\", line 2154, in fit\n",
      "    fold_coefs_ = Parallel(\n",
      "  File \"C:\\Users\\lydra\\anaconda3\\lib\\site-packages\\joblib\\parallel.py\", line 1043, in __call__\n",
      "    if self.dispatch_one_batch(iterator):\n",
      "  File \"C:\\Users\\lydra\\anaconda3\\lib\\site-packages\\joblib\\parallel.py\", line 861, in dispatch_one_batch\n",
      "    self._dispatch(tasks)\n",
      "  File \"C:\\Users\\lydra\\anaconda3\\lib\\site-packages\\joblib\\parallel.py\", line 779, in _dispatch\n",
      "    job = self._backend.apply_async(batch, callback=cb)\n",
      "  File \"C:\\Users\\lydra\\anaconda3\\lib\\site-packages\\joblib\\_parallel_backends.py\", line 208, in apply_async\n",
      "    result = ImmediateResult(func)\n",
      "  File \"C:\\Users\\lydra\\anaconda3\\lib\\site-packages\\joblib\\_parallel_backends.py\", line 572, in __init__\n",
      "    self.results = batch()\n",
      "  File \"C:\\Users\\lydra\\anaconda3\\lib\\site-packages\\joblib\\parallel.py\", line 262, in __call__\n",
      "    return [func(*args, **kwargs)\n",
      "  File \"C:\\Users\\lydra\\anaconda3\\lib\\site-packages\\joblib\\parallel.py\", line 262, in <listcomp>\n",
      "    return [func(*args, **kwargs)\n",
      "  File \"C:\\Users\\lydra\\anaconda3\\lib\\site-packages\\sklearn\\utils\\fixes.py\", line 216, in __call__\n",
      "    return self.function(*args, **kwargs)\n",
      "  File \"C:\\Users\\lydra\\anaconda3\\lib\\site-packages\\sklearn\\linear_model\\_logistic.py\", line 1060, in _log_reg_scoring_path\n",
      "    coefs, Cs, n_iter = _logistic_regression_path(\n",
      "  File \"C:\\Users\\lydra\\anaconda3\\lib\\site-packages\\sklearn\\linear_model\\_logistic.py\", line 800, in _logistic_regression_path\n",
      "    n_iter = np.zeros(len(Cs), dtype=np.int32)\n",
      "TypeError: object of type 'float' has no len()\n",
      "\n",
      "  warnings.warn(some_fits_failed_message, FitFailedWarning)\n",
      "C:\\Users\\lydra\\anaconda3\\lib\\site-packages\\sklearn\\model_selection\\_search.py:969: UserWarning: One or more of the test scores are non-finite: [     nan      nan      nan 0.752169 0.752169 0.752169 0.752169]\n",
      "  warnings.warn(\n"
     ]
    },
    {
     "data": {
      "text/plain": [
       "GridSearchCV(cv=3, estimator=LogisticRegressionCV(), n_jobs=-2,\n",
       "             param_grid={'Cs': [0.001, 0.01, 0.1, 1, 10, 100, 1000],\n",
       "                         'class_weight': ['balanced'], 'max_iter': [10000],\n",
       "                         'solver': ['liblinear']},\n",
       "             scoring='recall')"
      ]
     },
     "execution_count": 3,
     "metadata": {},
     "output_type": "execute_result"
    }
   ],
   "source": [
    "lg = LogisticRegressionCV()\n",
    "\n",
    "param_grid = {\n",
    "    'Cs':[0.001,0.01,0.1,1,10,100,1_000],\n",
    "    'solver':['liblinear'],\n",
    "    'max_iter':[10000],\n",
    "    'class_weight':['balanced']\n",
    "}\n",
    "\n",
    "gs_ss_lg = GridSearchCV(estimator=lg,\n",
    "                             param_grid=param_grid,\n",
    "                             cv=3,\n",
    "                             scoring='recall',\n",
    "                             n_jobs=-1)\n",
    "\n",
    "gs_ss_lg.fit(X_train_ss, y_train)"
   ]
  },
  {
   "cell_type": "markdown",
   "id": "17a1b2e3",
   "metadata": {},
   "source": [
    "## Saving Machine Learning Model"
   ]
  },
  {
   "cell_type": "code",
   "execution_count": 4,
   "id": "599f2744",
   "metadata": {
    "ExecuteTime": {
     "end_time": "2022-10-11T05:03:11.616032Z",
     "start_time": "2022-10-11T05:03:11.590070Z"
    }
   },
   "outputs": [
    {
     "data": {
      "text/plain": [
       "['./Data/Machine Learning Model/Logistic Regression/gs_ss_lg.pkl']"
      ]
     },
     "execution_count": 4,
     "metadata": {},
     "output_type": "execute_result"
    }
   ],
   "source": [
    "joblib.dump(gs_ss_lg, './Data/Machine Learning Model/Logistic Regression/gs_ss_lg.pkl')"
   ]
  },
  {
   "cell_type": "markdown",
   "id": "4aafe213",
   "metadata": {},
   "source": [
    "## Hyperparameter Tuning (Min Max Scaler)"
   ]
  },
  {
   "cell_type": "code",
   "execution_count": 4,
   "id": "0942d412",
   "metadata": {
    "ExecuteTime": {
     "end_time": "2022-10-11T07:07:45.624780Z",
     "start_time": "2022-10-11T05:04:29.892384Z"
    }
   },
   "outputs": [
    {
     "name": "stderr",
     "output_type": "stream",
     "text": [
      "C:\\Users\\lydra\\anaconda3\\lib\\site-packages\\sklearn\\model_selection\\_validation.py:372: FitFailedWarning: \n",
      "9 fits failed out of a total of 21.\n",
      "The score on these train-test partitions for these parameters will be set to nan.\n",
      "If these failures are not expected, you can try to debug them by setting error_score='raise'.\n",
      "\n",
      "Below are more details about the failures:\n",
      "--------------------------------------------------------------------------------\n",
      "9 fits failed with the following error:\n",
      "Traceback (most recent call last):\n",
      "  File \"C:\\Users\\lydra\\anaconda3\\lib\\site-packages\\sklearn\\model_selection\\_validation.py\", line 680, in _fit_and_score\n",
      "    estimator.fit(X_train, y_train, **fit_params)\n",
      "  File \"C:\\Users\\lydra\\anaconda3\\lib\\site-packages\\sklearn\\linear_model\\_logistic.py\", line 2154, in fit\n",
      "    fold_coefs_ = Parallel(\n",
      "  File \"C:\\Users\\lydra\\anaconda3\\lib\\site-packages\\joblib\\parallel.py\", line 1043, in __call__\n",
      "    if self.dispatch_one_batch(iterator):\n",
      "  File \"C:\\Users\\lydra\\anaconda3\\lib\\site-packages\\joblib\\parallel.py\", line 861, in dispatch_one_batch\n",
      "    self._dispatch(tasks)\n",
      "  File \"C:\\Users\\lydra\\anaconda3\\lib\\site-packages\\joblib\\parallel.py\", line 779, in _dispatch\n",
      "    job = self._backend.apply_async(batch, callback=cb)\n",
      "  File \"C:\\Users\\lydra\\anaconda3\\lib\\site-packages\\joblib\\_parallel_backends.py\", line 208, in apply_async\n",
      "    result = ImmediateResult(func)\n",
      "  File \"C:\\Users\\lydra\\anaconda3\\lib\\site-packages\\joblib\\_parallel_backends.py\", line 572, in __init__\n",
      "    self.results = batch()\n",
      "  File \"C:\\Users\\lydra\\anaconda3\\lib\\site-packages\\joblib\\parallel.py\", line 262, in __call__\n",
      "    return [func(*args, **kwargs)\n",
      "  File \"C:\\Users\\lydra\\anaconda3\\lib\\site-packages\\joblib\\parallel.py\", line 262, in <listcomp>\n",
      "    return [func(*args, **kwargs)\n",
      "  File \"C:\\Users\\lydra\\anaconda3\\lib\\site-packages\\sklearn\\utils\\fixes.py\", line 216, in __call__\n",
      "    return self.function(*args, **kwargs)\n",
      "  File \"C:\\Users\\lydra\\anaconda3\\lib\\site-packages\\sklearn\\linear_model\\_logistic.py\", line 1060, in _log_reg_scoring_path\n",
      "    coefs, Cs, n_iter = _logistic_regression_path(\n",
      "  File \"C:\\Users\\lydra\\anaconda3\\lib\\site-packages\\sklearn\\linear_model\\_logistic.py\", line 800, in _logistic_regression_path\n",
      "    n_iter = np.zeros(len(Cs), dtype=np.int32)\n",
      "TypeError: object of type 'float' has no len()\n",
      "\n",
      "  warnings.warn(some_fits_failed_message, FitFailedWarning)\n",
      "C:\\Users\\lydra\\anaconda3\\lib\\site-packages\\sklearn\\model_selection\\_search.py:969: UserWarning: One or more of the test scores are non-finite: [       nan        nan        nan 0.85743979 0.87343047 0.87343047\n",
      " 0.87343047]\n",
      "  warnings.warn(\n"
     ]
    },
    {
     "data": {
      "text/plain": [
       "GridSearchCV(cv=3, estimator=LogisticRegressionCV(), n_jobs=-1,\n",
       "             param_grid={'Cs': [0.001, 0.01, 0.1, 1, 10, 100, 1000],\n",
       "                         'class_weight': ['balanced'], 'max_iter': [10000],\n",
       "                         'solver': ['liblinear']},\n",
       "             scoring='recall')"
      ]
     },
     "execution_count": 4,
     "metadata": {},
     "output_type": "execute_result"
    }
   ],
   "source": [
    "lg = LogisticRegressionCV()\n",
    "\n",
    "param_grid = {\n",
    "    'Cs':[0.001,0.01,0.1,1,10,100,1_000],\n",
    "    'solver':['liblinear'],\n",
    "    'max_iter':[10000],\n",
    "    'class_weight':['balanced']\n",
    "}\n",
    "\n",
    "gs_mms_lg = GridSearchCV(estimator=lg,\n",
    "                             param_grid=param_grid,\n",
    "                             cv=3,\n",
    "                             scoring='recall',\n",
    "                             n_jobs=-1)\n",
    "\n",
    "gs_mms_lg.fit(X_train_mms, y_train)"
   ]
  },
  {
   "cell_type": "markdown",
   "id": "15980f1f",
   "metadata": {},
   "source": [
    "## Saving Machine Learning Model"
   ]
  },
  {
   "cell_type": "code",
   "execution_count": 5,
   "id": "837feadb",
   "metadata": {
    "ExecuteTime": {
     "end_time": "2022-10-11T07:07:45.640739Z",
     "start_time": "2022-10-11T07:07:45.625779Z"
    }
   },
   "outputs": [
    {
     "data": {
      "text/plain": [
       "['./Data/Machine Learning Model/Logistic Regression/gs_mms_lg.pkl']"
      ]
     },
     "execution_count": 5,
     "metadata": {},
     "output_type": "execute_result"
    }
   ],
   "source": [
    "joblib.dump(gs_mms_lg, './Data/Machine Learning Model/Logistic Regression/gs_mms_lg.pkl')"
   ]
  },
  {
   "cell_type": "code",
   "execution_count": 6,
   "id": "9aba64be",
   "metadata": {
    "ExecuteTime": {
     "end_time": "2022-10-11T07:07:45.656696Z",
     "start_time": "2022-10-11T07:07:45.642734Z"
    }
   },
   "outputs": [
    {
     "data": {
      "application/javascript": "IPython.notebook.save_checkpoint();",
      "text/plain": [
       "<IPython.core.display.Javascript object>"
      ]
     },
     "metadata": {},
     "output_type": "display_data"
    }
   ],
   "source": [
    "display(Javascript('IPython.notebook.save_checkpoint();'))"
   ]
  },
  {
   "cell_type": "code",
   "execution_count": 7,
   "id": "8eb5a235",
   "metadata": {
    "ExecuteTime": {
     "end_time": "2022-10-11T07:07:45.704035Z",
     "start_time": "2022-10-11T07:07:45.658690Z"
    }
   },
   "outputs": [
    {
     "data": {
      "text/plain": [
       "0"
      ]
     },
     "execution_count": 7,
     "metadata": {},
     "output_type": "execute_result"
    }
   ],
   "source": [
    "os.system('shutdown -s')"
   ]
  }
 ],
 "metadata": {
  "kernelspec": {
   "display_name": "Python 3.9.13 ('base')",
   "language": "python",
   "name": "python3"
  },
  "language_info": {
   "codemirror_mode": {
    "name": "ipython",
    "version": 3
   },
   "file_extension": ".py",
   "mimetype": "text/x-python",
   "name": "python",
   "nbconvert_exporter": "python",
   "pygments_lexer": "ipython3",
   "version": "3.9.13"
  },
  "vscode": {
   "interpreter": {
    "hash": "25ef22b608f107f99fc89be5151915a078ade7f4644b28f8bf4c3008377631f6"
   }
  }
 },
 "nbformat": 4,
 "nbformat_minor": 5
}
