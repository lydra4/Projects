{
 "cells": [
  {
   "cell_type": "markdown",
   "id": "553baad1",
   "metadata": {},
   "source": [
    "## Task\n",
    "<br>\n",
    "\n",
    "1) Perform Standard Scaler on SMOTE data [Task 1](#Task-1)\n",
    "<br>\n",
    "<br>\n",
    "2) Perform Min Max Scaler on SMOTE data [Task 2](#Task-2)"
   ]
  },
  {
   "cell_type": "code",
   "execution_count": 31,
   "id": "6b0f873f",
   "metadata": {
    "ExecuteTime": {
     "end_time": "2022-10-05T15:38:39.786187Z",
     "start_time": "2022-10-05T15:38:39.782197Z"
    }
   },
   "outputs": [],
   "source": [
    "import pandas as pd\n",
    "from sklearn.preprocessing import StandardScaler, MinMaxScaler"
   ]
  },
  {
   "cell_type": "markdown",
   "id": "8fff72f4",
   "metadata": {
    "ExecuteTime": {
     "end_time": "2022-10-05T15:18:48.336102Z",
     "start_time": "2022-10-05T15:18:48.319419Z"
    }
   },
   "source": [
    "## Task 1"
   ]
  },
  {
   "cell_type": "code",
   "execution_count": 32,
   "id": "73fe431f",
   "metadata": {
    "ExecuteTime": {
     "end_time": "2022-10-05T15:38:40.737691Z",
     "start_time": "2022-10-05T15:38:39.788189Z"
    }
   },
   "outputs": [],
   "source": [
    "X_train_smote_ss = pd.read_feather('./Data/Feature Engineering/X_train_smote.feather')\n",
    "X_test_ss = pd.read_feather('./Data/Feature Engineering/X_test.feather')\n",
    "y_train = pd.read_feather('./Data/Feature Engineering/y_train_smote.feather')\n",
    "y_test = pd.read_feather('./Data/Feature Engineering/y_test.feather')"
   ]
  },
  {
   "cell_type": "code",
   "execution_count": 33,
   "id": "19c80efa",
   "metadata": {
    "ExecuteTime": {
     "end_time": "2022-10-05T15:38:44.056812Z",
     "start_time": "2022-10-05T15:38:40.738686Z"
    }
   },
   "outputs": [],
   "source": [
    "ss = StandardScaler()\n",
    "X_train_smote_ss['amt'] = pd.DataFrame(ss.fit_transform(X_train_smote_ss[['amt']]))\n",
    "X_test_ss['amt'] = pd.DataFrame(ss.transform(X_test_ss[['amt']]))"
   ]
  },
  {
   "cell_type": "code",
   "execution_count": 34,
   "id": "8b41c509",
   "metadata": {
    "ExecuteTime": {
     "end_time": "2022-10-05T15:38:44.721036Z",
     "start_time": "2022-10-05T15:38:44.058808Z"
    }
   },
   "outputs": [],
   "source": [
    "X_train_smote_ss.to_feather('./Data/Standard Scaler/X_train_smote_ss.feather')\n",
    "X_test_ss.to_feather('./Data/Standard Scaler/X_test_ss.feather')"
   ]
  },
  {
   "cell_type": "markdown",
   "id": "caa21388",
   "metadata": {},
   "source": [
    "## Task 2"
   ]
  },
  {
   "cell_type": "code",
   "execution_count": 35,
   "id": "1b38b030",
   "metadata": {
    "ExecuteTime": {
     "end_time": "2022-10-05T15:38:45.912849Z",
     "start_time": "2022-10-05T15:38:44.722034Z"
    }
   },
   "outputs": [],
   "source": [
    "X_train_smote_mms = pd.read_feather('./Data/Feature Engineering/X_train_smote.feather')\n",
    "X_test_mms = pd.read_feather('./Data/Feature Engineering/X_test.feather')\n",
    "y_train = pd.read_feather('./Data/Feature Engineering/y_train_smote.feather')\n",
    "y_test = pd.read_feather('./Data/Feature Engineering/y_test.feather')"
   ]
  },
  {
   "cell_type": "code",
   "execution_count": 36,
   "id": "2011bc6f",
   "metadata": {
    "ExecuteTime": {
     "end_time": "2022-10-05T15:38:52.076579Z",
     "start_time": "2022-10-05T15:38:45.913846Z"
    }
   },
   "outputs": [],
   "source": [
    "mms = MinMaxScaler()\n",
    "X_train_smote_mms['amt'] = mms.fit_transform(X_train_smote_mms[['amt']])\n",
    "X_test_mms['amt'] = mms.transform(X_test_mms[['amt']])"
   ]
  },
  {
   "cell_type": "code",
   "execution_count": 37,
   "id": "7435a164",
   "metadata": {
    "ExecuteTime": {
     "end_time": "2022-10-05T15:38:52.721831Z",
     "start_time": "2022-10-05T15:38:52.090537Z"
    }
   },
   "outputs": [],
   "source": [
    "X_train_smote_mms.to_feather('./Data/Min Max Scaler/X_train_smote_mms.feather')\n",
    "X_test_mms.to_feather('./Data/Min Max Scaler/X_test_mms.feather')"
   ]
  }
 ],
 "metadata": {
  "kernelspec": {
   "display_name": "Python 3 (ipykernel)",
   "language": "python",
   "name": "python3"
  },
  "language_info": {
   "codemirror_mode": {
    "name": "ipython",
    "version": 3
   },
   "file_extension": ".py",
   "mimetype": "text/x-python",
   "name": "python",
   "nbconvert_exporter": "python",
   "pygments_lexer": "ipython3",
   "version": "3.9.13"
  }
 },
 "nbformat": 4,
 "nbformat_minor": 5
}
