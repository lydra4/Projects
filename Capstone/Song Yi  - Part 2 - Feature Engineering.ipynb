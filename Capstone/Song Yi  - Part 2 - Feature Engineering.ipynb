{
 "cells": [
  {
   "cell_type": "markdown",
   "id": "bd7aa0a3",
   "metadata": {},
   "source": [
    "# Capstone Section 3: Feature Engineering\n",
    "<br>\n",
    "\n",
    "## Task\n",
    "<br>\n",
    "\n",
    "1) Change the city population to 3 types from largest to smallest, City, Town, Rural. This is the definition: [Link](https://blogs.worldbank.org/sustainablecities/how-do-we-define-cities-towns-and-rural-areas) \n",
    "<br>\n",
    "[Task 1](#Task-1)\n",
    "\n",
    "2) Convert Hour of the day to either day or night [Task 2](#Task-2)\n",
    "\n",
    "3) Change the age to a categorical feature based on the definition:\n",
    "[Definition](https://www.pewresearch.org/fact-tank/2019/01/17/where-millennials-end-and-generation-z-begins/)\n",
    "<br>\n",
    "[Task 3](#Task-3)\n",
    "\n",
    "6) Perform one hot encoding [Task 6](#Task-6)\n",
    "\n",
    "7) Detecting Multicollinearity with VIF [Task 7](#Task-7)\n",
    "\n",
    "8) Perform train test split [Task 8](#Task-8)\n",
    "\n",
    "9) Create 1 data set using Standard Scaler [Task 9](#Task-9)\n",
    "\n",
    "10) Create 1 data set using Min Max Scaler [Task 10](#Task-10)"
   ]
  },
  {
   "cell_type": "markdown",
   "id": "59fa2e57",
   "metadata": {},
   "source": [
    "## Importing Libraries"
   ]
  },
  {
   "cell_type": "code",
   "execution_count": 1,
   "id": "122bdfa0",
   "metadata": {
    "ExecuteTime": {
     "end_time": "2022-10-14T03:36:14.297624Z",
     "start_time": "2022-10-14T03:36:14.278675Z"
    }
   },
   "outputs": [],
   "source": [
    "from sklearn.linear_model import LinearRegression\n",
    "from sklearn.model_selection import train_test_split\n",
    "from sklearn.feature_extraction.text import TfidfVectorizer\n",
    "from sklearn.preprocessing import StandardScaler, MinMaxScaler\n",
    "import numpy as np, pandas as pd, matplotlib.pyplot as plt, seaborn as sns"
   ]
  },
  {
   "cell_type": "markdown",
   "id": "a1fcf4c4",
   "metadata": {},
   "source": [
    "## Reading Data Files"
   ]
  },
  {
   "cell_type": "code",
   "execution_count": 2,
   "id": "92b15320",
   "metadata": {
    "ExecuteTime": {
     "end_time": "2022-10-14T03:36:14.487117Z",
     "start_time": "2022-10-14T03:36:14.299630Z"
    }
   },
   "outputs": [
    {
     "data": {
      "text/html": [
       "<div>\n",
       "<style scoped>\n",
       "    .dataframe tbody tr th:only-of-type {\n",
       "        vertical-align: middle;\n",
       "    }\n",
       "\n",
       "    .dataframe tbody tr th {\n",
       "        vertical-align: top;\n",
       "    }\n",
       "\n",
       "    .dataframe thead th {\n",
       "        text-align: right;\n",
       "    }\n",
       "</style>\n",
       "<table border=\"1\" class=\"dataframe\">\n",
       "  <thead>\n",
       "    <tr style=\"text-align: right;\">\n",
       "      <th></th>\n",
       "      <th>amt</th>\n",
       "      <th>category</th>\n",
       "      <th>gender</th>\n",
       "      <th>city_pop</th>\n",
       "      <th>Hour</th>\n",
       "      <th>Day</th>\n",
       "      <th>Age</th>\n",
       "      <th>is_fraud</th>\n",
       "    </tr>\n",
       "  </thead>\n",
       "  <tbody>\n",
       "    <tr>\n",
       "      <th>0</th>\n",
       "      <td>2.86</td>\n",
       "      <td>personal care</td>\n",
       "      <td>M</td>\n",
       "      <td>333497</td>\n",
       "      <td>12</td>\n",
       "      <td>Sun</td>\n",
       "      <td>54</td>\n",
       "      <td>0</td>\n",
       "    </tr>\n",
       "    <tr>\n",
       "      <th>1</th>\n",
       "      <td>29.84</td>\n",
       "      <td>personal care</td>\n",
       "      <td>F</td>\n",
       "      <td>302</td>\n",
       "      <td>12</td>\n",
       "      <td>Sun</td>\n",
       "      <td>32</td>\n",
       "      <td>0</td>\n",
       "    </tr>\n",
       "    <tr>\n",
       "      <th>2</th>\n",
       "      <td>41.28</td>\n",
       "      <td>health fitness</td>\n",
       "      <td>F</td>\n",
       "      <td>34496</td>\n",
       "      <td>12</td>\n",
       "      <td>Sun</td>\n",
       "      <td>52</td>\n",
       "      <td>0</td>\n",
       "    </tr>\n",
       "    <tr>\n",
       "      <th>3</th>\n",
       "      <td>60.05</td>\n",
       "      <td>misc pos</td>\n",
       "      <td>M</td>\n",
       "      <td>54767</td>\n",
       "      <td>12</td>\n",
       "      <td>Sun</td>\n",
       "      <td>35</td>\n",
       "      <td>0</td>\n",
       "    </tr>\n",
       "    <tr>\n",
       "      <th>4</th>\n",
       "      <td>3.19</td>\n",
       "      <td>travel</td>\n",
       "      <td>M</td>\n",
       "      <td>1126</td>\n",
       "      <td>12</td>\n",
       "      <td>Sun</td>\n",
       "      <td>67</td>\n",
       "      <td>0</td>\n",
       "    </tr>\n",
       "  </tbody>\n",
       "</table>\n",
       "</div>"
      ],
      "text/plain": [
       "     amt        category gender  city_pop  Hour  Day  Age  is_fraud\n",
       "0   2.86   personal care      M    333497    12  Sun   54         0\n",
       "1  29.84   personal care      F       302    12  Sun   32         0\n",
       "2  41.28  health fitness      F     34496    12  Sun   52         0\n",
       "3  60.05        misc pos      M     54767    12  Sun   35         0\n",
       "4   3.19          travel      M      1126    12  Sun   67         0"
      ]
     },
     "execution_count": 2,
     "metadata": {},
     "output_type": "execute_result"
    }
   ],
   "source": [
    "df_cleaned = pd.read_feather('./Data/df_cleaned.feather')\n",
    "df_cleaned.head()"
   ]
  },
  {
   "cell_type": "code",
   "execution_count": 3,
   "id": "461a7ba2",
   "metadata": {
    "ExecuteTime": {
     "end_time": "2022-10-14T03:36:14.660653Z",
     "start_time": "2022-10-14T03:36:14.488115Z"
    }
   },
   "outputs": [
    {
     "name": "stdout",
     "output_type": "stream",
     "text": [
      "<class 'pandas.core.frame.DataFrame'>\n",
      "RangeIndex: 555719 entries, 0 to 555718\n",
      "Data columns (total 8 columns):\n",
      " #   Column    Non-Null Count   Dtype  \n",
      "---  ------    --------------   -----  \n",
      " 0   amt       555719 non-null  float64\n",
      " 1   category  555719 non-null  object \n",
      " 2   gender    555719 non-null  object \n",
      " 3   city_pop  555719 non-null  int64  \n",
      " 4   Hour      555719 non-null  int64  \n",
      " 5   Day       555719 non-null  object \n",
      " 6   Age       555719 non-null  int64  \n",
      " 7   is_fraud  555719 non-null  int64  \n",
      "dtypes: float64(1), int64(4), object(3)\n",
      "memory usage: 33.9+ MB\n"
     ]
    }
   ],
   "source": [
    "df_cleaned.info()"
   ]
  },
  {
   "cell_type": "markdown",
   "id": "6005095a",
   "metadata": {},
   "source": [
    "## Task 1"
   ]
  },
  {
   "cell_type": "code",
   "execution_count": 4,
   "id": "e4538695",
   "metadata": {
    "ExecuteTime": {
     "end_time": "2022-10-14T03:36:14.675613Z",
     "start_time": "2022-10-14T03:36:14.662648Z"
    }
   },
   "outputs": [
    {
     "data": {
      "text/plain": [
       "103517"
      ]
     },
     "execution_count": 4,
     "metadata": {},
     "output_type": "execute_result"
    }
   ],
   "source": [
    "(df_cleaned['city_pop'] >= 50_000).sum()"
   ]
  },
  {
   "cell_type": "code",
   "execution_count": 5,
   "id": "deedfdd1",
   "metadata": {
    "ExecuteTime": {
     "end_time": "2022-10-14T03:36:14.706531Z",
     "start_time": "2022-10-14T03:36:14.676610Z"
    }
   },
   "outputs": [
    {
     "data": {
      "text/plain": [
       "112921"
      ]
     },
     "execution_count": 5,
     "metadata": {},
     "output_type": "execute_result"
    }
   ],
   "source": [
    "((df_cleaned['city_pop'] >= 5_000) & (df_cleaned['city_pop'] < 50_000)).sum()"
   ]
  },
  {
   "cell_type": "code",
   "execution_count": 6,
   "id": "4c91fd65",
   "metadata": {
    "ExecuteTime": {
     "end_time": "2022-10-14T03:36:14.722487Z",
     "start_time": "2022-10-14T03:36:14.708525Z"
    }
   },
   "outputs": [
    {
     "data": {
      "text/plain": [
       "339281"
      ]
     },
     "execution_count": 6,
     "metadata": {},
     "output_type": "execute_result"
    }
   ],
   "source": [
    "(df_cleaned['city_pop'] < 5_000).sum()"
   ]
  },
  {
   "cell_type": "code",
   "execution_count": 7,
   "id": "095f9176",
   "metadata": {
    "ExecuteTime": {
     "end_time": "2022-10-14T03:36:14.738446Z",
     "start_time": "2022-10-14T03:36:14.723485Z"
    }
   },
   "outputs": [
    {
     "data": {
      "text/plain": [
       "555719"
      ]
     },
     "execution_count": 7,
     "metadata": {},
     "output_type": "execute_result"
    }
   ],
   "source": [
    "103517 + 112921 + 339281"
   ]
  },
  {
   "cell_type": "markdown",
   "id": "a575b620",
   "metadata": {},
   "source": [
    "### Comments:\n",
    "<br>\n",
    "1) We must get 10,3517 Cities, 112,921 Towns and 339,281 Rural\n",
    "<br>\n",
    "<br>"
   ]
  },
  {
   "cell_type": "code",
   "execution_count": 8,
   "id": "40ec0475",
   "metadata": {
    "ExecuteTime": {
     "end_time": "2022-10-14T03:36:14.833191Z",
     "start_time": "2022-10-14T03:36:14.740440Z"
    }
   },
   "outputs": [],
   "source": [
    "conditions = [(df_cleaned['city_pop'] >= 50_000),\n",
    "             ((df_cleaned['city_pop'] >= 5_000) & (df_cleaned['city_pop'] < 50_000)),\n",
    "             (df_cleaned['city_pop'] < 5_000)]\n",
    "value = ['City', 'Town', 'Rural']\n",
    "\n",
    "df_cleaned['city_pop'] = np.select(condlist=conditions, choicelist=value)"
   ]
  },
  {
   "cell_type": "code",
   "execution_count": 9,
   "id": "70324f61",
   "metadata": {
    "ExecuteTime": {
     "end_time": "2022-10-14T03:36:14.880066Z",
     "start_time": "2022-10-14T03:36:14.835186Z"
    }
   },
   "outputs": [
    {
     "data": {
      "text/plain": [
       "Rural    339281\n",
       "Town     112921\n",
       "City     103517\n",
       "Name: city_pop, dtype: int64"
      ]
     },
     "execution_count": 9,
     "metadata": {},
     "output_type": "execute_result"
    }
   ],
   "source": [
    "df_cleaned['city_pop'].value_counts()"
   ]
  },
  {
   "attachments": {
    "download.png": {
     "image/png": "[encoded data removed]"
    }
   },
   "cell_type": "markdown",
   "id": "e99bea5a",
   "metadata": {},
   "source": [
    "## Task 2\n",
    "![download.png](attachment:download.png)"
   ]
  },
  {
   "cell_type": "markdown",
   "id": "4e860f74",
   "metadata": {
    "ExecuteTime": {
     "end_time": "2022-10-05T08:28:17.956949Z",
     "start_time": "2022-10-05T08:28:17.938999Z"
    }
   },
   "source": [
    "### Comments:\n",
    "<br>\n",
    "1) From the above graph, let's define night as after 8pm (2000) to before 4am (0400)\n",
    "<br>\n",
    "<br>"
   ]
  },
  {
   "cell_type": "code",
   "execution_count": 10,
   "id": "db06a6e7",
   "metadata": {
    "ExecuteTime": {
     "end_time": "2022-10-14T03:36:14.911980Z",
     "start_time": "2022-10-14T03:36:14.884057Z"
    }
   },
   "outputs": [
    {
     "data": {
      "text/plain": [
       "158344"
      ]
     },
     "execution_count": 10,
     "metadata": {},
     "output_type": "execute_result"
    }
   ],
   "source": [
    "((df_cleaned['Hour'] > 20) | (df_cleaned['Hour'] < 4)).sum()"
   ]
  },
  {
   "cell_type": "code",
   "execution_count": 11,
   "id": "1b942681",
   "metadata": {
    "ExecuteTime": {
     "end_time": "2022-10-14T03:36:14.943895Z",
     "start_time": "2022-10-14T03:36:14.912978Z"
    }
   },
   "outputs": [
    {
     "data": {
      "text/plain": [
       "397375"
      ]
     },
     "execution_count": 11,
     "metadata": {},
     "output_type": "execute_result"
    }
   ],
   "source": [
    "((df_cleaned['Hour'] <= 20) & (df_cleaned['Hour'] >= 4)).sum()"
   ]
  },
  {
   "cell_type": "code",
   "execution_count": 12,
   "id": "d170a71f",
   "metadata": {
    "ExecuteTime": {
     "end_time": "2022-10-14T03:36:14.959853Z",
     "start_time": "2022-10-14T03:36:14.944893Z"
    }
   },
   "outputs": [
    {
     "data": {
      "text/plain": [
       "555719"
      ]
     },
     "execution_count": 12,
     "metadata": {},
     "output_type": "execute_result"
    }
   ],
   "source": [
    "158344 + 397375"
   ]
  },
  {
   "cell_type": "markdown",
   "id": "320daae9",
   "metadata": {},
   "source": [
    "### Comments:\n",
    "<br>\n",
    "1) We must get 397,375 Night and 158,344 Day\n",
    "<br>\n",
    "<br>"
   ]
  },
  {
   "cell_type": "code",
   "execution_count": 13,
   "id": "71532bee",
   "metadata": {
    "ExecuteTime": {
     "end_time": "2022-10-14T03:36:15.039639Z",
     "start_time": "2022-10-14T03:36:14.962845Z"
    }
   },
   "outputs": [],
   "source": [
    "conditions = [((df_cleaned['Hour'] > 20) | (df_cleaned['Hour'] < 4)),\n",
    "             ((df_cleaned['Hour'] <= 20) & (df_cleaned['Hour'] >= 4))]\n",
    "value = ['Night', 'Day']\n",
    "\n",
    "df_cleaned['Hour'] = np.select(condlist=conditions, choicelist=value)"
   ]
  },
  {
   "cell_type": "code",
   "execution_count": 14,
   "id": "4918bfcc",
   "metadata": {
    "ExecuteTime": {
     "end_time": "2022-10-14T03:36:15.087510Z",
     "start_time": "2022-10-14T03:36:15.040637Z"
    }
   },
   "outputs": [
    {
     "data": {
      "text/plain": [
       "Day      397375\n",
       "Night    158344\n",
       "Name: Hour, dtype: int64"
      ]
     },
     "execution_count": 14,
     "metadata": {},
     "output_type": "execute_result"
    }
   ],
   "source": [
    "df_cleaned['Hour'].value_counts()"
   ]
  },
  {
   "cell_type": "markdown",
   "id": "5ab96a30",
   "metadata": {},
   "source": [
    "## Task 3"
   ]
  },
  {
   "cell_type": "code",
   "execution_count": 15,
   "id": "b2e6ae67",
   "metadata": {
    "ExecuteTime": {
     "end_time": "2022-10-14T03:36:15.103468Z",
     "start_time": "2022-10-14T03:36:15.089506Z"
    }
   },
   "outputs": [
    {
     "data": {
      "text/plain": [
       "17"
      ]
     },
     "execution_count": 15,
     "metadata": {},
     "output_type": "execute_result"
    }
   ],
   "source": [
    "df_cleaned['Age'].min()"
   ]
  },
  {
   "cell_type": "code",
   "execution_count": 16,
   "id": "e0fac53a",
   "metadata": {
    "ExecuteTime": {
     "end_time": "2022-10-14T03:36:15.134385Z",
     "start_time": "2022-10-14T03:36:15.104466Z"
    }
   },
   "outputs": [
    {
     "data": {
      "text/plain": [
       "98"
      ]
     },
     "execution_count": 16,
     "metadata": {},
     "output_type": "execute_result"
    }
   ],
   "source": [
    "df_cleaned['Age'].max()"
   ]
  },
  {
   "cell_type": "code",
   "execution_count": 17,
   "id": "dfca8eaf",
   "metadata": {
    "ExecuteTime": {
     "end_time": "2022-10-14T03:36:15.181260Z",
     "start_time": "2022-10-14T03:36:15.135384Z"
    }
   },
   "outputs": [
    {
     "data": {
      "text/plain": [
       "45595"
      ]
     },
     "execution_count": 17,
     "metadata": {},
     "output_type": "execute_result"
    }
   ],
   "source": [
    "((df_cleaned['Age'] >= 77) & (df_cleaned['Age'] <= 98)).sum()"
   ]
  },
  {
   "cell_type": "code",
   "execution_count": 18,
   "id": "5d3fcbf6",
   "metadata": {
    "ExecuteTime": {
     "end_time": "2022-10-14T03:36:15.197217Z",
     "start_time": "2022-10-14T03:36:15.182258Z"
    }
   },
   "outputs": [
    {
     "data": {
      "text/plain": [
       "108275"
      ]
     },
     "execution_count": 18,
     "metadata": {},
     "output_type": "execute_result"
    }
   ],
   "source": [
    "((df_cleaned['Age'] >= 58) & (df_cleaned['Age'] < 77)).sum()"
   ]
  },
  {
   "cell_type": "code",
   "execution_count": 19,
   "id": "5d2ee151",
   "metadata": {
    "ExecuteTime": {
     "end_time": "2022-10-14T03:36:15.213176Z",
     "start_time": "2022-10-14T03:36:15.199213Z"
    }
   },
   "outputs": [
    {
     "data": {
      "text/plain": [
       "184129"
      ]
     },
     "execution_count": 19,
     "metadata": {},
     "output_type": "execute_result"
    }
   ],
   "source": [
    "((df_cleaned['Age'] >= 42) & (df_cleaned['Age'] < 58)).sum()"
   ]
  },
  {
   "cell_type": "code",
   "execution_count": 20,
   "id": "a86ea980",
   "metadata": {
    "ExecuteTime": {
     "end_time": "2022-10-14T03:36:15.245090Z",
     "start_time": "2022-10-14T03:36:15.215169Z"
    }
   },
   "outputs": [
    {
     "data": {
      "text/plain": [
       "177031"
      ]
     },
     "execution_count": 20,
     "metadata": {},
     "output_type": "execute_result"
    }
   ],
   "source": [
    "((df_cleaned['Age'] >= 26) & (df_cleaned['Age'] < 42)).sum()"
   ]
  },
  {
   "cell_type": "code",
   "execution_count": 21,
   "id": "6b3d7498",
   "metadata": {
    "ExecuteTime": {
     "end_time": "2022-10-14T03:36:15.261047Z",
     "start_time": "2022-10-14T03:36:15.247085Z"
    }
   },
   "outputs": [
    {
     "data": {
      "text/plain": [
       "40689"
      ]
     },
     "execution_count": 21,
     "metadata": {},
     "output_type": "execute_result"
    }
   ],
   "source": [
    "(df_cleaned['Age'] < 26).sum()"
   ]
  },
  {
   "cell_type": "code",
   "execution_count": 22,
   "id": "6ed60e86",
   "metadata": {
    "ExecuteTime": {
     "end_time": "2022-10-14T03:36:15.277004Z",
     "start_time": "2022-10-14T03:36:15.262044Z"
    }
   },
   "outputs": [
    {
     "data": {
      "text/plain": [
       "555719"
      ]
     },
     "execution_count": 22,
     "metadata": {},
     "output_type": "execute_result"
    }
   ],
   "source": [
    "45595 + 108275 + 184129 + 177031 + 40689"
   ]
  },
  {
   "cell_type": "markdown",
   "id": "491cf535",
   "metadata": {},
   "source": [
    "### Comments:\n",
    "<br>\n",
    "1) We must get 45,595 Silent Generation, 108,275 Boomers, 184,129 Gen X, 177,031 Millennials and 40,689 Gen Z\n",
    "<br>\n",
    "<br>"
   ]
  },
  {
   "cell_type": "code",
   "execution_count": 23,
   "id": "668d01c9",
   "metadata": {
    "ExecuteTime": {
     "end_time": "2022-10-14T03:36:15.528332Z",
     "start_time": "2022-10-14T03:36:15.279000Z"
    }
   },
   "outputs": [],
   "source": [
    "conditions = [((df_cleaned['Age'] >= 77) & (df_cleaned['Age'] <= 98)),\n",
    "             ((df_cleaned['Age'] >= 58) & (df_cleaned['Age'] < 77)),\n",
    "             ((df_cleaned['Age'] >= 42) & (df_cleaned['Age'] < 58)),\n",
    "             ((df_cleaned['Age'] >= 26) & (df_cleaned['Age'] < 42)),\n",
    "             (df_cleaned['Age'] < 26)] \n",
    "value = ['Silent', 'Boomers', 'Gen X', 'Millennials', 'Gen Z']\n",
    "\n",
    "df_cleaned['Age'] = np.select(condlist=conditions, choicelist=value);"
   ]
  },
  {
   "cell_type": "code",
   "execution_count": 24,
   "id": "d535ecad",
   "metadata": {
    "ExecuteTime": {
     "end_time": "2022-10-14T03:36:15.576204Z",
     "start_time": "2022-10-14T03:36:15.530328Z"
    }
   },
   "outputs": [
    {
     "data": {
      "text/plain": [
       "Gen X          184129\n",
       "Millennials    177031\n",
       "Boomers        108275\n",
       "Silent          45595\n",
       "Gen Z           40689\n",
       "Name: Age, dtype: int64"
      ]
     },
     "execution_count": 24,
     "metadata": {},
     "output_type": "execute_result"
    }
   ],
   "source": [
    "df_cleaned['Age'].value_counts()"
   ]
  },
  {
   "cell_type": "markdown",
   "id": "67efa89a",
   "metadata": {},
   "source": [
    "## Task 6"
   ]
  },
  {
   "cell_type": "code",
   "execution_count": 25,
   "id": "f3e7d0ee",
   "metadata": {
    "ExecuteTime": {
     "end_time": "2022-10-14T03:36:15.608119Z",
     "start_time": "2022-10-14T03:36:15.578199Z"
    }
   },
   "outputs": [
    {
     "data": {
      "text/html": [
       "<div>\n",
       "<style scoped>\n",
       "    .dataframe tbody tr th:only-of-type {\n",
       "        vertical-align: middle;\n",
       "    }\n",
       "\n",
       "    .dataframe tbody tr th {\n",
       "        vertical-align: top;\n",
       "    }\n",
       "\n",
       "    .dataframe thead th {\n",
       "        text-align: right;\n",
       "    }\n",
       "</style>\n",
       "<table border=\"1\" class=\"dataframe\">\n",
       "  <thead>\n",
       "    <tr style=\"text-align: right;\">\n",
       "      <th></th>\n",
       "      <th>amt</th>\n",
       "      <th>category</th>\n",
       "      <th>gender</th>\n",
       "      <th>city_pop</th>\n",
       "      <th>Hour</th>\n",
       "      <th>Day</th>\n",
       "      <th>Age</th>\n",
       "      <th>is_fraud</th>\n",
       "    </tr>\n",
       "  </thead>\n",
       "  <tbody>\n",
       "    <tr>\n",
       "      <th>0</th>\n",
       "      <td>2.86</td>\n",
       "      <td>personal care</td>\n",
       "      <td>M</td>\n",
       "      <td>City</td>\n",
       "      <td>Day</td>\n",
       "      <td>Sun</td>\n",
       "      <td>Gen X</td>\n",
       "      <td>0</td>\n",
       "    </tr>\n",
       "    <tr>\n",
       "      <th>1</th>\n",
       "      <td>29.84</td>\n",
       "      <td>personal care</td>\n",
       "      <td>F</td>\n",
       "      <td>Rural</td>\n",
       "      <td>Day</td>\n",
       "      <td>Sun</td>\n",
       "      <td>Millennials</td>\n",
       "      <td>0</td>\n",
       "    </tr>\n",
       "    <tr>\n",
       "      <th>2</th>\n",
       "      <td>41.28</td>\n",
       "      <td>health fitness</td>\n",
       "      <td>F</td>\n",
       "      <td>Town</td>\n",
       "      <td>Day</td>\n",
       "      <td>Sun</td>\n",
       "      <td>Gen X</td>\n",
       "      <td>0</td>\n",
       "    </tr>\n",
       "    <tr>\n",
       "      <th>3</th>\n",
       "      <td>60.05</td>\n",
       "      <td>misc pos</td>\n",
       "      <td>M</td>\n",
       "      <td>City</td>\n",
       "      <td>Day</td>\n",
       "      <td>Sun</td>\n",
       "      <td>Millennials</td>\n",
       "      <td>0</td>\n",
       "    </tr>\n",
       "    <tr>\n",
       "      <th>4</th>\n",
       "      <td>3.19</td>\n",
       "      <td>travel</td>\n",
       "      <td>M</td>\n",
       "      <td>Rural</td>\n",
       "      <td>Day</td>\n",
       "      <td>Sun</td>\n",
       "      <td>Boomers</td>\n",
       "      <td>0</td>\n",
       "    </tr>\n",
       "  </tbody>\n",
       "</table>\n",
       "</div>"
      ],
      "text/plain": [
       "     amt        category gender city_pop Hour  Day          Age  is_fraud\n",
       "0   2.86   personal care      M     City  Day  Sun        Gen X         0\n",
       "1  29.84   personal care      F    Rural  Day  Sun  Millennials         0\n",
       "2  41.28  health fitness      F     Town  Day  Sun        Gen X         0\n",
       "3  60.05        misc pos      M     City  Day  Sun  Millennials         0\n",
       "4   3.19          travel      M    Rural  Day  Sun      Boomers         0"
      ]
     },
     "execution_count": 25,
     "metadata": {},
     "output_type": "execute_result"
    }
   ],
   "source": [
    "df_cleaned.head()"
   ]
  },
  {
   "cell_type": "code",
   "execution_count": 26,
   "id": "b81379ef",
   "metadata": {
    "ExecuteTime": {
     "end_time": "2022-10-14T03:36:15.925270Z",
     "start_time": "2022-10-14T03:36:15.609116Z"
    }
   },
   "outputs": [
    {
     "name": "stdout",
     "output_type": "stream",
     "text": [
      "<class 'pandas.core.frame.DataFrame'>\n",
      "RangeIndex: 555719 entries, 0 to 555718\n",
      "Data columns (total 8 columns):\n",
      " #   Column    Non-Null Count   Dtype  \n",
      "---  ------    --------------   -----  \n",
      " 0   amt       555719 non-null  float64\n",
      " 1   category  555719 non-null  object \n",
      " 2   gender    555719 non-null  object \n",
      " 3   city_pop  555719 non-null  object \n",
      " 4   Hour      555719 non-null  object \n",
      " 5   Day       555719 non-null  object \n",
      " 6   Age       555719 non-null  object \n",
      " 7   is_fraud  555719 non-null  int64  \n",
      "dtypes: float64(1), int64(1), object(6)\n",
      "memory usage: 33.9+ MB\n"
     ]
    }
   ],
   "source": [
    "df_cleaned.info()"
   ]
  },
  {
   "cell_type": "code",
   "execution_count": 27,
   "id": "314e6843",
   "metadata": {
    "ExecuteTime": {
     "end_time": "2022-10-14T03:36:16.244417Z",
     "start_time": "2022-10-14T03:36:15.927265Z"
    }
   },
   "outputs": [
    {
     "data": {
      "text/html": [
       "<div>\n",
       "<style scoped>\n",
       "    .dataframe tbody tr th:only-of-type {\n",
       "        vertical-align: middle;\n",
       "    }\n",
       "\n",
       "    .dataframe tbody tr th {\n",
       "        vertical-align: top;\n",
       "    }\n",
       "\n",
       "    .dataframe thead th {\n",
       "        text-align: right;\n",
       "    }\n",
       "</style>\n",
       "<table border=\"1\" class=\"dataframe\">\n",
       "  <thead>\n",
       "    <tr style=\"text-align: right;\">\n",
       "      <th></th>\n",
       "      <th>amt</th>\n",
       "      <th>is_fraud</th>\n",
       "      <th>category_food dining</th>\n",
       "      <th>category_gas transport</th>\n",
       "      <th>category_grocery net</th>\n",
       "      <th>category_grocery pos</th>\n",
       "      <th>category_health fitness</th>\n",
       "      <th>category_home</th>\n",
       "      <th>category_kids pets</th>\n",
       "      <th>category_misc net</th>\n",
       "      <th>...</th>\n",
       "      <th>Day_Mon</th>\n",
       "      <th>Day_Sat</th>\n",
       "      <th>Day_Sun</th>\n",
       "      <th>Day_Thurs</th>\n",
       "      <th>Day_Tues</th>\n",
       "      <th>Day_Weds</th>\n",
       "      <th>Age_Gen X</th>\n",
       "      <th>Age_Gen Z</th>\n",
       "      <th>Age_Millennials</th>\n",
       "      <th>Age_Silent</th>\n",
       "    </tr>\n",
       "  </thead>\n",
       "  <tbody>\n",
       "    <tr>\n",
       "      <th>0</th>\n",
       "      <td>2.86</td>\n",
       "      <td>0</td>\n",
       "      <td>0</td>\n",
       "      <td>0</td>\n",
       "      <td>0</td>\n",
       "      <td>0</td>\n",
       "      <td>0</td>\n",
       "      <td>0</td>\n",
       "      <td>0</td>\n",
       "      <td>0</td>\n",
       "      <td>...</td>\n",
       "      <td>0</td>\n",
       "      <td>0</td>\n",
       "      <td>1</td>\n",
       "      <td>0</td>\n",
       "      <td>0</td>\n",
       "      <td>0</td>\n",
       "      <td>1</td>\n",
       "      <td>0</td>\n",
       "      <td>0</td>\n",
       "      <td>0</td>\n",
       "    </tr>\n",
       "    <tr>\n",
       "      <th>1</th>\n",
       "      <td>29.84</td>\n",
       "      <td>0</td>\n",
       "      <td>0</td>\n",
       "      <td>0</td>\n",
       "      <td>0</td>\n",
       "      <td>0</td>\n",
       "      <td>0</td>\n",
       "      <td>0</td>\n",
       "      <td>0</td>\n",
       "      <td>0</td>\n",
       "      <td>...</td>\n",
       "      <td>0</td>\n",
       "      <td>0</td>\n",
       "      <td>1</td>\n",
       "      <td>0</td>\n",
       "      <td>0</td>\n",
       "      <td>0</td>\n",
       "      <td>0</td>\n",
       "      <td>0</td>\n",
       "      <td>1</td>\n",
       "      <td>0</td>\n",
       "    </tr>\n",
       "    <tr>\n",
       "      <th>2</th>\n",
       "      <td>41.28</td>\n",
       "      <td>0</td>\n",
       "      <td>0</td>\n",
       "      <td>0</td>\n",
       "      <td>0</td>\n",
       "      <td>0</td>\n",
       "      <td>1</td>\n",
       "      <td>0</td>\n",
       "      <td>0</td>\n",
       "      <td>0</td>\n",
       "      <td>...</td>\n",
       "      <td>0</td>\n",
       "      <td>0</td>\n",
       "      <td>1</td>\n",
       "      <td>0</td>\n",
       "      <td>0</td>\n",
       "      <td>0</td>\n",
       "      <td>1</td>\n",
       "      <td>0</td>\n",
       "      <td>0</td>\n",
       "      <td>0</td>\n",
       "    </tr>\n",
       "    <tr>\n",
       "      <th>3</th>\n",
       "      <td>60.05</td>\n",
       "      <td>0</td>\n",
       "      <td>0</td>\n",
       "      <td>0</td>\n",
       "      <td>0</td>\n",
       "      <td>0</td>\n",
       "      <td>0</td>\n",
       "      <td>0</td>\n",
       "      <td>0</td>\n",
       "      <td>0</td>\n",
       "      <td>...</td>\n",
       "      <td>0</td>\n",
       "      <td>0</td>\n",
       "      <td>1</td>\n",
       "      <td>0</td>\n",
       "      <td>0</td>\n",
       "      <td>0</td>\n",
       "      <td>0</td>\n",
       "      <td>0</td>\n",
       "      <td>1</td>\n",
       "      <td>0</td>\n",
       "    </tr>\n",
       "    <tr>\n",
       "      <th>4</th>\n",
       "      <td>3.19</td>\n",
       "      <td>0</td>\n",
       "      <td>0</td>\n",
       "      <td>0</td>\n",
       "      <td>0</td>\n",
       "      <td>0</td>\n",
       "      <td>0</td>\n",
       "      <td>0</td>\n",
       "      <td>0</td>\n",
       "      <td>0</td>\n",
       "      <td>...</td>\n",
       "      <td>0</td>\n",
       "      <td>0</td>\n",
       "      <td>1</td>\n",
       "      <td>0</td>\n",
       "      <td>0</td>\n",
       "      <td>0</td>\n",
       "      <td>0</td>\n",
       "      <td>0</td>\n",
       "      <td>0</td>\n",
       "      <td>0</td>\n",
       "    </tr>\n",
       "  </tbody>\n",
       "</table>\n",
       "<p>5 rows × 29 columns</p>\n",
       "</div>"
      ],
      "text/plain": [
       "     amt  is_fraud  category_food dining  category_gas transport  \\\n",
       "0   2.86         0                     0                       0   \n",
       "1  29.84         0                     0                       0   \n",
       "2  41.28         0                     0                       0   \n",
       "3  60.05         0                     0                       0   \n",
       "4   3.19         0                     0                       0   \n",
       "\n",
       "   category_grocery net  category_grocery pos  category_health fitness  \\\n",
       "0                     0                     0                        0   \n",
       "1                     0                     0                        0   \n",
       "2                     0                     0                        1   \n",
       "3                     0                     0                        0   \n",
       "4                     0                     0                        0   \n",
       "\n",
       "   category_home  category_kids pets  category_misc net  ...  Day_Mon  \\\n",
       "0              0                   0                  0  ...        0   \n",
       "1              0                   0                  0  ...        0   \n",
       "2              0                   0                  0  ...        0   \n",
       "3              0                   0                  0  ...        0   \n",
       "4              0                   0                  0  ...        0   \n",
       "\n",
       "   Day_Sat  Day_Sun  Day_Thurs  Day_Tues  Day_Weds  Age_Gen X  Age_Gen Z  \\\n",
       "0        0        1          0         0         0          1          0   \n",
       "1        0        1          0         0         0          0          0   \n",
       "2        0        1          0         0         0          1          0   \n",
       "3        0        1          0         0         0          0          0   \n",
       "4        0        1          0         0         0          0          0   \n",
       "\n",
       "   Age_Millennials  Age_Silent  \n",
       "0                0           0  \n",
       "1                1           0  \n",
       "2                0           0  \n",
       "3                1           0  \n",
       "4                0           0  \n",
       "\n",
       "[5 rows x 29 columns]"
      ]
     },
     "execution_count": 27,
     "metadata": {},
     "output_type": "execute_result"
    }
   ],
   "source": [
    "df_cleaned = pd.get_dummies(data=df_cleaned , drop_first=True)\n",
    "df_cleaned.head()"
   ]
  },
  {
   "cell_type": "markdown",
   "id": "d2368a04",
   "metadata": {},
   "source": [
    "## Task 7"
   ]
  },
  {
   "cell_type": "code",
   "execution_count": 28,
   "id": "f40958b1",
   "metadata": {
    "ExecuteTime": {
     "end_time": "2022-10-14T03:36:16.260374Z",
     "start_time": "2022-10-14T03:36:16.248406Z"
    }
   },
   "outputs": [],
   "source": [
    "def calculate_vif(df, features):    \n",
    "    vif, tolerance = {}, {}\n",
    "    # all the features that you want to examine\n",
    "    for feature in features:\n",
    "        # extract all the other features you will regress against\n",
    "        X = [f for f in features if f != feature]        \n",
    "        X, y = df[X], df[feature]\n",
    "        # extract r-squared from the fit\n",
    "        r2 = LinearRegression().fit(X, y).score(X, y)                \n",
    "        \n",
    "        # calculate tolerance\n",
    "        tolerance[feature] = 1 - r2\n",
    "        # calculate VIF\n",
    "        vif[feature] = 1/(tolerance[feature])\n",
    "    # return VIF DataFrame\n",
    "    return pd.DataFrame({'VIF': vif, 'Tolerance': tolerance})"
   ]
  },
  {
   "cell_type": "code",
   "execution_count": 29,
   "id": "65bc1888",
   "metadata": {
    "ExecuteTime": {
     "end_time": "2022-10-14T03:36:28.479691Z",
     "start_time": "2022-10-14T03:36:16.261371Z"
    }
   },
   "outputs": [
    {
     "data": {
      "image/png": "[encoded data removed]",
      "text/plain": [
       "<Figure size 1000x800 with 1 Axes>"
      ]
     },
     "metadata": {},
     "output_type": "display_data"
    }
   ],
   "source": [
    "#Calculating VIF\n",
    "VIF = calculate_vif(df=df_cleaned.drop(labels='is_fraud', axis=1), features=df_cleaned.drop(labels='is_fraud', axis=1).columns).sort_values(by='VIF', ascending=False).head(10)\n",
    "\n",
    "#Setting Size of Chart\n",
    "sns.set(rc={'figure.figsize':(10,8)})\n",
    "\n",
    "#Plotting VIF\n",
    "fig = sns.barplot(data=VIF, x='VIF', y=VIF.index)\n",
    "\n",
    "#Adding values to charts\n",
    "for p in fig.patches:\n",
    "    width = p.get_width()\n",
    "    plt.text(0.05+ p.get_width(), p.get_y() + 0.55*p.get_height(), '{:1.2f}'.format(width))\n",
    "\n",
    "# Update title\n",
    "plt.title('VIF', fontsize=16)\n",
    "\n",
    "# Show chart\n",
    "plt.show();"
   ]
  },
  {
   "cell_type": "markdown",
   "id": "ded2c9fb",
   "metadata": {},
   "source": [
    "### Comments:\n",
    "<br>\n",
    "1) All the VIF values are below 5 indicating moderate correlation between the features."
   ]
  },
  {
   "cell_type": "markdown",
   "id": "20c7fa7e",
   "metadata": {},
   "source": [
    "## Task 8"
   ]
  },
  {
   "cell_type": "code",
   "execution_count": 30,
   "id": "b6b633e5",
   "metadata": {
    "ExecuteTime": {
     "end_time": "2022-10-14T03:36:28.511604Z",
     "start_time": "2022-10-14T03:36:28.480688Z"
    }
   },
   "outputs": [],
   "source": [
    "X = df_cleaned.drop(labels='is_fraud', axis=1)\n",
    "y = df_cleaned['is_fraud']"
   ]
  },
  {
   "cell_type": "code",
   "execution_count": 31,
   "id": "f3963444",
   "metadata": {
    "ExecuteTime": {
     "end_time": "2022-10-14T03:36:28.527562Z",
     "start_time": "2022-10-14T03:36:28.512602Z"
    }
   },
   "outputs": [
    {
     "data": {
      "text/plain": [
       "(555719, 28)"
      ]
     },
     "execution_count": 31,
     "metadata": {},
     "output_type": "execute_result"
    }
   ],
   "source": [
    "X.shape"
   ]
  },
  {
   "cell_type": "code",
   "execution_count": 32,
   "id": "47cafcf1",
   "metadata": {
    "ExecuteTime": {
     "end_time": "2022-10-14T03:36:28.543519Z",
     "start_time": "2022-10-14T03:36:28.528560Z"
    }
   },
   "outputs": [
    {
     "data": {
      "text/plain": [
       "(555719,)"
      ]
     },
     "execution_count": 32,
     "metadata": {},
     "output_type": "execute_result"
    }
   ],
   "source": [
    "y.shape"
   ]
  },
  {
   "cell_type": "code",
   "execution_count": 33,
   "id": "0156b947",
   "metadata": {
    "ExecuteTime": {
     "end_time": "2022-10-14T03:36:28.780884Z",
     "start_time": "2022-10-14T03:36:28.544517Z"
    }
   },
   "outputs": [],
   "source": [
    "X_train, X_test, y_train, y_test = train_test_split(X, y, test_size=0.3, random_state=42, stratify=y)"
   ]
  },
  {
   "cell_type": "code",
   "execution_count": 34,
   "id": "fcc05876",
   "metadata": {
    "ExecuteTime": {
     "end_time": "2022-10-14T03:36:28.890591Z",
     "start_time": "2022-10-14T03:36:28.781882Z"
    }
   },
   "outputs": [],
   "source": [
    "y_train.to_pickle('./Data/y_train.pkl')\n",
    "y_test.to_pickle('./Data/y_test.pkl')"
   ]
  },
  {
   "cell_type": "markdown",
   "id": "4d870b6a",
   "metadata": {},
   "source": [
    "## Task 9"
   ]
  },
  {
   "cell_type": "code",
   "execution_count": 35,
   "id": "101f9710",
   "metadata": {
    "ExecuteTime": {
     "end_time": "2022-10-14T03:36:28.906549Z",
     "start_time": "2022-10-14T03:36:28.891589Z"
    }
   },
   "outputs": [],
   "source": [
    "X_train_ss = X_train\n",
    "X_test_ss = X_test"
   ]
  },
  {
   "cell_type": "code",
   "execution_count": 36,
   "id": "8ca71788",
   "metadata": {
    "ExecuteTime": {
     "end_time": "2022-10-14T03:36:28.938462Z",
     "start_time": "2022-10-14T03:36:28.907546Z"
    }
   },
   "outputs": [],
   "source": [
    "ss = StandardScaler()\n",
    "X_train_ss['amt'] = ss.fit_transform(X_train_ss[['amt']])\n",
    "X_test_ss['amt'] = ss.transform(X_test_ss[['amt']])"
   ]
  },
  {
   "cell_type": "code",
   "execution_count": 37,
   "id": "431bddab",
   "metadata": {
    "ExecuteTime": {
     "end_time": "2022-10-14T03:36:28.954420Z",
     "start_time": "2022-10-14T03:36:28.939461Z"
    }
   },
   "outputs": [],
   "source": [
    "X_train_ss.to_pickle('./Data/Standard Scaler/X_train_ss.pkl')\n",
    "X_test_ss.to_pickle('./Data/Standard Scaler/X_test_ss.pkl')"
   ]
  },
  {
   "cell_type": "markdown",
   "id": "2e296bdc",
   "metadata": {},
   "source": [
    "## Task 10"
   ]
  },
  {
   "cell_type": "code",
   "execution_count": 38,
   "id": "6867af49",
   "metadata": {
    "ExecuteTime": {
     "end_time": "2022-10-14T03:36:28.970377Z",
     "start_time": "2022-10-14T03:36:28.955418Z"
    }
   },
   "outputs": [],
   "source": [
    "X_train_mms = X_train\n",
    "X_test_mms = X_test"
   ]
  },
  {
   "cell_type": "code",
   "execution_count": 39,
   "id": "16c622f0",
   "metadata": {
    "ExecuteTime": {
     "end_time": "2022-10-14T03:36:28.986335Z",
     "start_time": "2022-10-14T03:36:28.971375Z"
    }
   },
   "outputs": [],
   "source": [
    "mms = MinMaxScaler()\n",
    "X_train_mms['amt'] = mms.fit_transform(X_train_mms[['amt']])\n",
    "X_test_mms['amt'] = mms.transform(X_test_mms[['amt']])"
   ]
  },
  {
   "cell_type": "code",
   "execution_count": 40,
   "id": "7c563d1a",
   "metadata": {
    "ExecuteTime": {
     "end_time": "2022-10-14T03:36:29.002292Z",
     "start_time": "2022-10-14T03:36:28.988330Z"
    }
   },
   "outputs": [],
   "source": [
    "X_train_mms.to_pickle('./Data/Min Max Scaler/X_train_mms.pkl')\n",
    "X_test_mms.to_pickle('./Data/Min Max Scaler/X_test_mms.pkl')"
   ]
  }
 ],
 "metadata": {
  "kernelspec": {
   "display_name": "Python 3.9.13 ('base')",
   "language": "python",
   "name": "python3"
  },
  "language_info": {
   "codemirror_mode": {
    "name": "ipython",
    "version": 3
   },
   "file_extension": ".py",
   "mimetype": "text/x-python",
   "name": "python",
   "nbconvert_exporter": "python",
   "pygments_lexer": "ipython3",
   "version": "3.9.13"
  },
  "vscode": {
   "interpreter": {
    "hash": "25ef22b608f107f99fc89be5151915a078ade7f4644b28f8bf4c3008377631f6"
   }
  }
 },
 "nbformat": 4,
 "nbformat_minor": 5
}
