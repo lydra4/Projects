{
 "cells": [
  {
   "cell_type": "markdown",
   "id": "9ab688a8",
   "metadata": {},
   "source": [
    "# Capstone Section 4: Hyperparameter Tuning (Random Forest)\n",
    "<br>\n",
    "\n",
    "## Task\n",
    "<br>\n",
    "\n",
    "1) I will tune the hyperparameters of Random Forest on train data that has been normalized with standard scaler and another set of train data normalized with min max scaler"
   ]
  },
  {
   "cell_type": "markdown",
   "id": "cdbe5c97",
   "metadata": {},
   "source": [
    "## Importing Libraries"
   ]
  },
  {
   "cell_type": "code",
   "execution_count": 1,
   "id": "b0139c80",
   "metadata": {
    "ExecuteTime": {
     "end_time": "2022-10-11T22:35:40.268378Z",
     "start_time": "2022-10-11T22:35:38.622695Z"
    }
   },
   "outputs": [],
   "source": [
    "import os\n",
    "import gc\n",
    "import joblib\n",
    "import pandas as pd\n",
    "from IPython.display import display, Javascript\n",
    "from sklearn.model_selection import GridSearchCV\n",
    "from sklearn.ensemble import RandomForestClassifier"
   ]
  },
  {
   "cell_type": "markdown",
   "id": "63d2c2a1",
   "metadata": {},
   "source": [
    "## Reading Data Files"
   ]
  },
  {
   "cell_type": "code",
   "execution_count": 2,
   "id": "642c932c",
   "metadata": {
    "ExecuteTime": {
     "end_time": "2022-10-11T22:35:40.910662Z",
     "start_time": "2022-10-11T22:35:40.270350Z"
    }
   },
   "outputs": [],
   "source": [
    "X_train_ss = pd.read_pickle('./Data/Standard Scaler/X_train_ss.pkl')\n",
    "X_train_mms = pd.read_pickle('./Data/Min Max Scaler/X_train_mms.pkl')\n",
    "y_train = pd.read_pickle('./Data/y_train.pkl')"
   ]
  },
  {
   "cell_type": "markdown",
   "id": "ef7c6fb8",
   "metadata": {},
   "source": [
    "## Hyperparameter Tuning (Standard Scaler)"
   ]
  },
  {
   "cell_type": "code",
   "execution_count": 3,
   "id": "3065cb21",
   "metadata": {
    "ExecuteTime": {
     "end_time": "2022-10-12T00:01:58.354371Z",
     "start_time": "2022-10-11T22:35:40.911634Z"
    }
   },
   "outputs": [
    {
     "data": {
      "text/plain": [
       "GridSearchCV(cv=3, estimator=RandomForestClassifier(), n_jobs=-1,\n",
       "             param_grid={'class_weight': ['balanced'],\n",
       "                         'max_depth': [50, 100, 150, 200],\n",
       "                         'max_features': [5, 10, 15, 20, 25, 28],\n",
       "                         'min_samples_leaf': [30, 40, 50],\n",
       "                         'min_samples_split': [30, 40, 50]},\n",
       "             scoring='recall')"
      ]
     },
     "execution_count": 3,
     "metadata": {},
     "output_type": "execute_result"
    }
   ],
   "source": [
    "rfc = RandomForestClassifier()\n",
    "\n",
    "param_grid = { 'max_depth':[50,100,150,200], \n",
    "              'max_features':[5,10,15,20,25,28], \n",
    "              'min_samples_split':[30,40,50], \n",
    "              'min_samples_leaf':[30,40,50],\n",
    "              'class_weight':['balanced']\n",
    "             }\n",
    "\n",
    "gs_ss_rfc = GridSearchCV(estimator=rfc, \n",
    "                          param_grid=param_grid, \n",
    "                          cv=3, \n",
    "                          scoring='recall',\n",
    "                          n_jobs=-1) \n",
    "\n",
    "gs_ss_rfc.fit(X_train_ss,y_train)"
   ]
  },
  {
   "cell_type": "code",
   "execution_count": 4,
   "id": "f195115b",
   "metadata": {
    "ExecuteTime": {
     "end_time": "2022-10-12T00:01:58.799156Z",
     "start_time": "2022-10-12T00:01:58.356342Z"
    }
   },
   "outputs": [
    {
     "data": {
      "text/plain": [
       "['./Data/Machine Learning Model/Random Forest/gs_ss_rfc.pkl']"
      ]
     },
     "execution_count": 4,
     "metadata": {},
     "output_type": "execute_result"
    }
   ],
   "source": [
    "joblib.dump(gs_ss_rfc, './Data/Machine Learning Model/Random Forest/gs_ss_rfc.pkl')"
   ]
  },
  {
   "cell_type": "markdown",
   "id": "2c9c21ea",
   "metadata": {},
   "source": [
    "## Hyperparameter Tuning (Min Max Scaler)"
   ]
  },
  {
   "cell_type": "code",
   "execution_count": 5,
   "id": "9f9f753d",
   "metadata": {
    "ExecuteTime": {
     "end_time": "2022-10-12T01:28:11.431007Z",
     "start_time": "2022-10-12T00:01:58.800154Z"
    }
   },
   "outputs": [
    {
     "data": {
      "text/plain": [
       "GridSearchCV(cv=3, estimator=RandomForestClassifier(), n_jobs=-1,\n",
       "             param_grid={'class_weight': ['balanced'],\n",
       "                         'max_depth': [50, 100, 150, 200],\n",
       "                         'max_features': [5, 10, 15, 20, 25, 28],\n",
       "                         'min_samples_leaf': [30, 40, 50],\n",
       "                         'min_samples_split': [30, 40, 50]},\n",
       "             scoring='recall')"
      ]
     },
     "execution_count": 5,
     "metadata": {},
     "output_type": "execute_result"
    }
   ],
   "source": [
    "rfc = RandomForestClassifier()\n",
    "\n",
    "param_grid = { 'max_depth':[50,100,150,200], \n",
    "              'max_features':[5,10,15,20,25,28], \n",
    "              'min_samples_split':[30,40,50], \n",
    "              'min_samples_leaf':[30,40,50],\n",
    "              'class_weight':['balanced']\n",
    "             }\n",
    "\n",
    "gs_mms_rfc = GridSearchCV(estimator=rfc, \n",
    "                          param_grid=param_grid, \n",
    "                          cv=3,\n",
    "                          scoring='recall',\n",
    "                          n_jobs=-1) \n",
    "\n",
    "gs_mms_rfc.fit(X_train_mms,y_train)"
   ]
  },
  {
   "cell_type": "code",
   "execution_count": 6,
   "id": "fd3ab5ec",
   "metadata": {
    "ExecuteTime": {
     "end_time": "2022-10-12T01:28:11.920329Z",
     "start_time": "2022-10-12T01:28:11.432005Z"
    }
   },
   "outputs": [
    {
     "data": {
      "text/plain": [
       "['./Data/Machine Learning Model/Random Forest/gs_mms_rfc.pkl']"
      ]
     },
     "execution_count": 6,
     "metadata": {},
     "output_type": "execute_result"
    }
   ],
   "source": [
    "joblib.dump(gs_mms_rfc, './Data/Machine Learning Model/Random Forest/gs_mms_rfc.pkl')"
   ]
  },
  {
   "cell_type": "code",
   "execution_count": null,
   "id": "6c02c23e",
   "metadata": {
    "ExecuteTime": {
     "start_time": "2022-10-11T22:35:38.626Z"
    }
   },
   "outputs": [],
   "source": [
    "display(Javascript('IPython.notebook.save_checkpoint();'))"
   ]
  },
  {
   "cell_type": "code",
   "execution_count": null,
   "id": "6052f5b2",
   "metadata": {
    "ExecuteTime": {
     "start_time": "2022-10-11T22:35:38.627Z"
    }
   },
   "outputs": [],
   "source": [
    "os.system('shutdown -s')"
   ]
  }
 ],
 "metadata": {
  "kernelspec": {
   "display_name": "Python 3.9.13 ('base')",
   "language": "python",
   "name": "python3"
  },
  "language_info": {
   "codemirror_mode": {
    "name": "ipython",
    "version": 3
   },
   "file_extension": ".py",
   "mimetype": "text/x-python",
   "name": "python",
   "nbconvert_exporter": "python",
   "pygments_lexer": "ipython3",
   "version": "3.9.13"
  },
  "vscode": {
   "interpreter": {
    "hash": "25ef22b608f107f99fc89be5151915a078ade7f4644b28f8bf4c3008377631f6"
   }
  }
 },
 "nbformat": 4,
 "nbformat_minor": 5
}
