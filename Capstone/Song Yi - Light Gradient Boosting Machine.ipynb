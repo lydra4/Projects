{
 "cells": [
  {
   "cell_type": "markdown",
   "id": "439da097",
   "metadata": {},
   "source": [
    "# Capstone Section 4: Hyperparameter Tuning (Light Gradient Boosting Machine)\n",
    "<br>\n",
    "\n",
    "## Task\n",
    "<br>\n",
    "\n",
    "1) I will tune the hyperparameters of Light Gradient Boosting Machine on train data that has been normalized with standard scaler and another set of train data normalized with min max scaler"
   ]
  },
  {
   "cell_type": "markdown",
   "id": "cc370ffe",
   "metadata": {},
   "source": [
    "## Importing Libraries"
   ]
  },
  {
   "cell_type": "code",
   "execution_count": 4,
   "id": "64616e50",
   "metadata": {
    "ExecuteTime": {
     "end_time": "2022-10-08T16:16:00.273288Z",
     "start_time": "2022-10-08T16:16:00.259325Z"
    }
   },
   "outputs": [],
   "source": [
    "import os\n",
    "import gc\n",
    "import joblib\n",
    "import pandas as pd\n",
    "from lightgbm import LGBMClassifier\n",
    "from IPython.display import display, Javascript\n",
    "from sklearn.model_selection import GridSearchCV"
   ]
  },
  {
   "cell_type": "markdown",
   "id": "c934addc",
   "metadata": {},
   "source": [
    "## Reading Data Files"
   ]
  },
  {
   "cell_type": "code",
   "execution_count": 5,
   "id": "93db3c40",
   "metadata": {
    "ExecuteTime": {
     "end_time": "2022-10-08T16:16:00.304514Z",
     "start_time": "2022-10-08T16:16:00.275294Z"
    }
   },
   "outputs": [],
   "source": [
    "X_train_ss = pd.read_pickle('./Data/Standard Scaler/X_train_ss.pkl')\n",
    "X_train_mms = pd.read_pickle('./Data/Min Max Scaler/X_train_mms.pkl')\n",
    "y_train = pd.read_pickle('./Data/y_train.pkl')"
   ]
  },
  {
   "cell_type": "markdown",
   "id": "0ef876ed",
   "metadata": {},
   "source": [
    "## Hyperparameter Tuning (Standard Scaler)"
   ]
  },
  {
   "cell_type": "code",
   "execution_count": null,
   "id": "81ec53f4",
   "metadata": {
    "ExecuteTime": {
     "start_time": "2022-10-08T16:16:00.261Z"
    }
   },
   "outputs": [],
   "source": [
    "lgbm = LGBMClassifier(objective='binary', learning_rate=0.01)\n",
    "\n",
    "param_grid = {\n",
    "    'num_leaves': [5,10,15,20,25,30,35,45,50],\n",
    "    'reg_alpha': [0.1,0.2,0.3,0.4, 0.5,0.6],\n",
    "    'n_estimators': [100,200,300,400,500],\n",
    "    'max_depth': [5,10,15,20,25,30,35,45,50],\n",
    "    'class_weight':['balanced']\n",
    "    }\n",
    "\n",
    "gs_ss_lgbm = GridSearchCV(estimator=lgbm, \n",
    "                          param_grid=param_grid, \n",
    "                          cv=3,\n",
    "                          n_jobs=-1)\n",
    "\n",
    "gs_ss_lgbm.fit(X_train_ss, y_train)"
   ]
  },
  {
   "cell_type": "markdown",
   "id": "24a99c61",
   "metadata": {},
   "source": [
    "## Saving Machine Learning Model"
   ]
  },
  {
   "cell_type": "code",
   "execution_count": null,
   "id": "97912ad4",
   "metadata": {
    "ExecuteTime": {
     "start_time": "2022-10-08T16:16:00.264Z"
    }
   },
   "outputs": [],
   "source": [
    "joblib.dump(gs_ss_lgbm, './Data/Machine Learning Model/Light Gradient Boosting Machine/gs_ss_lgbm.pkl')"
   ]
  },
  {
   "cell_type": "markdown",
   "id": "1226d044",
   "metadata": {},
   "source": [
    "## Hyperparameter Tuning (Min Max Scaler)"
   ]
  },
  {
   "cell_type": "code",
   "execution_count": null,
   "id": "862628f2",
   "metadata": {
    "ExecuteTime": {
     "start_time": "2022-10-08T16:16:00.265Z"
    }
   },
   "outputs": [],
   "source": [
    "lgbm = LGBMClassifier(objective='binary', learning_rate=0.01)\n",
    "\n",
    "param_grid = {\n",
    "    'num_leaves': [5,10,15,20,25,30,35,45,50],\n",
    "    'reg_alpha': [0.1,0.2,0.3,0.4, 0.5,0.6],\n",
    "    'n_estimators': [100,200,300,400,500],\n",
    "    'max_depth': [5,10,15,20,25,30,35,45,50],\n",
    "    'class_weight':['balanced']\n",
    "    }\n",
    "\n",
    "gs_mms_lgbm = GridSearchCV(estimator=lgbm, \n",
    "                          param_grid=param_grid, \n",
    "                          cv=3,\n",
    "                          n_jobs=-1)\n",
    "\n",
    "gs_mms_lgbm.fit(X_train_mms, y_train)"
   ]
  },
  {
   "cell_type": "markdown",
   "id": "ab184c0d",
   "metadata": {},
   "source": [
    "## Saving Machine Learning Model"
   ]
  },
  {
   "cell_type": "code",
   "execution_count": null,
   "id": "ff5fdf72",
   "metadata": {
    "ExecuteTime": {
     "start_time": "2022-10-08T16:16:00.266Z"
    }
   },
   "outputs": [],
   "source": [
    "joblib.dump(gs_mms_lgbm, './Data/Machine Learning Model/Light Gradient Boosting Machine/gs_mms_lgbm.pkl')"
   ]
  },
  {
   "cell_type": "code",
   "execution_count": null,
   "id": "f871230f",
   "metadata": {
    "ExecuteTime": {
     "start_time": "2022-10-08T16:16:00.267Z"
    }
   },
   "outputs": [],
   "source": [
    "display(Javascript('IPython.notebook.save_checkpoint();'))"
   ]
  },
  {
   "cell_type": "code",
   "execution_count": null,
   "id": "ce4bb426",
   "metadata": {
    "ExecuteTime": {
     "start_time": "2022-10-08T16:16:00.268Z"
    }
   },
   "outputs": [],
   "source": [
    "os.system('shutdown -s')"
   ]
  }
 ],
 "metadata": {
  "kernelspec": {
   "display_name": "Python 3 (ipykernel)",
   "language": "python",
   "name": "python3"
  },
  "language_info": {
   "codemirror_mode": {
    "name": "ipython",
    "version": 3
   },
   "file_extension": ".py",
   "mimetype": "text/x-python",
   "name": "python",
   "nbconvert_exporter": "python",
   "pygments_lexer": "ipython3",
   "version": "3.9.13"
  }
 },
 "nbformat": 4,
 "nbformat_minor": 5
}
