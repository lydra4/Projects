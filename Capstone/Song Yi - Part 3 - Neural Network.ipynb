{
 "cells": [
  {
   "cell_type": "markdown",
   "id": "de9eccc3",
   "metadata": {},
   "source": [
    "# Capstone Section 4: Hyperparameter Tuning (Neural Network)\n",
    "<br>\n",
    "\n",
    "## Task\n",
    "<br>\n",
    "\n",
    "1) I will tune the hyperparameters of Neural Network on train data that has been normalized with standard scaler and another set of train data normalized with min max scaler"
   ]
  },
  {
   "cell_type": "markdown",
   "id": "85d8dfe5",
   "metadata": {},
   "source": [
    "## Importing Libraries"
   ]
  },
  {
   "cell_type": "code",
   "execution_count": 1,
   "id": "50242d62",
   "metadata": {
    "ExecuteTime": {
     "end_time": "2022-10-12T03:23:40.697063Z",
     "start_time": "2022-10-12T03:23:34.218394Z"
    }
   },
   "outputs": [],
   "source": [
    "import os\n",
    "import joblib\n",
    "import pandas as pd\n",
    "import tensorflow as tf\n",
    "from tensorflow.keras.layers import Dense\n",
    "from sklearn.compose import ColumnTransformer\n",
    "from sklearn.preprocessing import LabelEncoder\n",
    "from tensorflow.keras.models import Sequential\n",
    "from sklearn.preprocessing import OneHotEncoder\n",
    "from IPython.display import display, Javascript\n",
    "from sklearn.preprocessing import StandardScaler\n",
    "from sklearn.model_selection import GridSearchCV\n",
    "from keras.wrappers.scikit_learn import KerasClassifier"
   ]
  },
  {
   "cell_type": "markdown",
   "id": "04bf6c97",
   "metadata": {},
   "source": [
    "## Reading Data Files"
   ]
  },
  {
   "cell_type": "code",
   "execution_count": 2,
   "id": "ead06c6a",
   "metadata": {
    "ExecuteTime": {
     "end_time": "2022-10-12T03:23:41.345329Z",
     "start_time": "2022-10-12T03:23:40.700066Z"
    }
   },
   "outputs": [],
   "source": [
    "X_train_ss = pd.read_pickle('./Data/Standard Scaler/X_train_ss.pkl')\n",
    "X_train_mms = pd.read_pickle('./Data/Min Max Scaler/X_train_mms.pkl')\n",
    "y_train = pd.read_pickle('./Data/y_train.pkl')"
   ]
  },
  {
   "cell_type": "markdown",
   "id": "8134e51c",
   "metadata": {},
   "source": [
    "## Define Model in a Function"
   ]
  },
  {
   "cell_type": "code",
   "execution_count": 3,
   "id": "3795db44",
   "metadata": {
    "ExecuteTime": {
     "end_time": "2022-10-12T03:23:41.361286Z",
     "start_time": "2022-10-12T03:23:41.346327Z"
    }
   },
   "outputs": [],
   "source": [
    "def build_clf(unit):\n",
    "    \n",
    "  # creating the layers of the NN\n",
    "  model = Sequential()\n",
    "  model.add(Dense(units=unit, activation='relu'))\n",
    "  model.add(Dense(units=unit, activation='relu'))\n",
    "  model.add(Dense(units=1, activation='sigmoid'))\n",
    "  model.compile(optimizer = 'adam', loss = 'binary_crossentropy', metrics = ['recall'])\n",
    "    \n",
    "  return model"
   ]
  },
  {
   "cell_type": "markdown",
   "id": "f61b04c5",
   "metadata": {},
   "source": [
    "## Hyperparameter Tuning (Standard Scaler)"
   ]
  },
  {
   "cell_type": "code",
   "execution_count": 4,
   "id": "06fe014b",
   "metadata": {
    "ExecuteTime": {
     "end_time": "2022-10-12T03:23:46.092631Z",
     "start_time": "2022-10-12T03:23:41.363282Z"
    }
   },
   "outputs": [
    {
     "name": "stderr",
     "output_type": "stream",
     "text": [
      "C:\\Users\\lydra\\AppData\\Local\\Temp\\ipykernel_6924\\400422683.py:1: DeprecationWarning: KerasClassifier is deprecated, use Sci-Keras (https://github.com/adriangb/scikeras) instead. See https://www.adriangb.com/scikeras/stable/migration.html for help migrating.\n",
      "  neural_network = KerasClassifier(build_fn=build_clf)\n",
      "exception calling callback for <Future at 0x1a88bd7e7c0 state=finished raised TerminatedWorkerError>\n",
      "Traceback (most recent call last):\n",
      "  File \"c:\\Users\\lydra\\anaconda3\\lib\\site-packages\\joblib\\externals\\loky\\_base.py\", line 625, in _invoke_callbacks\n",
      "    callback(self)\n",
      "  File \"c:\\Users\\lydra\\anaconda3\\lib\\site-packages\\joblib\\parallel.py\", line 359, in __call__\n",
      "    self.parallel.dispatch_next()\n",
      "  File \"c:\\Users\\lydra\\anaconda3\\lib\\site-packages\\joblib\\parallel.py\", line 794, in dispatch_next\n",
      "    if not self.dispatch_one_batch(self._original_iterator):\n",
      "  File \"c:\\Users\\lydra\\anaconda3\\lib\\site-packages\\joblib\\parallel.py\", line 861, in dispatch_one_batch\n",
      "    self._dispatch(tasks)\n",
      "  File \"c:\\Users\\lydra\\anaconda3\\lib\\site-packages\\joblib\\parallel.py\", line 779, in _dispatch\n",
      "    job = self._backend.apply_async(batch, callback=cb)\n",
      "  File \"c:\\Users\\lydra\\anaconda3\\lib\\site-packages\\joblib\\_parallel_backends.py\", line 531, in apply_async\n",
      "    future = self._workers.submit(SafeFunction(func))\n",
      "  File \"c:\\Users\\lydra\\anaconda3\\lib\\site-packages\\joblib\\externals\\loky\\reusable_executor.py\", line 177, in submit\n",
      "    return super(_ReusablePoolExecutor, self).submit(\n",
      "  File \"c:\\Users\\lydra\\anaconda3\\lib\\site-packages\\joblib\\externals\\loky\\process_executor.py\", line 1115, in submit\n",
      "    raise self._flags.broken\n",
      "joblib.externals.loky.process_executor.TerminatedWorkerError: A worker process managed by the executor was unexpectedly terminated. This could be caused by a segmentation fault while calling the function or by an excessive memory usage causing the Operating System to kill the worker.\n",
      "\n"
     ]
    },
    {
     "ename": "TerminatedWorkerError",
     "evalue": "A worker process managed by the executor was unexpectedly terminated. This could be caused by a segmentation fault while calling the function or by an excessive memory usage causing the Operating System to kill the worker.\n",
     "output_type": "error",
     "traceback": [
      "\u001b[1;31m---------------------------------------------------------------------------\u001b[0m",
      "\u001b[1;31mTerminatedWorkerError\u001b[0m                     Traceback (most recent call last)",
      "\u001b[1;32me:\\GA_DSIF5 Copy\\Personal\\Projects\\Capstone\\Song Yi - Part 3 - Neural Network.ipynb Cell 9\u001b[0m in \u001b[0;36m<cell line: 11>\u001b[1;34m()\u001b[0m\n\u001b[0;32m      <a href='vscode-notebook-cell:/e%3A/GA_DSIF5%20Copy/Personal/Projects/Capstone/Song%20Yi%20-%20Part%203%20-%20Neural%20Network.ipynb#X11sZmlsZQ%3D%3D?line=3'>4</a>\u001b[0m params\u001b[39m=\u001b[39m{\u001b[39m'\u001b[39m\u001b[39mbatch_size\u001b[39m\u001b[39m'\u001b[39m:[\u001b[39m100\u001b[39m, \u001b[39m20\u001b[39m, \u001b[39m50\u001b[39m, \u001b[39m25\u001b[39m, \u001b[39m32\u001b[39m], \n\u001b[0;32m      <a href='vscode-notebook-cell:/e%3A/GA_DSIF5%20Copy/Personal/Projects/Capstone/Song%20Yi%20-%20Part%203%20-%20Neural%20Network.ipynb#X11sZmlsZQ%3D%3D?line=4'>5</a>\u001b[0m         \u001b[39m'\u001b[39m\u001b[39mnb_epoch\u001b[39m\u001b[39m'\u001b[39m:[\u001b[39m200\u001b[39m, \u001b[39m100\u001b[39m, \u001b[39m300\u001b[39m, \u001b[39m400\u001b[39m],\n\u001b[0;32m      <a href='vscode-notebook-cell:/e%3A/GA_DSIF5%20Copy/Personal/Projects/Capstone/Song%20Yi%20-%20Part%203%20-%20Neural%20Network.ipynb#X11sZmlsZQ%3D%3D?line=5'>6</a>\u001b[0m         \u001b[39m'\u001b[39m\u001b[39munit\u001b[39m\u001b[39m'\u001b[39m:[\u001b[39m5\u001b[39m,\u001b[39m6\u001b[39m, \u001b[39m10\u001b[39m, \u001b[39m11\u001b[39m, \u001b[39m12\u001b[39m, \u001b[39m15\u001b[39m]\n\u001b[0;32m      <a href='vscode-notebook-cell:/e%3A/GA_DSIF5%20Copy/Personal/Projects/Capstone/Song%20Yi%20-%20Part%203%20-%20Neural%20Network.ipynb#X11sZmlsZQ%3D%3D?line=6'>7</a>\u001b[0m        }\n\u001b[0;32m      <a href='vscode-notebook-cell:/e%3A/GA_DSIF5%20Copy/Personal/Projects/Capstone/Song%20Yi%20-%20Part%203%20-%20Neural%20Network.ipynb#X11sZmlsZQ%3D%3D?line=8'>9</a>\u001b[0m gs_ss_nn \u001b[39m=\u001b[39m GridSearchCV(estimator\u001b[39m=\u001b[39mneural_network, param_grid\u001b[39m=\u001b[39mparams, cv\u001b[39m=\u001b[39m\u001b[39m3\u001b[39m, n_jobs\u001b[39m=\u001b[39m\u001b[39m-\u001b[39m\u001b[39m2\u001b[39m)\n\u001b[1;32m---> <a href='vscode-notebook-cell:/e%3A/GA_DSIF5%20Copy/Personal/Projects/Capstone/Song%20Yi%20-%20Part%203%20-%20Neural%20Network.ipynb#X11sZmlsZQ%3D%3D?line=10'>11</a>\u001b[0m gs_ss_nn\u001b[39m.\u001b[39;49mfit(X_train_ss, y_train)\n",
      "File \u001b[1;32mc:\\Users\\lydra\\anaconda3\\lib\\site-packages\\sklearn\\model_selection\\_search.py:891\u001b[0m, in \u001b[0;36mBaseSearchCV.fit\u001b[1;34m(self, X, y, groups, **fit_params)\u001b[0m\n\u001b[0;32m    885\u001b[0m     results \u001b[39m=\u001b[39m \u001b[39mself\u001b[39m\u001b[39m.\u001b[39m_format_results(\n\u001b[0;32m    886\u001b[0m         all_candidate_params, n_splits, all_out, all_more_results\n\u001b[0;32m    887\u001b[0m     )\n\u001b[0;32m    889\u001b[0m     \u001b[39mreturn\u001b[39;00m results\n\u001b[1;32m--> 891\u001b[0m \u001b[39mself\u001b[39;49m\u001b[39m.\u001b[39;49m_run_search(evaluate_candidates)\n\u001b[0;32m    893\u001b[0m \u001b[39m# multimetric is determined here because in the case of a callable\u001b[39;00m\n\u001b[0;32m    894\u001b[0m \u001b[39m# self.scoring the return type is only known after calling\u001b[39;00m\n\u001b[0;32m    895\u001b[0m first_test_score \u001b[39m=\u001b[39m all_out[\u001b[39m0\u001b[39m][\u001b[39m\"\u001b[39m\u001b[39mtest_scores\u001b[39m\u001b[39m\"\u001b[39m]\n",
      "File \u001b[1;32mc:\\Users\\lydra\\anaconda3\\lib\\site-packages\\sklearn\\model_selection\\_search.py:1392\u001b[0m, in \u001b[0;36mGridSearchCV._run_search\u001b[1;34m(self, evaluate_candidates)\u001b[0m\n\u001b[0;32m   1390\u001b[0m \u001b[39mdef\u001b[39;00m \u001b[39m_run_search\u001b[39m(\u001b[39mself\u001b[39m, evaluate_candidates):\n\u001b[0;32m   1391\u001b[0m     \u001b[39m\"\"\"Search all candidates in param_grid\"\"\"\u001b[39;00m\n\u001b[1;32m-> 1392\u001b[0m     evaluate_candidates(ParameterGrid(\u001b[39mself\u001b[39;49m\u001b[39m.\u001b[39;49mparam_grid))\n",
      "File \u001b[1;32mc:\\Users\\lydra\\anaconda3\\lib\\site-packages\\sklearn\\model_selection\\_search.py:838\u001b[0m, in \u001b[0;36mBaseSearchCV.fit.<locals>.evaluate_candidates\u001b[1;34m(candidate_params, cv, more_results)\u001b[0m\n\u001b[0;32m    830\u001b[0m \u001b[39mif\u001b[39;00m \u001b[39mself\u001b[39m\u001b[39m.\u001b[39mverbose \u001b[39m>\u001b[39m \u001b[39m0\u001b[39m:\n\u001b[0;32m    831\u001b[0m     \u001b[39mprint\u001b[39m(\n\u001b[0;32m    832\u001b[0m         \u001b[39m\"\u001b[39m\u001b[39mFitting \u001b[39m\u001b[39m{0}\u001b[39;00m\u001b[39m folds for each of \u001b[39m\u001b[39m{1}\u001b[39;00m\u001b[39m candidates,\u001b[39m\u001b[39m\"\u001b[39m\n\u001b[0;32m    833\u001b[0m         \u001b[39m\"\u001b[39m\u001b[39m totalling \u001b[39m\u001b[39m{2}\u001b[39;00m\u001b[39m fits\u001b[39m\u001b[39m\"\u001b[39m\u001b[39m.\u001b[39mformat(\n\u001b[0;32m    834\u001b[0m             n_splits, n_candidates, n_candidates \u001b[39m*\u001b[39m n_splits\n\u001b[0;32m    835\u001b[0m         )\n\u001b[0;32m    836\u001b[0m     )\n\u001b[1;32m--> 838\u001b[0m out \u001b[39m=\u001b[39m parallel(\n\u001b[0;32m    839\u001b[0m     delayed(_fit_and_score)(\n\u001b[0;32m    840\u001b[0m         clone(base_estimator),\n\u001b[0;32m    841\u001b[0m         X,\n\u001b[0;32m    842\u001b[0m         y,\n\u001b[0;32m    843\u001b[0m         train\u001b[39m=\u001b[39;49mtrain,\n\u001b[0;32m    844\u001b[0m         test\u001b[39m=\u001b[39;49mtest,\n\u001b[0;32m    845\u001b[0m         parameters\u001b[39m=\u001b[39;49mparameters,\n\u001b[0;32m    846\u001b[0m         split_progress\u001b[39m=\u001b[39;49m(split_idx, n_splits),\n\u001b[0;32m    847\u001b[0m         candidate_progress\u001b[39m=\u001b[39;49m(cand_idx, n_candidates),\n\u001b[0;32m    848\u001b[0m         \u001b[39m*\u001b[39;49m\u001b[39m*\u001b[39;49mfit_and_score_kwargs,\n\u001b[0;32m    849\u001b[0m     )\n\u001b[0;32m    850\u001b[0m     \u001b[39mfor\u001b[39;49;00m (cand_idx, parameters), (split_idx, (train, test)) \u001b[39min\u001b[39;49;00m product(\n\u001b[0;32m    851\u001b[0m         \u001b[39menumerate\u001b[39;49m(candidate_params), \u001b[39menumerate\u001b[39;49m(cv\u001b[39m.\u001b[39;49msplit(X, y, groups))\n\u001b[0;32m    852\u001b[0m     )\n\u001b[0;32m    853\u001b[0m )\n\u001b[0;32m    855\u001b[0m \u001b[39mif\u001b[39;00m \u001b[39mlen\u001b[39m(out) \u001b[39m<\u001b[39m \u001b[39m1\u001b[39m:\n\u001b[0;32m    856\u001b[0m     \u001b[39mraise\u001b[39;00m \u001b[39mValueError\u001b[39;00m(\n\u001b[0;32m    857\u001b[0m         \u001b[39m\"\u001b[39m\u001b[39mNo fits were performed. \u001b[39m\u001b[39m\"\u001b[39m\n\u001b[0;32m    858\u001b[0m         \u001b[39m\"\u001b[39m\u001b[39mWas the CV iterator empty? \u001b[39m\u001b[39m\"\u001b[39m\n\u001b[0;32m    859\u001b[0m         \u001b[39m\"\u001b[39m\u001b[39mWere there no candidates?\u001b[39m\u001b[39m\"\u001b[39m\n\u001b[0;32m    860\u001b[0m     )\n",
      "File \u001b[1;32mc:\\Users\\lydra\\anaconda3\\lib\\site-packages\\joblib\\parallel.py:1056\u001b[0m, in \u001b[0;36mParallel.__call__\u001b[1;34m(self, iterable)\u001b[0m\n\u001b[0;32m   1053\u001b[0m     \u001b[39mself\u001b[39m\u001b[39m.\u001b[39m_iterating \u001b[39m=\u001b[39m \u001b[39mFalse\u001b[39;00m\n\u001b[0;32m   1055\u001b[0m \u001b[39mwith\u001b[39;00m \u001b[39mself\u001b[39m\u001b[39m.\u001b[39m_backend\u001b[39m.\u001b[39mretrieval_context():\n\u001b[1;32m-> 1056\u001b[0m     \u001b[39mself\u001b[39;49m\u001b[39m.\u001b[39;49mretrieve()\n\u001b[0;32m   1057\u001b[0m \u001b[39m# Make sure that we get a last message telling us we are done\u001b[39;00m\n\u001b[0;32m   1058\u001b[0m elapsed_time \u001b[39m=\u001b[39m time\u001b[39m.\u001b[39mtime() \u001b[39m-\u001b[39m \u001b[39mself\u001b[39m\u001b[39m.\u001b[39m_start_time\n",
      "File \u001b[1;32mc:\\Users\\lydra\\anaconda3\\lib\\site-packages\\joblib\\parallel.py:935\u001b[0m, in \u001b[0;36mParallel.retrieve\u001b[1;34m(self)\u001b[0m\n\u001b[0;32m    933\u001b[0m \u001b[39mtry\u001b[39;00m:\n\u001b[0;32m    934\u001b[0m     \u001b[39mif\u001b[39;00m \u001b[39mgetattr\u001b[39m(\u001b[39mself\u001b[39m\u001b[39m.\u001b[39m_backend, \u001b[39m'\u001b[39m\u001b[39msupports_timeout\u001b[39m\u001b[39m'\u001b[39m, \u001b[39mFalse\u001b[39;00m):\n\u001b[1;32m--> 935\u001b[0m         \u001b[39mself\u001b[39m\u001b[39m.\u001b[39m_output\u001b[39m.\u001b[39mextend(job\u001b[39m.\u001b[39;49mget(timeout\u001b[39m=\u001b[39;49m\u001b[39mself\u001b[39;49m\u001b[39m.\u001b[39;49mtimeout))\n\u001b[0;32m    936\u001b[0m     \u001b[39melse\u001b[39;00m:\n\u001b[0;32m    937\u001b[0m         \u001b[39mself\u001b[39m\u001b[39m.\u001b[39m_output\u001b[39m.\u001b[39mextend(job\u001b[39m.\u001b[39mget())\n",
      "File \u001b[1;32mc:\\Users\\lydra\\anaconda3\\lib\\site-packages\\joblib\\_parallel_backends.py:542\u001b[0m, in \u001b[0;36mLokyBackend.wrap_future_result\u001b[1;34m(future, timeout)\u001b[0m\n\u001b[0;32m    539\u001b[0m \u001b[39m\"\"\"Wrapper for Future.result to implement the same behaviour as\u001b[39;00m\n\u001b[0;32m    540\u001b[0m \u001b[39mAsyncResults.get from multiprocessing.\"\"\"\u001b[39;00m\n\u001b[0;32m    541\u001b[0m \u001b[39mtry\u001b[39;00m:\n\u001b[1;32m--> 542\u001b[0m     \u001b[39mreturn\u001b[39;00m future\u001b[39m.\u001b[39;49mresult(timeout\u001b[39m=\u001b[39;49mtimeout)\n\u001b[0;32m    543\u001b[0m \u001b[39mexcept\u001b[39;00m CfTimeoutError \u001b[39mas\u001b[39;00m e:\n\u001b[0;32m    544\u001b[0m     \u001b[39mraise\u001b[39;00m \u001b[39mTimeoutError\u001b[39;00m \u001b[39mfrom\u001b[39;00m \u001b[39me\u001b[39;00m\n",
      "File \u001b[1;32mc:\\Users\\lydra\\anaconda3\\lib\\concurrent\\futures\\_base.py:446\u001b[0m, in \u001b[0;36mFuture.result\u001b[1;34m(self, timeout)\u001b[0m\n\u001b[0;32m    444\u001b[0m     \u001b[39mraise\u001b[39;00m CancelledError()\n\u001b[0;32m    445\u001b[0m \u001b[39melif\u001b[39;00m \u001b[39mself\u001b[39m\u001b[39m.\u001b[39m_state \u001b[39m==\u001b[39m FINISHED:\n\u001b[1;32m--> 446\u001b[0m     \u001b[39mreturn\u001b[39;00m \u001b[39mself\u001b[39;49m\u001b[39m.\u001b[39;49m__get_result()\n\u001b[0;32m    447\u001b[0m \u001b[39melse\u001b[39;00m:\n\u001b[0;32m    448\u001b[0m     \u001b[39mraise\u001b[39;00m \u001b[39mTimeoutError\u001b[39;00m()\n",
      "File \u001b[1;32mc:\\Users\\lydra\\anaconda3\\lib\\concurrent\\futures\\_base.py:391\u001b[0m, in \u001b[0;36mFuture.__get_result\u001b[1;34m(self)\u001b[0m\n\u001b[0;32m    389\u001b[0m \u001b[39mif\u001b[39;00m \u001b[39mself\u001b[39m\u001b[39m.\u001b[39m_exception:\n\u001b[0;32m    390\u001b[0m     \u001b[39mtry\u001b[39;00m:\n\u001b[1;32m--> 391\u001b[0m         \u001b[39mraise\u001b[39;00m \u001b[39mself\u001b[39m\u001b[39m.\u001b[39m_exception\n\u001b[0;32m    392\u001b[0m     \u001b[39mfinally\u001b[39;00m:\n\u001b[0;32m    393\u001b[0m         \u001b[39m# Break a reference cycle with the exception in self._exception\u001b[39;00m\n\u001b[0;32m    394\u001b[0m         \u001b[39mself\u001b[39m \u001b[39m=\u001b[39m \u001b[39mNone\u001b[39;00m\n",
      "File \u001b[1;32mc:\\Users\\lydra\\anaconda3\\lib\\site-packages\\joblib\\externals\\loky\\_base.py:625\u001b[0m, in \u001b[0;36mFuture._invoke_callbacks\u001b[1;34m(self)\u001b[0m\n\u001b[0;32m    623\u001b[0m \u001b[39mfor\u001b[39;00m callback \u001b[39min\u001b[39;00m \u001b[39mself\u001b[39m\u001b[39m.\u001b[39m_done_callbacks:\n\u001b[0;32m    624\u001b[0m     \u001b[39mtry\u001b[39;00m:\n\u001b[1;32m--> 625\u001b[0m         callback(\u001b[39mself\u001b[39;49m)\n\u001b[0;32m    626\u001b[0m     \u001b[39mexcept\u001b[39;00m \u001b[39mBaseException\u001b[39;00m:\n\u001b[0;32m    627\u001b[0m         LOGGER\u001b[39m.\u001b[39mexception(\u001b[39m'\u001b[39m\u001b[39mexception calling callback for \u001b[39m\u001b[39m%r\u001b[39;00m\u001b[39m'\u001b[39m, \u001b[39mself\u001b[39m)\n",
      "File \u001b[1;32mc:\\Users\\lydra\\anaconda3\\lib\\site-packages\\joblib\\parallel.py:359\u001b[0m, in \u001b[0;36mBatchCompletionCallBack.__call__\u001b[1;34m(self, out)\u001b[0m\n\u001b[0;32m    357\u001b[0m \u001b[39mwith\u001b[39;00m \u001b[39mself\u001b[39m\u001b[39m.\u001b[39mparallel\u001b[39m.\u001b[39m_lock:\n\u001b[0;32m    358\u001b[0m     \u001b[39mif\u001b[39;00m \u001b[39mself\u001b[39m\u001b[39m.\u001b[39mparallel\u001b[39m.\u001b[39m_original_iterator \u001b[39mis\u001b[39;00m \u001b[39mnot\u001b[39;00m \u001b[39mNone\u001b[39;00m:\n\u001b[1;32m--> 359\u001b[0m         \u001b[39mself\u001b[39;49m\u001b[39m.\u001b[39;49mparallel\u001b[39m.\u001b[39;49mdispatch_next()\n",
      "File \u001b[1;32mc:\\Users\\lydra\\anaconda3\\lib\\site-packages\\joblib\\parallel.py:794\u001b[0m, in \u001b[0;36mParallel.dispatch_next\u001b[1;34m(self)\u001b[0m\n\u001b[0;32m    786\u001b[0m \u001b[39mdef\u001b[39;00m \u001b[39mdispatch_next\u001b[39m(\u001b[39mself\u001b[39m):\n\u001b[0;32m    787\u001b[0m     \u001b[39m\"\"\"Dispatch more data for parallel processing\u001b[39;00m\n\u001b[0;32m    788\u001b[0m \n\u001b[0;32m    789\u001b[0m \u001b[39m    This method is meant to be called concurrently by the multiprocessing\u001b[39;00m\n\u001b[1;32m   (...)\u001b[0m\n\u001b[0;32m    792\u001b[0m \n\u001b[0;32m    793\u001b[0m \u001b[39m    \"\"\"\u001b[39;00m\n\u001b[1;32m--> 794\u001b[0m     \u001b[39mif\u001b[39;00m \u001b[39mnot\u001b[39;00m \u001b[39mself\u001b[39;49m\u001b[39m.\u001b[39;49mdispatch_one_batch(\u001b[39mself\u001b[39;49m\u001b[39m.\u001b[39;49m_original_iterator):\n\u001b[0;32m    795\u001b[0m         \u001b[39mself\u001b[39m\u001b[39m.\u001b[39m_iterating \u001b[39m=\u001b[39m \u001b[39mFalse\u001b[39;00m\n\u001b[0;32m    796\u001b[0m         \u001b[39mself\u001b[39m\u001b[39m.\u001b[39m_original_iterator \u001b[39m=\u001b[39m \u001b[39mNone\u001b[39;00m\n",
      "File \u001b[1;32mc:\\Users\\lydra\\anaconda3\\lib\\site-packages\\joblib\\parallel.py:861\u001b[0m, in \u001b[0;36mParallel.dispatch_one_batch\u001b[1;34m(self, iterator)\u001b[0m\n\u001b[0;32m    859\u001b[0m     \u001b[39mreturn\u001b[39;00m \u001b[39mFalse\u001b[39;00m\n\u001b[0;32m    860\u001b[0m \u001b[39melse\u001b[39;00m:\n\u001b[1;32m--> 861\u001b[0m     \u001b[39mself\u001b[39;49m\u001b[39m.\u001b[39;49m_dispatch(tasks)\n\u001b[0;32m    862\u001b[0m     \u001b[39mreturn\u001b[39;00m \u001b[39mTrue\u001b[39;00m\n",
      "File \u001b[1;32mc:\\Users\\lydra\\anaconda3\\lib\\site-packages\\joblib\\parallel.py:779\u001b[0m, in \u001b[0;36mParallel._dispatch\u001b[1;34m(self, batch)\u001b[0m\n\u001b[0;32m    777\u001b[0m \u001b[39mwith\u001b[39;00m \u001b[39mself\u001b[39m\u001b[39m.\u001b[39m_lock:\n\u001b[0;32m    778\u001b[0m     job_idx \u001b[39m=\u001b[39m \u001b[39mlen\u001b[39m(\u001b[39mself\u001b[39m\u001b[39m.\u001b[39m_jobs)\n\u001b[1;32m--> 779\u001b[0m     job \u001b[39m=\u001b[39m \u001b[39mself\u001b[39;49m\u001b[39m.\u001b[39;49m_backend\u001b[39m.\u001b[39;49mapply_async(batch, callback\u001b[39m=\u001b[39;49mcb)\n\u001b[0;32m    780\u001b[0m     \u001b[39m# A job can complete so quickly than its callback is\u001b[39;00m\n\u001b[0;32m    781\u001b[0m     \u001b[39m# called before we get here, causing self._jobs to\u001b[39;00m\n\u001b[0;32m    782\u001b[0m     \u001b[39m# grow. To ensure correct results ordering, .insert is\u001b[39;00m\n\u001b[0;32m    783\u001b[0m     \u001b[39m# used (rather than .append) in the following line\u001b[39;00m\n\u001b[0;32m    784\u001b[0m     \u001b[39mself\u001b[39m\u001b[39m.\u001b[39m_jobs\u001b[39m.\u001b[39minsert(job_idx, job)\n",
      "File \u001b[1;32mc:\\Users\\lydra\\anaconda3\\lib\\site-packages\\joblib\\_parallel_backends.py:531\u001b[0m, in \u001b[0;36mLokyBackend.apply_async\u001b[1;34m(self, func, callback)\u001b[0m\n\u001b[0;32m    529\u001b[0m \u001b[39mdef\u001b[39;00m \u001b[39mapply_async\u001b[39m(\u001b[39mself\u001b[39m, func, callback\u001b[39m=\u001b[39m\u001b[39mNone\u001b[39;00m):\n\u001b[0;32m    530\u001b[0m     \u001b[39m\"\"\"Schedule a func to be run\"\"\"\u001b[39;00m\n\u001b[1;32m--> 531\u001b[0m     future \u001b[39m=\u001b[39m \u001b[39mself\u001b[39;49m\u001b[39m.\u001b[39;49m_workers\u001b[39m.\u001b[39;49msubmit(SafeFunction(func))\n\u001b[0;32m    532\u001b[0m     future\u001b[39m.\u001b[39mget \u001b[39m=\u001b[39m functools\u001b[39m.\u001b[39mpartial(\u001b[39mself\u001b[39m\u001b[39m.\u001b[39mwrap_future_result, future)\n\u001b[0;32m    533\u001b[0m     \u001b[39mif\u001b[39;00m callback \u001b[39mis\u001b[39;00m \u001b[39mnot\u001b[39;00m \u001b[39mNone\u001b[39;00m:\n",
      "File \u001b[1;32mc:\\Users\\lydra\\anaconda3\\lib\\site-packages\\joblib\\externals\\loky\\reusable_executor.py:177\u001b[0m, in \u001b[0;36m_ReusablePoolExecutor.submit\u001b[1;34m(self, fn, *args, **kwargs)\u001b[0m\n\u001b[0;32m    175\u001b[0m \u001b[39mdef\u001b[39;00m \u001b[39msubmit\u001b[39m(\u001b[39mself\u001b[39m, fn, \u001b[39m*\u001b[39margs, \u001b[39m*\u001b[39m\u001b[39m*\u001b[39mkwargs):\n\u001b[0;32m    176\u001b[0m     \u001b[39mwith\u001b[39;00m \u001b[39mself\u001b[39m\u001b[39m.\u001b[39m_submit_resize_lock:\n\u001b[1;32m--> 177\u001b[0m         \u001b[39mreturn\u001b[39;00m \u001b[39msuper\u001b[39m(_ReusablePoolExecutor, \u001b[39mself\u001b[39m)\u001b[39m.\u001b[39msubmit(\n\u001b[0;32m    178\u001b[0m             fn, \u001b[39m*\u001b[39margs, \u001b[39m*\u001b[39m\u001b[39m*\u001b[39mkwargs)\n",
      "File \u001b[1;32mc:\\Users\\lydra\\anaconda3\\lib\\site-packages\\joblib\\externals\\loky\\process_executor.py:1115\u001b[0m, in \u001b[0;36mProcessPoolExecutor.submit\u001b[1;34m(self, fn, *args, **kwargs)\u001b[0m\n\u001b[0;32m   1113\u001b[0m \u001b[39mwith\u001b[39;00m \u001b[39mself\u001b[39m\u001b[39m.\u001b[39m_flags\u001b[39m.\u001b[39mshutdown_lock:\n\u001b[0;32m   1114\u001b[0m     \u001b[39mif\u001b[39;00m \u001b[39mself\u001b[39m\u001b[39m.\u001b[39m_flags\u001b[39m.\u001b[39mbroken \u001b[39mis\u001b[39;00m \u001b[39mnot\u001b[39;00m \u001b[39mNone\u001b[39;00m:\n\u001b[1;32m-> 1115\u001b[0m         \u001b[39mraise\u001b[39;00m \u001b[39mself\u001b[39m\u001b[39m.\u001b[39m_flags\u001b[39m.\u001b[39mbroken\n\u001b[0;32m   1116\u001b[0m     \u001b[39mif\u001b[39;00m \u001b[39mself\u001b[39m\u001b[39m.\u001b[39m_flags\u001b[39m.\u001b[39mshutdown:\n\u001b[0;32m   1117\u001b[0m         \u001b[39mraise\u001b[39;00m ShutdownExecutorError(\n\u001b[0;32m   1118\u001b[0m             \u001b[39m'\u001b[39m\u001b[39mcannot schedule new futures after shutdown\u001b[39m\u001b[39m'\u001b[39m)\n",
      "\u001b[1;31mTerminatedWorkerError\u001b[0m: A worker process managed by the executor was unexpectedly terminated. This could be caused by a segmentation fault while calling the function or by an excessive memory usage causing the Operating System to kill the worker.\n"
     ]
    }
   ],
   "source": [
    "neural_network = KerasClassifier(build_fn=build_clf)\n",
    "\n",
    "\n",
    "params={'batch_size':[100, 20, 50, 25, 32], \n",
    "        'nb_epoch':[200, 100, 300, 400],\n",
    "        'unit':[5,6, 10, 11, 12, 15]\n",
    "       }\n",
    "\n",
    "gs_ss_nn = GridSearchCV(estimator=neural_network, param_grid=params, cv=3, n_jobs=-2)\n",
    "\n",
    "gs_ss_nn.fit(X_train_ss, y_train)"
   ]
  },
  {
   "cell_type": "markdown",
   "id": "671ae6f4",
   "metadata": {},
   "source": [
    "## Saving Machine Learning Model"
   ]
  },
  {
   "cell_type": "code",
   "execution_count": null,
   "id": "dc64c85c",
   "metadata": {
    "ExecuteTime": {
     "end_time": "2022-10-12T03:23:46.094625Z",
     "start_time": "2022-10-12T03:23:46.094625Z"
    }
   },
   "outputs": [],
   "source": [
    "joblib.dump(gs_ss_nn, './Data/Machine Learning Model/Neural Network/gs_ss_nn.pkl')"
   ]
  },
  {
   "cell_type": "markdown",
   "id": "4039c2cb",
   "metadata": {},
   "source": [
    "## Hyperparameter Tuning (Min Max Scaler)"
   ]
  },
  {
   "cell_type": "code",
   "execution_count": null,
   "id": "19d84dca",
   "metadata": {
    "ExecuteTime": {
     "end_time": "2022-10-12T03:23:46.095623Z",
     "start_time": "2022-10-12T03:23:46.095623Z"
    }
   },
   "outputs": [],
   "source": [
    "neural_network = KerasClassifier(build_fn=build_clf)\n",
    "\n",
    "\n",
    "params={'batch_size':[100, 20, 50, 25, 32], \n",
    "        'nb_epoch':[200, 100, 300, 400],\n",
    "        'unit':[5,6, 10, 11, 12, 15]\n",
    "       }\n",
    "\n",
    "gs_mms_nn = GridSearchCV(estimator=neural_network, param_grid=params, cv=3, n_jobs=-2)\n",
    "\n",
    "gs_mms_nn.fit(X_train_mms, y_train)"
   ]
  },
  {
   "cell_type": "markdown",
   "id": "d54595f9",
   "metadata": {},
   "source": [
    "## Saving Machine Learning Model"
   ]
  },
  {
   "cell_type": "code",
   "execution_count": null,
   "id": "7fad6109",
   "metadata": {
    "ExecuteTime": {
     "end_time": "2022-10-12T03:23:46.096620Z",
     "start_time": "2022-10-12T03:23:46.096620Z"
    }
   },
   "outputs": [],
   "source": [
    "joblib.dump(gs_mms_nn,'./Data/Machine Learning Model/Neural Network/gs_mms_nn.pkl')"
   ]
  },
  {
   "cell_type": "code",
   "execution_count": null,
   "id": "734d4af9",
   "metadata": {
    "ExecuteTime": {
     "end_time": "2022-10-12T03:23:46.098614Z",
     "start_time": "2022-10-12T03:23:46.098614Z"
    }
   },
   "outputs": [],
   "source": [
    "display(Javascript('IPython.notebook.save_checkpoint();'))"
   ]
  },
  {
   "cell_type": "code",
   "execution_count": null,
   "id": "88eb74af",
   "metadata": {
    "ExecuteTime": {
     "end_time": "2022-10-12T03:23:46.100609Z",
     "start_time": "2022-10-12T03:23:46.100609Z"
    }
   },
   "outputs": [],
   "source": [
    "#os.system('shutdown -s')"
   ]
  }
 ],
 "metadata": {
  "kernelspec": {
   "display_name": "Python 3.9.13 ('base')",
   "language": "python",
   "name": "python3"
  },
  "language_info": {
   "codemirror_mode": {
    "name": "ipython",
    "version": 3
   },
   "file_extension": ".py",
   "mimetype": "text/x-python",
   "name": "python",
   "nbconvert_exporter": "python",
   "pygments_lexer": "ipython3",
   "version": "3.9.13"
  },
  "vscode": {
   "interpreter": {
    "hash": "25ef22b608f107f99fc89be5151915a078ade7f4644b28f8bf4c3008377631f6"
   }
  }
 },
 "nbformat": 4,
 "nbformat_minor": 5
}
