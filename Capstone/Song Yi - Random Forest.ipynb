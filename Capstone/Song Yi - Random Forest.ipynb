{
 "cells": [
  {
   "cell_type": "markdown",
   "id": "9ab688a8",
   "metadata": {},
   "source": [
    "# Capstone Section 4: Hyperparameter Tuning (Random Forest)\n",
    "<br>\n",
    "\n",
    "## Task\n",
    "<br>\n",
    "\n",
    "1) I will tune the hyperparameters of Random Forest on train data that has been normalized with standard scaler and another set of train data normalized with min max scaler"
   ]
  },
  {
   "cell_type": "markdown",
   "id": "cdbe5c97",
   "metadata": {},
   "source": [
    "## Importing Libraries"
   ]
  },
  {
   "cell_type": "code",
   "execution_count": 6,
   "id": "b0139c80",
   "metadata": {
    "ExecuteTime": {
     "end_time": "2022-10-08T10:20:23.173536Z",
     "start_time": "2022-10-08T10:20:23.168571Z"
    }
   },
   "outputs": [],
   "source": [
    "import os\n",
    "import gc\n",
    "import joblib\n",
    "import pandas as pd\n",
    "from IPython.display import display, Javascript\n",
    "from sklearn.model_selection import GridSearchCV\n",
    "from sklearn.ensemble import RandomForestClassifier"
   ]
  },
  {
   "cell_type": "markdown",
   "id": "63d2c2a1",
   "metadata": {},
   "source": [
    "## Reading Data Files"
   ]
  },
  {
   "cell_type": "code",
   "execution_count": 7,
   "id": "642c932c",
   "metadata": {
    "ExecuteTime": {
     "end_time": "2022-10-08T10:20:23.204734Z",
     "start_time": "2022-10-08T10:20:23.175552Z"
    }
   },
   "outputs": [],
   "source": [
    "X_train_ss = pd.read_pickle('./Data/Standard Scaler/X_train_ss.pkl')\n",
    "X_train_mms = pd.read_pickle('./Data/Min Max Scaler/X_train_mms.pkl')\n",
    "y_train = pd.read_pickle('./Data/y_train.pkl')"
   ]
  },
  {
   "cell_type": "markdown",
   "id": "ef7c6fb8",
   "metadata": {},
   "source": [
    "## Hyperparameter Tuning (Standard Scaler)"
   ]
  },
  {
   "cell_type": "code",
   "execution_count": 8,
   "id": "3065cb21",
   "metadata": {
    "ExecuteTime": {
     "end_time": "2022-10-08T11:45:39.337762Z",
     "start_time": "2022-10-08T10:20:23.205644Z"
    }
   },
   "outputs": [
    {
     "data": {
      "text/plain": [
       "GridSearchCV(cv=3, estimator=RandomForestClassifier(), n_jobs=-1,\n",
       "             param_grid={'class_weight': ['balanced'],\n",
       "                         'max_depth': [50, 100, 150, 200],\n",
       "                         'max_features': [5, 10, 15, 20, 25, 28],\n",
       "                         'min_samples_leaf': [30, 40, 50],\n",
       "                         'min_samples_split': [30, 40, 50]})"
      ]
     },
     "execution_count": 8,
     "metadata": {},
     "output_type": "execute_result"
    }
   ],
   "source": [
    "rfc = RandomForestClassifier()\n",
    "\n",
    "param_grid = { 'max_depth':[50,100,150,200], \n",
    "              'max_features':[5,10,15,20,25,28], \n",
    "              'min_samples_split':[30,40,50], \n",
    "              'min_samples_leaf':[30,40,50],\n",
    "              'class_weight':['balanced']\n",
    "             }\n",
    "\n",
    "gs_ss_rfc = GridSearchCV(estimator=rfc, \n",
    "                          param_grid=param_grid, \n",
    "                          cv=3, \n",
    "                          n_jobs=-1) \n",
    "\n",
    "gs_ss_rfc.fit(X_train_ss,y_train)"
   ]
  },
  {
   "cell_type": "code",
   "execution_count": 9,
   "id": "f195115b",
   "metadata": {
    "ExecuteTime": {
     "end_time": "2022-10-08T11:45:39.400513Z",
     "start_time": "2022-10-08T11:45:39.339736Z"
    }
   },
   "outputs": [
    {
     "data": {
      "text/plain": [
       "['./Data/Machine Learning Model/Random Forest/gs_ss_rfc.pkl']"
      ]
     },
     "execution_count": 9,
     "metadata": {},
     "output_type": "execute_result"
    }
   ],
   "source": [
    "joblib.dump(gs_ss_rfc, './Data/Machine Learning Model/Random Forest/gs_ss_rfc.pkl')"
   ]
  },
  {
   "cell_type": "markdown",
   "id": "2c9c21ea",
   "metadata": {},
   "source": [
    "## Hyperparameter Tuning (Min Max Scaler)"
   ]
  },
  {
   "cell_type": "code",
   "execution_count": 10,
   "id": "9f9f753d",
   "metadata": {
    "ExecuteTime": {
     "end_time": "2022-10-08T13:11:40.820746Z",
     "start_time": "2022-10-08T11:45:39.402482Z"
    }
   },
   "outputs": [
    {
     "data": {
      "text/plain": [
       "GridSearchCV(cv=3, estimator=RandomForestClassifier(), n_jobs=-1,\n",
       "             param_grid={'class_weight': ['balanced'],\n",
       "                         'max_depth': [50, 100, 150, 200],\n",
       "                         'max_features': [5, 10, 15, 20, 25, 28],\n",
       "                         'min_samples_leaf': [30, 40, 50],\n",
       "                         'min_samples_split': [30, 40, 50]})"
      ]
     },
     "execution_count": 10,
     "metadata": {},
     "output_type": "execute_result"
    }
   ],
   "source": [
    "rfc = RandomForestClassifier()\n",
    "\n",
    "param_grid = { 'max_depth':[50,100,150,200], \n",
    "              'max_features':[5,10,15,20,25,28], \n",
    "              'min_samples_split':[30,40,50], \n",
    "              'min_samples_leaf':[30,40,50],\n",
    "              'class_weight':['balanced']\n",
    "             }\n",
    "\n",
    "gs_mms_rfc = GridSearchCV(estimator=rfc, \n",
    "                          param_grid=param_grid, \n",
    "                          cv=3, \n",
    "                          n_jobs=-1) \n",
    "\n",
    "gs_mms_rfc.fit(X_train_mms,y_train)"
   ]
  },
  {
   "cell_type": "code",
   "execution_count": 11,
   "id": "fd3ab5ec",
   "metadata": {
    "ExecuteTime": {
     "end_time": "2022-10-08T13:11:40.867531Z",
     "start_time": "2022-10-08T13:11:40.821637Z"
    }
   },
   "outputs": [
    {
     "data": {
      "text/plain": [
       "['./Data/Machine Learning Model/Random Forest/gs_mms_rfc.pkl']"
      ]
     },
     "execution_count": 11,
     "metadata": {},
     "output_type": "execute_result"
    }
   ],
   "source": [
    "joblib.dump(gs_mms_rfc, './Data/Machine Learning Model/Random Forest/gs_mms_rfc.pkl')"
   ]
  },
  {
   "cell_type": "code",
   "execution_count": 12,
   "id": "6c02c23e",
   "metadata": {
    "ExecuteTime": {
     "end_time": "2022-10-08T13:11:40.883635Z",
     "start_time": "2022-10-08T13:11:40.868505Z"
    }
   },
   "outputs": [
    {
     "data": {
      "application/javascript": [
       "IPython.notebook.save_checkpoint();"
      ],
      "text/plain": [
       "<IPython.core.display.Javascript object>"
      ]
     },
     "metadata": {},
     "output_type": "display_data"
    }
   ],
   "source": [
    "display(Javascript('IPython.notebook.save_checkpoint();'))"
   ]
  },
  {
   "cell_type": "code",
   "execution_count": 13,
   "id": "6052f5b2",
   "metadata": {
    "ExecuteTime": {
     "end_time": "2022-10-08T13:11:40.947654Z",
     "start_time": "2022-10-08T13:11:40.885630Z"
    }
   },
   "outputs": [
    {
     "data": {
      "text/plain": [
       "0"
      ]
     },
     "execution_count": 13,
     "metadata": {},
     "output_type": "execute_result"
    }
   ],
   "source": [
    "os.system('shutdown -s')"
   ]
  }
 ],
 "metadata": {
  "kernelspec": {
   "display_name": "Python 3 (ipykernel)",
   "language": "python",
   "name": "python3"
  },
  "language_info": {
   "codemirror_mode": {
    "name": "ipython",
    "version": 3
   },
   "file_extension": ".py",
   "mimetype": "text/x-python",
   "name": "python",
   "nbconvert_exporter": "python",
   "pygments_lexer": "ipython3",
   "version": "3.9.13"
  }
 },
 "nbformat": 4,
 "nbformat_minor": 5
}
