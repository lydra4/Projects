{
 "cells": [
  {
   "cell_type": "markdown",
   "metadata": {},
   "source": [
    "# Python For-Loop Exercises\n",
    "\n",
    "Some scenarios where for-loops is useful."
   ]
  },
  {
   "cell_type": "markdown",
   "metadata": {},
   "source": [
    "### Reverse dictionary lookup\n",
    "\n",
    "* We sometimes want to flip the key-value pair in a dictionary, so in the new dictionary, the value becomes the new key, and the key becomes the new value.  \n",
    "* Write a function, reverse_dict, which accepts a dictionary and does this flip.   \n",
    "* Assume that the values in the original dictionary are unique from each other."
   ]
  },
  {
   "cell_type": "code",
   "execution_count": 1,
   "metadata": {},
   "outputs": [],
   "source": [
    "def reverse_dictionary(dictionary):\n",
    "    new_dict = dict([(value, key) for key, value in dictionary.items()])\n",
    "    return new_dict"
   ]
  },
  {
   "cell_type": "code",
   "execution_count": 3,
   "metadata": {},
   "outputs": [
    {
     "data": {
      "text/plain": [
       "{'lamb': 1, 24: 'A001'}"
      ]
     },
     "execution_count": 3,
     "metadata": {},
     "output_type": "execute_result"
    }
   ],
   "source": [
    "orig_dict = {1: 'lamb', 'A001': 24}\n",
    "reverse_dictionary(orig_dict)"
   ]
  },
  {
   "cell_type": "markdown",
   "metadata": {},
   "source": [
    "### Find the smallest number.\n",
    "\n",
    "* For a given list of values (eg. int, floats), we often want to find the smallest value.\n",
    "* Write a function, smallest_value, that accepts a list of numbers, and returns the smallest number in the list."
   ]
  },
  {
   "cell_type": "code",
   "execution_count": 5,
   "metadata": {},
   "outputs": [],
   "source": [
    "def smallest_value(list_of_nums):\n",
    "    list_of_nums.sort()\n",
    "    return list_of_nums[0]"
   ]
  },
  {
   "cell_type": "code",
   "execution_count": 6,
   "metadata": {},
   "outputs": [
    {
     "data": {
      "text/plain": [
       "2"
      ]
     },
     "execution_count": 6,
     "metadata": {},
     "output_type": "execute_result"
    }
   ],
   "source": [
    "a = [2,5,88]\n",
    "smallest_value(a)"
   ]
  },
  {
   "cell_type": "code",
   "execution_count": 7,
   "metadata": {},
   "outputs": [
    {
     "data": {
      "text/plain": [
       "2"
      ]
     },
     "execution_count": 7,
     "metadata": {},
     "output_type": "execute_result"
    }
   ],
   "source": [
    "a = [88,5,2]\n",
    "smallest_value(a)"
   ]
  },
  {
   "cell_type": "markdown",
   "metadata": {},
   "source": [
    "### Find n smallest values\n",
    "\n",
    "* Now that we've got a function that finds the smallest number, we will expand on this.\n",
    "* For a given list of values (eg. int, floats), we often want to find the n smallest values.\n",
    "* Write a function, smallest_values, that accepts a list of numbers, and a parameter n. \n",
    "* The function accepts a list of numbers, and returns another list of the n smallest number."
   ]
  },
  {
   "cell_type": "code",
   "execution_count": 12,
   "metadata": {},
   "outputs": [],
   "source": [
    "def smallest_values(list_of_nums, n):\n",
    "    list_of_nums.sort()\n",
    "    return list_of_nums[:n]"
   ]
  },
  {
   "cell_type": "code",
   "execution_count": 13,
   "metadata": {},
   "outputs": [
    {
     "data": {
      "text/plain": [
       "[2, 2, 5, 5]"
      ]
     },
     "execution_count": 13,
     "metadata": {},
     "output_type": "execute_result"
    }
   ],
   "source": [
    "b = [5,2,5,2,5,7,8]\n",
    "smallest_values(b, 4)"
   ]
  },
  {
   "cell_type": "code",
   "execution_count": 14,
   "metadata": {},
   "outputs": [
    {
     "data": {
      "text/plain": [
       "[2, 2, 5, 5, 5, 7, 8]"
      ]
     },
     "execution_count": 14,
     "metadata": {},
     "output_type": "execute_result"
    }
   ],
   "source": [
    "c = [5,2,5,2,5,7,8]\n",
    "smallest_values(c,len(c)) #creates a sorted list"
   ]
  },
  {
   "cell_type": "markdown",
   "metadata": {},
   "source": [
    "### Count the characters\n",
    "\n",
    "* Write a function, count_char, that accepts a string and counts the number of times each character appears in the string.  \n",
    "* The function returns a dictionary with the character as key, and the number of time it appears as the value.\n",
    "* (Optional) You may wish to use with defaultdict, which should return 0 if the character is not available."
   ]
  },
  {
   "cell_type": "code",
   "execution_count": 55,
   "metadata": {},
   "outputs": [],
   "source": [
    "def count_char(dictionary):\n",
    "    "
   ]
  },
  {
   "cell_type": "code",
   "execution_count": 61,
   "metadata": {},
   "outputs": [
    {
     "name": "stdout",
     "output_type": "stream",
     "text": [
      "h 1\n",
      "i 1\n",
      "p 2\n",
      "o 1\n"
     ]
    }
   ],
   "source": [
    "x = count_char(\"hippo\")\n",
    "for k,v in x.items():\n",
    "    print(k,v)"
   ]
  },
  {
   "cell_type": "code",
   "execution_count": 60,
   "metadata": {},
   "outputs": [],
   "source": []
  },
  {
   "cell_type": "code",
   "execution_count": 62,
   "metadata": {},
   "outputs": [
    {
     "name": "stdout",
     "output_type": "stream",
     "text": [
      "h 1\n",
      "i 1\n",
      "p 2\n",
      "o 1\n"
     ]
    }
   ],
   "source": [
    "x = count_char2(\"hippo\")\n",
    "for k,v in x.items():\n",
    "    print(k,v)"
   ]
  },
  {
   "cell_type": "code",
   "execution_count": null,
   "metadata": {},
   "outputs": [],
   "source": []
  }
 ],
 "metadata": {
  "kernelspec": {
   "display_name": "Python 3 (ipykernel)",
   "language": "python",
   "name": "python3"
  },
  "language_info": {
   "codemirror_mode": {
    "name": "ipython",
    "version": 3
   },
   "file_extension": ".py",
   "mimetype": "text/x-python",
   "name": "python",
   "nbconvert_exporter": "python",
   "pygments_lexer": "ipython3",
   "version": "3.9.7"
  }
 },
 "nbformat": 4,
 "nbformat_minor": 4
}
