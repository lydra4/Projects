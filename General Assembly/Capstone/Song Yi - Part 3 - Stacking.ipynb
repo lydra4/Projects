{
 "cells": [
  {
   "cell_type": "markdown",
   "id": "665aad49",
   "metadata": {},
   "source": [
    "# Capstone Section 6: Recall Score / Stacking\n",
    "<br>\n",
    "\n",
    "## Task\n",
    "<br>\n",
    "\n",
    "1) In this section, I will calculate the Recall score on test set for various machine learning models on data that has been normalized with Standard Scaler and data that has been Normalized with Min Max Scaler. [Recall Score](#Section-1:-Recall-Score)\n",
    "<br>\n",
    "<br>\n",
    "2) After calculating the recall score for the various machine learning alogrithims, I will stack for the model for data that has been normalized with standard scaler and for data that has been normalized with min max scaler, separately"
   ]
  },
  {
   "cell_type": "markdown",
   "id": "0953033a",
   "metadata": {},
   "source": [
    "## Importing Libraries"
   ]
  },
  {
   "cell_type": "code",
   "execution_count": 1,
   "id": "c15bf0b8",
   "metadata": {
    "ExecuteTime": {
     "end_time": "2022-10-13T11:24:31.819892Z",
     "start_time": "2022-10-13T11:24:31.810915Z"
    }
   },
   "outputs": [],
   "source": [
    "import os\n",
    "from lightgbm import LGBMClassifier\n",
    "import joblib, pandas as pd, numpy as np\n",
    "from IPython.display import display, Javascript\n",
    "from sklearn.linear_model import LogisticRegressionCV\n",
    "from sklearn.metrics import recall_score, plot_confusion_matrix\n",
    "from sklearn.ensemble import StackingClassifier, RandomForestClassifier"
   ]
  },
  {
   "cell_type": "markdown",
   "id": "33682581",
   "metadata": {},
   "source": [
    "## Reading Data Files"
   ]
  },
  {
   "cell_type": "code",
   "execution_count": 2,
   "id": "b8878db0",
   "metadata": {
    "ExecuteTime": {
     "end_time": "2022-10-13T11:24:31.974477Z",
     "start_time": "2022-10-13T11:24:31.821886Z"
    }
   },
   "outputs": [],
   "source": [
    "# Standard Scaler Data\n",
    "X_train_ss = pd.read_pickle('./Data/Standard Scaler/X_train_ss.pkl')\n",
    "X_test_ss = pd.read_pickle('./Data/Standard Scaler/X_test_ss.pkl')\n",
    "\n",
    "# Min Max Scaler Data\n",
    "X_train_mms = pd.read_pickle('./Data/Min Max Scaler/X_train_mms.pkl')\n",
    "X_test_mms = pd.read_pickle('./Data/Min Max Scaler/X_test_mms.pkl')\n",
    "\n",
    "# Target Label\n",
    "y_train = pd.read_pickle('./Data/y_train.pkl')\n",
    "y_test = pd.read_pickle('./Data/y_test.pkl')"
   ]
  },
  {
   "cell_type": "markdown",
   "id": "7afc4de3",
   "metadata": {},
   "source": [
    "## Reading Machine Learning Model Files"
   ]
  },
  {
   "cell_type": "markdown",
   "id": "8fa0ed2b",
   "metadata": {},
   "source": [
    "#### Logistic Regression"
   ]
  },
  {
   "cell_type": "code",
   "execution_count": 3,
   "id": "cd0510f3",
   "metadata": {
    "ExecuteTime": {
     "end_time": "2022-10-13T11:24:31.989437Z",
     "start_time": "2022-10-13T11:24:31.975475Z"
    }
   },
   "outputs": [],
   "source": [
    "gs_ss_lg = joblib.load('./Data/Machine Learning Model/Logistic Regression/gs_ss_lg.pkl')\n",
    "gs_mms_lg = joblib.load('./Data/Machine Learning Model/Logistic Regression/gs_mms_lg.pkl')"
   ]
  },
  {
   "cell_type": "markdown",
   "id": "e12f2c85",
   "metadata": {},
   "source": [
    "#### Light Gradient Boosting Machine"
   ]
  },
  {
   "cell_type": "code",
   "execution_count": 4,
   "id": "1fa6f81f",
   "metadata": {
    "ExecuteTime": {
     "end_time": "2022-10-13T11:24:32.098654Z",
     "start_time": "2022-10-13T11:24:31.991941Z"
    }
   },
   "outputs": [],
   "source": [
    "gs_ss_lgbm = joblib.load(\\\n",
    "              './Data/Machine Learning Model/Light Gradient Boosting Machine\\gs_ss_lgbm.pkl')\n",
    "gs_mms_lgbm = joblib.load(\\\n",
    "              './Data/Machine Learning Model/Light Gradient Boosting Machine\\gs_mms_lgbm.pkl')"
   ]
  },
  {
   "cell_type": "markdown",
   "id": "519eae1d",
   "metadata": {},
   "source": [
    "#### Random Forest"
   ]
  },
  {
   "cell_type": "code",
   "execution_count": 5,
   "id": "f79e0868",
   "metadata": {
    "ExecuteTime": {
     "end_time": "2022-10-13T11:24:32.174957Z",
     "start_time": "2022-10-13T11:24:32.099652Z"
    }
   },
   "outputs": [],
   "source": [
    "gs_ss_rfc = joblib.load('./Data/Machine Learning Model/Random Forest/gs_ss_rfc.pkl')\n",
    "gs_mms_rfc = joblib.load('./Data/Machine Learning Model/Random Forest/gs_mms_rfc.pkl')"
   ]
  },
  {
   "cell_type": "markdown",
   "id": "0cc259cd",
   "metadata": {},
   "source": [
    "# Section 1: Recall Score"
   ]
  },
  {
   "cell_type": "markdown",
   "id": "9a8ba362",
   "metadata": {},
   "source": [
    "# Standard Scaler Data"
   ]
  },
  {
   "cell_type": "code",
   "execution_count": 6,
   "id": "f9fe66ee",
   "metadata": {
    "ExecuteTime": {
     "end_time": "2022-10-13T11:24:34.508799Z",
     "start_time": "2022-10-13T11:24:32.176953Z"
    }
   },
   "outputs": [],
   "source": [
    "y_test_ss_lg_pred = gs_ss_lg.predict(X_test_ss)\n",
    "y_test_ss_lgbm_pred = gs_ss_lgbm.predict(X_test_ss)\n",
    "y_test_ss_rfc_pred = gs_ss_rfc.predict(X_test_ss)"
   ]
  },
  {
   "cell_type": "markdown",
   "id": "d21463a1",
   "metadata": {},
   "source": [
    "#### Recall Score for Logistic Regression"
   ]
  },
  {
   "cell_type": "code",
   "execution_count": 7,
   "id": "6620f641",
   "metadata": {
    "ExecuteTime": {
     "end_time": "2022-10-13T11:24:34.556672Z",
     "start_time": "2022-10-13T11:24:34.509797Z"
    }
   },
   "outputs": [
    {
     "data": {
      "text/plain": [
       "0.7608695652173914"
      ]
     },
     "execution_count": 7,
     "metadata": {},
     "output_type": "execute_result"
    }
   ],
   "source": [
    "recall_score(y_test, y_test_ss_lg_pred)"
   ]
  },
  {
   "cell_type": "markdown",
   "id": "8aa416e2",
   "metadata": {},
   "source": [
    "#### Recall Score for Light Gradient Boosting Machine"
   ]
  },
  {
   "cell_type": "code",
   "execution_count": 8,
   "id": "dc312638",
   "metadata": {
    "ExecuteTime": {
     "end_time": "2022-10-13T11:24:34.617509Z",
     "start_time": "2022-10-13T11:24:34.557670Z"
    }
   },
   "outputs": [
    {
     "data": {
      "text/plain": [
       "0.9627329192546584"
      ]
     },
     "execution_count": 8,
     "metadata": {},
     "output_type": "execute_result"
    }
   ],
   "source": [
    "recall_score(y_test, y_test_ss_lgbm_pred)"
   ]
  },
  {
   "cell_type": "markdown",
   "id": "9e151faf",
   "metadata": {},
   "source": [
    "#### Recall Score for Random Forest"
   ]
  },
  {
   "cell_type": "code",
   "execution_count": 9,
   "id": "fce49806",
   "metadata": {
    "ExecuteTime": {
     "end_time": "2022-10-13T11:24:34.664891Z",
     "start_time": "2022-10-13T11:24:34.618506Z"
    }
   },
   "outputs": [
    {
     "data": {
      "text/plain": [
       "0.9006211180124224"
      ]
     },
     "execution_count": 9,
     "metadata": {},
     "output_type": "execute_result"
    }
   ],
   "source": [
    "recall_score(y_test, y_test_ss_rfc_pred)"
   ]
  },
  {
   "cell_type": "markdown",
   "id": "e65ece25",
   "metadata": {},
   "source": [
    "# Stacking"
   ]
  },
  {
   "cell_type": "code",
   "execution_count": 10,
   "id": "46ff8a31",
   "metadata": {
    "ExecuteTime": {
     "end_time": "2022-10-13T11:24:34.680849Z",
     "start_time": "2022-10-13T11:24:34.668880Z"
    }
   },
   "outputs": [
    {
     "data": {
      "text/plain": [
       "{'Cs': 1, 'class_weight': 'balanced', 'max_iter': 10000, 'solver': 'liblinear'}"
      ]
     },
     "execution_count": 10,
     "metadata": {},
     "output_type": "execute_result"
    }
   ],
   "source": [
    "gs_ss_lg.best_params_"
   ]
  },
  {
   "cell_type": "code",
   "execution_count": 11,
   "id": "74f6707b",
   "metadata": {
    "ExecuteTime": {
     "end_time": "2022-10-13T11:24:34.695808Z",
     "start_time": "2022-10-13T11:24:34.682844Z"
    }
   },
   "outputs": [
    {
     "data": {
      "text/plain": [
       "{'class_weight': 'balanced',\n",
       " 'max_depth': 20,\n",
       " 'n_estimators': 500,\n",
       " 'num_leaves': 25,\n",
       " 'reg_alpha': 0.2}"
      ]
     },
     "execution_count": 11,
     "metadata": {},
     "output_type": "execute_result"
    }
   ],
   "source": [
    "gs_ss_lgbm.best_params_"
   ]
  },
  {
   "cell_type": "code",
   "execution_count": 12,
   "id": "a80d6bbb",
   "metadata": {
    "ExecuteTime": {
     "end_time": "2022-10-13T11:24:34.710769Z",
     "start_time": "2022-10-13T11:24:34.696805Z"
    }
   },
   "outputs": [
    {
     "data": {
      "text/plain": [
       "{'class_weight': 'balanced',\n",
       " 'max_depth': 150,\n",
       " 'max_features': 20,\n",
       " 'min_samples_leaf': 50,\n",
       " 'min_samples_split': 30}"
      ]
     },
     "execution_count": 12,
     "metadata": {},
     "output_type": "execute_result"
    }
   ],
   "source": [
    "gs_ss_rfc.best_params_"
   ]
  },
  {
   "cell_type": "code",
   "execution_count": 13,
   "id": "f9c080ac",
   "metadata": {
    "ExecuteTime": {
     "end_time": "2022-10-13T11:24:34.726724Z",
     "start_time": "2022-10-13T11:24:34.711766Z"
    }
   },
   "outputs": [],
   "source": [
    "models = [\n",
    "            ('lg', LogisticRegressionCV(Cs = 1,\n",
    "                                       class_weight = 'balanced',\n",
    "                                       max_iter = 10000,\n",
    "                                       solver = 'liblinear')),\n",
    "            ('lgbm', LGBMClassifier(class_weight = 'balanced',\n",
    "                                       max_depth = 20,\n",
    "                                       n_estimators = 500,\n",
    "                                       num_leaves = 25,\n",
    "                                       reg_alpha = 0.2)),\n",
    "            ('rfc', RandomForestClassifier(class_weight = 'balanced',\n",
    "                                          max_depth = 150,\n",
    "                                          max_features = 20,\n",
    "                                          min_samples_leaf = 50,\n",
    "                                          min_samples_split = 30))\n",
    "]"
   ]
  },
  {
   "cell_type": "code",
   "execution_count": 14,
   "id": "34961646",
   "metadata": {
    "ExecuteTime": {
     "end_time": "2022-10-13T11:26:31.465630Z",
     "start_time": "2022-10-13T11:24:34.728720Z"
    }
   },
   "outputs": [
    {
     "data": {
      "text/plain": [
       "StackingClassifier(cv=3,\n",
       "                   estimators=[('lg',\n",
       "                                LogisticRegressionCV(Cs=1,\n",
       "                                                     class_weight='balanced',\n",
       "                                                     max_iter=10000,\n",
       "                                                     solver='liblinear')),\n",
       "                               ('lgbm',\n",
       "                                LGBMClassifier(class_weight='balanced',\n",
       "                                               max_depth=20, n_estimators=500,\n",
       "                                               num_leaves=25, reg_alpha=0.2)),\n",
       "                               ('rfc',\n",
       "                                RandomForestClassifier(class_weight='balanced',\n",
       "                                                       max_depth=150,\n",
       "                                                       max_features=20,\n",
       "                                                       min_samples_leaf=50,\n",
       "                                                       min_samples_split=30))],\n",
       "                   n_jobs=-1)"
      ]
     },
     "execution_count": 14,
     "metadata": {},
     "output_type": "execute_result"
    }
   ],
   "source": [
    "stacking_ss = StackingClassifier(estimators=models, cv=3, n_jobs=-1)\n",
    "stacking_ss.fit(X_train_ss, y_train)"
   ]
  },
  {
   "cell_type": "code",
   "execution_count": 15,
   "id": "bb89f39d",
   "metadata": {
    "ExecuteTime": {
     "end_time": "2022-10-13T11:26:31.558381Z",
     "start_time": "2022-10-13T11:26:31.467625Z"
    }
   },
   "outputs": [
    {
     "data": {
      "text/plain": [
       "['./Data/Machine Learning Model/Stacking/Standard Scaler/stacking_ss.pkl']"
      ]
     },
     "execution_count": 15,
     "metadata": {},
     "output_type": "execute_result"
    }
   ],
   "source": [
    "joblib.dump(stacking_ss, './Data/Machine Learning Model/Stacking/Standard Scaler/stacking_ss.pkl')"
   ]
  },
  {
   "cell_type": "markdown",
   "id": "7a0998de",
   "metadata": {},
   "source": [
    "#### Recall Score for Stacking"
   ]
  },
  {
   "cell_type": "code",
   "execution_count": 16,
   "id": "92e19adc",
   "metadata": {
    "ExecuteTime": {
     "end_time": "2022-10-13T11:26:31.621719Z",
     "start_time": "2022-10-13T11:26:31.560376Z"
    }
   },
   "outputs": [],
   "source": [
    "stacking_ss = joblib.load('./Data/Machine Learning Model/Stacking/Standard Scaler/stacking_ss.pkl')"
   ]
  },
  {
   "cell_type": "code",
   "execution_count": 17,
   "id": "91fd5ea8",
   "metadata": {
    "ExecuteTime": {
     "end_time": "2022-10-13T11:26:33.842363Z",
     "start_time": "2022-10-13T11:26:31.623714Z"
    }
   },
   "outputs": [],
   "source": [
    "y_test_ss_stacking_pred = stacking_ss.predict(X_test_ss)"
   ]
  },
  {
   "cell_type": "code",
   "execution_count": 18,
   "id": "18963f46",
   "metadata": {
    "ExecuteTime": {
     "end_time": "2022-10-13T11:26:33.888750Z",
     "start_time": "2022-10-13T11:26:33.843361Z"
    }
   },
   "outputs": [
    {
     "data": {
      "text/plain": [
       "0.765527950310559"
      ]
     },
     "execution_count": 18,
     "metadata": {},
     "output_type": "execute_result"
    }
   ],
   "source": [
    "recall_score(y_test, y_test_ss_stacking_pred)"
   ]
  },
  {
   "cell_type": "markdown",
   "id": "6e40a816",
   "metadata": {},
   "source": [
    "# Min Max Scaler Data"
   ]
  },
  {
   "cell_type": "code",
   "execution_count": 19,
   "id": "62093aec",
   "metadata": {
    "ExecuteTime": {
     "end_time": "2022-10-13T11:26:36.143812Z",
     "start_time": "2022-10-13T11:26:33.890746Z"
    }
   },
   "outputs": [],
   "source": [
    "y_test_mms_lg_pred = gs_mms_lg.predict(X_test_mms)\n",
    "y_test_mms_lgbm_pred = gs_mms_lgbm.predict(X_test_mms)\n",
    "y_test_mms_rfc_pred = gs_mms_rfc.predict(X_test_mms)"
   ]
  },
  {
   "cell_type": "markdown",
   "id": "a467c2ec",
   "metadata": {},
   "source": [
    "#### Recall Score for Logistic Regression"
   ]
  },
  {
   "cell_type": "code",
   "execution_count": 20,
   "id": "01489fdf",
   "metadata": {
    "ExecuteTime": {
     "end_time": "2022-10-13T11:26:36.189689Z",
     "start_time": "2022-10-13T11:26:36.144810Z"
    }
   },
   "outputs": [
    {
     "data": {
      "text/plain": [
       "0.8866459627329193"
      ]
     },
     "execution_count": 20,
     "metadata": {},
     "output_type": "execute_result"
    }
   ],
   "source": [
    "recall_score(y_test, y_test_mms_lg_pred)"
   ]
  },
  {
   "cell_type": "markdown",
   "id": "8262e10b",
   "metadata": {},
   "source": [
    "#### Recall Score for Light Gradient Boosting Machine"
   ]
  },
  {
   "cell_type": "code",
   "execution_count": 21,
   "id": "c89a7f46",
   "metadata": {
    "ExecuteTime": {
     "end_time": "2022-10-13T11:26:36.237562Z",
     "start_time": "2022-10-13T11:26:36.190687Z"
    }
   },
   "outputs": [
    {
     "data": {
      "text/plain": [
       "0.9611801242236024"
      ]
     },
     "execution_count": 21,
     "metadata": {},
     "output_type": "execute_result"
    }
   ],
   "source": [
    "recall_score(y_test, y_test_mms_lgbm_pred)"
   ]
  },
  {
   "cell_type": "markdown",
   "id": "ad53bf71",
   "metadata": {},
   "source": [
    "#### Recall Score for Random Forest"
   ]
  },
  {
   "cell_type": "code",
   "execution_count": 22,
   "id": "88686142",
   "metadata": {
    "ExecuteTime": {
     "end_time": "2022-10-13T11:26:36.283438Z",
     "start_time": "2022-10-13T11:26:36.238560Z"
    }
   },
   "outputs": [
    {
     "data": {
      "text/plain": [
       "0.889751552795031"
      ]
     },
     "execution_count": 22,
     "metadata": {},
     "output_type": "execute_result"
    }
   ],
   "source": [
    "recall_score(y_test, y_test_mms_rfc_pred)"
   ]
  },
  {
   "cell_type": "markdown",
   "id": "6e6703ef",
   "metadata": {},
   "source": [
    "# Stacking"
   ]
  },
  {
   "cell_type": "code",
   "execution_count": 23,
   "id": "71d02e5f",
   "metadata": {
    "ExecuteTime": {
     "end_time": "2022-10-13T11:26:36.298398Z",
     "start_time": "2022-10-13T11:26:36.284437Z"
    }
   },
   "outputs": [
    {
     "data": {
      "text/plain": [
       "{'Cs': 10,\n",
       " 'class_weight': 'balanced',\n",
       " 'max_iter': 10000,\n",
       " 'solver': 'liblinear'}"
      ]
     },
     "execution_count": 23,
     "metadata": {},
     "output_type": "execute_result"
    }
   ],
   "source": [
    "gs_mms_lg.best_params_"
   ]
  },
  {
   "cell_type": "code",
   "execution_count": 24,
   "id": "0ac32215",
   "metadata": {
    "ExecuteTime": {
     "end_time": "2022-10-13T11:26:36.314355Z",
     "start_time": "2022-10-13T11:26:36.299396Z"
    }
   },
   "outputs": [
    {
     "data": {
      "text/plain": [
       "{'class_weight': 'balanced',\n",
       " 'max_depth': 10,\n",
       " 'n_estimators': 500,\n",
       " 'num_leaves': 20,\n",
       " 'reg_alpha': 0.1}"
      ]
     },
     "execution_count": 24,
     "metadata": {},
     "output_type": "execute_result"
    }
   ],
   "source": [
    "gs_mms_lgbm.best_params_"
   ]
  },
  {
   "cell_type": "code",
   "execution_count": 25,
   "id": "4bcf884d",
   "metadata": {
    "ExecuteTime": {
     "end_time": "2022-10-13T11:26:36.329824Z",
     "start_time": "2022-10-13T11:26:36.315354Z"
    }
   },
   "outputs": [
    {
     "data": {
      "text/plain": [
       "{'class_weight': 'balanced',\n",
       " 'max_depth': 200,\n",
       " 'max_features': 25,\n",
       " 'min_samples_leaf': 50,\n",
       " 'min_samples_split': 30}"
      ]
     },
     "execution_count": 25,
     "metadata": {},
     "output_type": "execute_result"
    }
   ],
   "source": [
    "gs_mms_rfc.best_params_"
   ]
  },
  {
   "cell_type": "code",
   "execution_count": 26,
   "id": "7bcb088c",
   "metadata": {
    "ExecuteTime": {
     "end_time": "2022-10-13T11:26:36.345782Z",
     "start_time": "2022-10-13T11:26:36.330821Z"
    }
   },
   "outputs": [],
   "source": [
    "models = [\n",
    "            ('lg', LogisticRegressionCV(Cs = 10,\n",
    "                                       class_weight = 'balanced',\n",
    "                                       max_iter = 10000,\n",
    "                                       solver = 'liblinear')),\n",
    "            ('lgbm', LGBMClassifier(class_weight = 'balanced',\n",
    "                                       max_depth = 10,\n",
    "                                       n_estimators = 500,\n",
    "                                       num_leaves = 20,\n",
    "                                       reg_alpha = 0.1)),\n",
    "            ('rfc', RandomForestClassifier(class_weight = 'balanced',\n",
    "                                          max_depth = 200,\n",
    "                                          max_features = 25,\n",
    "                                          min_samples_leaf = 50,\n",
    "                                          min_samples_split = 30))\n",
    "]"
   ]
  },
  {
   "cell_type": "code",
   "execution_count": 27,
   "id": "4eedb7b6",
   "metadata": {
    "ExecuteTime": {
     "end_time": "2022-10-13T11:30:15.931137Z",
     "start_time": "2022-10-13T11:26:36.347777Z"
    }
   },
   "outputs": [
    {
     "data": {
      "text/plain": [
       "StackingClassifier(cv=3,\n",
       "                   estimators=[('lg',\n",
       "                                LogisticRegressionCV(class_weight='balanced',\n",
       "                                                     max_iter=10000,\n",
       "                                                     solver='liblinear')),\n",
       "                               ('lgbm',\n",
       "                                LGBMClassifier(class_weight='balanced',\n",
       "                                               max_depth=10, n_estimators=500,\n",
       "                                               num_leaves=20, reg_alpha=0.1)),\n",
       "                               ('rfc',\n",
       "                                RandomForestClassifier(class_weight='balanced',\n",
       "                                                       max_depth=200,\n",
       "                                                       max_features=25,\n",
       "                                                       min_samples_leaf=50,\n",
       "                                                       min_samples_split=30))],\n",
       "                   n_jobs=-1)"
      ]
     },
     "execution_count": 27,
     "metadata": {},
     "output_type": "execute_result"
    }
   ],
   "source": [
    "stacking_mms = StackingClassifier(estimators=models, cv=3, n_jobs=-1)\n",
    "stacking_mms.fit(X_train_mms, y_train)"
   ]
  },
  {
   "cell_type": "code",
   "execution_count": 28,
   "id": "62b7f285",
   "metadata": {
    "ExecuteTime": {
     "end_time": "2022-10-13T11:30:16.413863Z",
     "start_time": "2022-10-13T11:30:15.936123Z"
    }
   },
   "outputs": [
    {
     "data": {
      "text/plain": [
       "['./Data/Machine Learning Model/Stacking/Min Max Scaler/stacking_mms.pkl']"
      ]
     },
     "execution_count": 28,
     "metadata": {},
     "output_type": "execute_result"
    }
   ],
   "source": [
    "joblib.dump(stacking_mms, './Data/Machine Learning Model/Stacking/Min Max Scaler/stacking_mms.pkl')"
   ]
  },
  {
   "cell_type": "markdown",
   "id": "256fec9d",
   "metadata": {},
   "source": [
    "#### Recall Score for Stacking"
   ]
  },
  {
   "cell_type": "code",
   "execution_count": 29,
   "id": "a816fdbe",
   "metadata": {
    "ExecuteTime": {
     "end_time": "2022-10-13T11:30:16.460736Z",
     "start_time": "2022-10-13T11:30:16.415857Z"
    }
   },
   "outputs": [],
   "source": [
    "stacking_mms = joblib.load('./Data/Machine Learning Model/Stacking/Min Max Scaler/stacking_mms.pkl')"
   ]
  },
  {
   "cell_type": "code",
   "execution_count": 30,
   "id": "6f863987",
   "metadata": {
    "ExecuteTime": {
     "end_time": "2022-10-13T11:30:18.555734Z",
     "start_time": "2022-10-13T11:30:16.461734Z"
    }
   },
   "outputs": [],
   "source": [
    "y_test_mms_stacking_pred = stacking_mms.predict(X_test_mms)"
   ]
  },
  {
   "cell_type": "code",
   "execution_count": 31,
   "id": "98f7137f",
   "metadata": {
    "ExecuteTime": {
     "end_time": "2022-10-13T11:30:18.601719Z",
     "start_time": "2022-10-13T11:30:18.556782Z"
    }
   },
   "outputs": [
    {
     "data": {
      "text/plain": [
       "0.7065217391304348"
      ]
     },
     "execution_count": 31,
     "metadata": {},
     "output_type": "execute_result"
    }
   ],
   "source": [
    "recall_score(y_test, y_test_mms_stacking_pred)"
   ]
  },
  {
   "cell_type": "markdown",
   "id": "71421dbf",
   "metadata": {},
   "source": [
    "## Comments:\n",
    "<br>\n",
    "1) Stacking the various machine learning has a result of lowering the recall score even when holding other parameters constant, example cv=3.\n",
    "<br>\n",
    "<br>\n",
    "2) In descending values of recall score on test data (rounded to 4 d.p.), \n",
    "<br>\n",
    "\n",
    "- 1 - LGBM on Standard Scaler Data (0.9627)\n",
    "- 2 - LGBM on Min Max Scaler Data (0.9612)\n",
    "- 3 - Random Forest on Standard Scaler Data (0.9006)\n",
    "- 4 - Random Forest on Min Max Scaler Data (0.8898)\n",
    "- 5 - Logistic Regression on Min Max Scaler Data (0.8866)\n",
    "- 6 - Stacking on Standard Scaler Data (0.7655)\n",
    "- 7 - Logistic Regression on Standard Scaler Data (0.7609)\n",
    "- 8 - Stacking on Min Max Scaler Data (0.7065)"
   ]
  },
  {
   "cell_type": "code",
   "execution_count": 32,
   "id": "228e33e1",
   "metadata": {
    "ExecuteTime": {
     "end_time": "2022-10-13T11:30:18.616774Z",
     "start_time": "2022-10-13T11:30:18.603715Z"
    }
   },
   "outputs": [
    {
     "data": {
      "application/javascript": "IPython.notebook.save_checkpoint();",
      "text/plain": [
       "<IPython.core.display.Javascript object>"
      ]
     },
     "metadata": {},
     "output_type": "display_data"
    }
   ],
   "source": [
    "display(Javascript('IPython.notebook.save_checkpoint();'))"
   ]
  },
  {
   "cell_type": "code",
   "execution_count": 33,
   "id": "7f9935de",
   "metadata": {
    "ExecuteTime": {
     "end_time": "2022-10-13T11:30:18.632727Z",
     "start_time": "2022-10-13T11:30:18.617723Z"
    }
   },
   "outputs": [],
   "source": [
    "#os.system('shutdown -s')"
   ]
  }
 ],
 "metadata": {
  "kernelspec": {
   "display_name": "Python 3.9.13 ('base')",
   "language": "python",
   "name": "python3"
  },
  "language_info": {
   "codemirror_mode": {
    "name": "ipython",
    "version": 3
   },
   "file_extension": ".py",
   "mimetype": "text/x-python",
   "name": "python",
   "nbconvert_exporter": "python",
   "pygments_lexer": "ipython3",
   "version": "3.9.13"
  },
  "vscode": {
   "interpreter": {
    "hash": "25ef22b608f107f99fc89be5151915a078ade7f4644b28f8bf4c3008377631f6"
   }
  }
 },
 "nbformat": 4,
 "nbformat_minor": 5
}
