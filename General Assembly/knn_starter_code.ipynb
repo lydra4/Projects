{
 "cells": [
  {
   "cell_type": "markdown",
   "metadata": {},
   "source": [
    "# Make your own KNN!\n",
    "\n",
    "The purpose of this notebook is build your own KNN algorithm step-by-step.  \n",
    "kNN is an supervised clustering algorithm for regression and classification, which can be implemented with basic Python.  \n",
    "We will be creating an example for binary classification (ie. \"M\" vs \"F\" class). "
   ]
  },
  {
   "cell_type": "markdown",
   "metadata": {},
   "source": [
    "### Step 0 - Import libraries\n",
    "\n",
    "There's no need to import the 3 standard libraries.  \n",
    "Just come back here to include libraries as you use them."
   ]
  },
  {
   "cell_type": "code",
   "execution_count": 1,
   "metadata": {},
   "outputs": [],
   "source": [
    "import random\n",
    "import math"
   ]
  },
  {
   "cell_type": "markdown",
   "metadata": {},
   "source": [
    "### Step 1\n",
    "\n",
    "Let's create some data for this purpose. \n",
    "\n",
    "Create a function, create_data, that takes one parameter, n.  \n",
    "This function creates n number of 3-element tuples: \n",
    "* The first two elements are **random** floats between 0 and 10.\n",
    "* The third element is a random choice between \"M\" and \"F\".\n",
    "\n",
    "The function returns a list of n tuples."
   ]
  },
  {
   "cell_type": "code",
   "execution_count": 2,
   "metadata": {},
   "outputs": [],
   "source": [
    "def create_data(n):\n",
    "    \n",
    "    mylist = []\n",
    "    m = 0\n",
    "    \n",
    "    while m < n:\n",
    "    \n",
    "        first = random.uniform(0,10)\n",
    "        second = random.uniform(0,10)\n",
    "        gender = random.choices(['M', 'F'])[0]\n",
    "        mytuple = (first,second,gender)\n",
    "        m += 1\n",
    "        \n",
    "        mylist.append(mytuple)\n",
    "\n",
    "    return mylist"
   ]
  },
  {
   "cell_type": "code",
   "execution_count": 3,
   "metadata": {},
   "outputs": [
    {
     "name": "stdout",
     "output_type": "stream",
     "text": [
      "[(4.827071778043992, 0.7209055871263526, 'M'), (3.8534877654947177, 8.757531161149512, 'M'), (4.650631752482416, 9.27589493844829, 'F')]\n"
     ]
    }
   ],
   "source": [
    "\"\"\"\n",
    "Test your function here\n",
    "You should get 3 tuples stored within a list.\n",
    "[ (2.23 , 3.53, \"M\"), (4.46 , 8.82, \"M\"), (9.11 , 2.36, \"F\")]\n",
    "\"\"\"\n",
    "\n",
    "test=create_data(3)\n",
    "print(test)"
   ]
  },
  {
   "cell_type": "markdown",
   "metadata": {},
   "source": [
    "### Step 2\n",
    "\n",
    "Create a function that calculates the distance between 2 points.   \n",
    "\n",
    "This function called, distance_class, takes 2 parameters A and B.   \n",
    "A is a tuple with 3 elements. \n",
    "B is a tuple with 2 elements. \n",
    "Using Pythagoras' Theorem, calculate the distance between the A and B. Only the first two elements are used to calculate the distance.   \n",
    "\n",
    "The function returns this distance, and the class from A."
   ]
  },
  {
   "cell_type": "code",
   "execution_count": 4,
   "metadata": {},
   "outputs": [],
   "source": [
    "def distance_class(A, B):\n",
    "    distance = (((A[0] - B[0]) ** 2) + ((A[1] - B[1]) ** 2)) ** 0.5\n",
    "    return distance"
   ]
  },
  {
   "cell_type": "code",
   "execution_count": 5,
   "metadata": {},
   "outputs": [
    {
     "name": "stdout",
     "output_type": "stream",
     "text": [
      "5.445181356024793\n"
     ]
    }
   ],
   "source": [
    "\"\"\"\n",
    "Test your function here\n",
    "With the j and k tuples, the result for distance is 5.441...\n",
    "\"\"\"\n",
    "\n",
    "j = (2.3, 5.4, \"M\")\n",
    "k = (6.1, 9.3)\n",
    "print(distance_class(j,k))"
   ]
  },
  {
   "cell_type": "markdown",
   "metadata": {},
   "source": [
    "### Step 3\n",
    "\n",
    "Let's create some data for KNN, and also the test data that you want to classify.   \n",
    "In this case, we set k=5."
   ]
  },
  {
   "cell_type": "code",
   "execution_count": 6,
   "metadata": {},
   "outputs": [],
   "source": [
    "data = create_data(100)\n",
    "test = [2,3]\n",
    "k=5"
   ]
  },
  {
   "cell_type": "code",
   "execution_count": 7,
   "metadata": {},
   "outputs": [
    {
     "name": "stdout",
     "output_type": "stream",
     "text": [
      "[(6.25747492502321, 8.715451722971117, 'F'), (0.3197289146044524, 9.632124057609076, 'M'), (1.5840542487269282, 4.548145018780651, 'F'), (0.2896555933791145, 2.1929440950387455, 'F'), (4.5881885689336865, 2.964624989483574, 'M'), (9.913902640996966, 8.435398402995522, 'F'), (0.908687921678103, 0.17690566963635468, 'F'), (5.086485619989004, 2.7927817320327786, 'F'), (2.100307800028325, 3.946494257990837, 'F'), (2.4094994311973106, 0.1686301949917146, 'M'), (8.451059359814339, 4.0329466736974116, 'M'), (3.312386744698168, 7.875989933614629, 'F'), (4.208731080048677, 8.92600983424973, 'F'), (6.551343574321221, 3.444072627924691, 'M'), (2.5609265645344403, 6.490260000053411, 'F'), (7.130183513141169, 1.1564486088528114, 'M'), (5.07744480445804, 8.126945161330072, 'M'), (2.31155235879944, 0.784554443049299, 'F'), (1.973059822327553, 0.09042591936226696, 'F'), (9.096824586804354, 6.073957210235821, 'M'), (7.362753767995034, 4.1733591237222765, 'F'), (5.0922187714163485, 1.850397435869785, 'M'), (9.85674781613669, 0.03712787189228073, 'M'), (4.646243908780655, 8.30416925843787, 'M'), (2.0765063668861696, 4.424926659724601, 'M'), (5.193231381228256, 8.572835636180487, 'M'), (3.6084035289040104, 4.062923486633049, 'F'), (9.795354171638982, 5.4751973917752075, 'F'), (4.940511291245651, 3.165581810971261, 'M'), (1.0166991494637023, 3.384407271352324, 'M'), (9.037493097783464, 9.802170641705034, 'F'), (7.227759894816359, 1.1836077067629291, 'M'), (2.310929552084413, 5.867033982229382, 'F'), (0.8942756492982273, 3.1103833752773644, 'M'), (7.4306223339232265, 0.6710387299999221, 'F'), (9.222464045280685, 7.738588025180663, 'M'), (3.2193771980717845, 5.723717203482016, 'F'), (7.21543252191307, 4.186490861578966, 'F'), (3.9497885003773368, 8.233928838871773, 'F'), (5.562265143726815, 1.404374095186619, 'F'), (4.288807741799917, 4.092363134485707, 'M'), (0.6761465143041923, 7.391853215214736, 'M'), (2.4437779165337936, 0.9844274701623312, 'M'), (3.3547752815999754, 9.462670517845117, 'M'), (4.882378962646403, 9.129191014795971, 'F'), (3.5631139470956152, 9.58179064666268, 'M'), (8.544032928841496, 6.986513909228144, 'M'), (8.499339199171516, 7.123282668913571, 'M'), (0.004720657971080122, 3.691255320069089, 'F'), (1.9468532518072923, 0.3059407187762697, 'F'), (1.5234610507988378, 4.8559154229071835, 'F'), (9.211166597582451, 6.317461151652653, 'M'), (6.757269794883905, 5.034754122445753, 'F'), (8.379555101055841, 8.367877381204028, 'F'), (0.5587126575783297, 2.516567696076266, 'F'), (5.813472207185092, 6.499706379396768, 'F'), (7.536357487589784, 3.104325685256155, 'F'), (4.969582908623307, 0.32049377746732, 'F'), (4.854691680915749, 2.125082736206103, 'F'), (0.7456394362596919, 3.955357946948337, 'F'), (4.689386446533387, 1.322976939110414, 'M'), (1.131144298634904, 8.70452393242848, 'F'), (3.8203426237972815, 7.167577947651093, 'F'), (5.597596043990371, 7.280339361133656, 'F'), (6.04646765842651, 0.8076521855991614, 'F'), (8.599886457312811, 2.6065210014993925, 'F'), (5.834807300045459, 1.2476317249112212, 'M'), (6.838824786947667, 1.2474656375147763, 'F'), (1.1198056041283, 2.7261747296562, 'M'), (9.950396180960979, 1.518103530606637, 'M'), (2.3882427914407565, 0.23226734668115534, 'M'), (2.13893037313583, 9.28970034489385, 'M'), (9.099409308334591, 7.234759445840536, 'M'), (8.339041285886307, 9.133821611431713, 'F'), (6.0057615710550145, 2.0918538554799273, 'M'), (6.90421936994582, 6.66234220537792, 'M'), (1.271052447803257, 2.6424989026181778, 'M'), (4.570321165089403, 7.02501327141711, 'M'), (5.007906166742534, 7.691618293572907, 'F'), (9.611709298506153, 0.16674530404042542, 'F'), (1.6978735721213623, 8.889379634563195, 'M'), (9.546128564125612, 2.6210670027124805, 'F'), (4.891401001830951, 8.606585669375743, 'M'), (0.07941064180859936, 8.467502753919847, 'F'), (7.618451795843032, 9.090106714615832, 'F'), (2.175403517250997, 9.01136705118229, 'M'), (6.3364959291807255, 1.6888576327548266, 'F'), (4.231743895142378, 0.6962166927754421, 'F'), (7.369883349453339, 6.447661101516338, 'M'), (7.119136815650857, 0.8819900396027336, 'M'), (8.279816618480877, 8.546770102888368, 'M'), (8.343160332910434, 2.9364300903338556, 'M'), (8.021892830504328, 8.131830473767799, 'M'), (1.2474110264649863, 1.676729407776547, 'M'), (7.818886793509695, 7.560599262235864, 'F'), (7.173511494169134, 7.260294432570067, 'F'), (3.6377592550431204, 8.994865664891812, 'F'), (1.9595952326886723, 9.782002094489739, 'F'), (8.24224328106583, 9.3151738127182, 'M'), (9.790676230871899, 1.709411405992226, 'M')]\n",
      "[2, 3]\n"
     ]
    }
   ],
   "source": [
    "print(data)\n",
    "print(test)"
   ]
  },
  {
   "cell_type": "markdown",
   "metadata": {},
   "source": [
    "### Step 4\n",
    "\n",
    "This is the actual KNN process. \n",
    "\n",
    "Start by creating an empty list to store the distance results."
   ]
  },
  {
   "cell_type": "code",
   "execution_count": 8,
   "metadata": {},
   "outputs": [],
   "source": [
    "# create an empty list to store distance results\n",
    "distance_results = []"
   ]
  },
  {
   "cell_type": "markdown",
   "metadata": {},
   "source": [
    "Create a for loop to go through each 'point' in 'data' variable.  \n",
    "Within the for loop:\n",
    "* Find the distance between that 'point' and test.  \n",
    "* Store this distance and it's corresponding class within a tuple or a list.\n",
    "* Add this tuple/list into distance_results\n",
    "\n",
    "Your distance_results list will look something like this:  \n",
    "[ (2.3, \"M\"), (3.4, \"F\").... ] "
   ]
  },
  {
   "cell_type": "code",
   "execution_count": 9,
   "metadata": {},
   "outputs": [],
   "source": [
    "# calculate distance for all points in data\n",
    "n = 0\n",
    "\n",
    "while n < len(data):\n",
    "    mytuple = (distance_class(data[n], test), data[n][2])\n",
    "    distance_results.append(mytuple)\n",
    "    n += 1"
   ]
  },
  {
   "cell_type": "code",
   "execution_count": 10,
   "metadata": {},
   "outputs": [
    {
     "name": "stdout",
     "output_type": "stream",
     "text": [
      "[(7.1268843918513864, 'F'), (6.841665033888564, 'M'), (1.6030483046924884, 'F'), (1.8911946549713432, 'F'), (2.5884303080685873, 'M'), (9.600698454303469, 'F'), (3.026685257905522, 'F'), (3.0934338352352455, 'F'), (0.9517946391717846, 'F'), (2.8608293826901976, 'M'), (6.533233938452743, 'M'), (5.0495184721288675, 'F'), (6.324245847498143, 'F'), (4.572956246279534, 'M'), (3.5350464606244207, 'F'), (5.451372727149209, 'M'), (5.979651596186154, 'M'), (2.2372447090307523, 'F'), (2.9096987995137797, 'F'), (7.733959667998766, 'M'), (5.48961743743289, 'F'), (3.2990003009630655, 'M'), (8.396850450846806, 'M'), (5.927631765462162, 'M'), (1.4269790502204407, 'M'), (6.422867247728548, 'M'), (1.927892178060545, 'F'), (8.17888432425475, 'F'), (2.945169602937611, 'M'), (1.0557696306173738, 'M'), (9.787534650780236, 'F'), (5.534325115204325, 'M'), (2.883844836605722, 'F'), (1.111220423351047, 'M'), (5.908952490151374, 'F'), (8.638182873600083, 'M'), (2.984211144627888, 'F'), (5.348691144124787, 'F'), (5.585309864866704, 'F'), (3.9033005242131367, 'F'), (2.536118707100808, 'M'), (4.587042916256721, 'M'), (2.063848701392448, 'M'), (6.603145181340387, 'M'), (6.773115308346833, 'F'), (6.764857228951782, 'M'), (7.662679695917823, 'M'), (7.696939001554479, 'M'), (2.1116281799244816, 'F'), (2.694583453447152, 'F'), (1.9161188447198407, 'F'), (7.937661632421315, 'M'), (5.17415116131378, 'F'), (8.33743550901891, 'F'), (1.520202616726445, 'F'), (5.1759554689896214, 'F'), (5.53734034343164, 'F'), (3.9997720244757717, 'F'), (2.9857569913799393, 'F'), (1.576746406580413, 'F'), (3.169417265926491, 'M'), (5.770312255454112, 'F'), (4.547785528997697, 'F'), (5.591422211048387, 'F'), (4.602204846592539, 'F'), (6.611605476106548, 'F'), (4.216223618360341, 'M'), (5.146416424121801, 'F'), (0.9218039125555946, 'M'), (8.087324438912999, 'M'), (2.7948303178105616, 'M'), (6.291234543166984, 'M'), (8.26648656270628, 'M'), (8.820839641725604, 'F'), (4.107414659362725, 'M'), (6.1207939074799915, 'M'), (0.8118938160146502, 'M'), (4.775697093282866, 'M'), (5.573040617160055, 'F'), (8.121911758763574, 'F'), (5.89712411760431, 'M'), (7.555636738405689, 'F'), (6.3082487761215065, 'M'), (5.795019400046834, 'F'), (8.285915783884159, 'F'), (6.013925524805249, 'M'), (4.530374294800186, 'F'), (3.207506561201675, 'F'), (6.3813802784072555, 'M'), (5.539993495455931, 'M'), (8.378708452741678, 'M'), (6.343478867500338, 'M'), (7.9119452269066715, 'M'), (1.5223124591652968, 'M'), (7.393139329566828, 'F'), (6.701890019426434, 'F'), (6.214553058553618, 'F'), (6.7821224520709364, 'F'), (8.879584532220706, 'M'), (7.896850958024682, 'M')]\n"
     ]
    }
   ],
   "source": [
    "print(distance_results)"
   ]
  },
  {
   "cell_type": "markdown",
   "metadata": {},
   "source": [
    "### Step 5\n",
    "\n",
    "Create an empty list called knn_list.  \n",
    "\n",
    "Use for loops to go through distance_results 'k' times in order to pick out the shortest 'distance' each time.  \n",
    "Store these in knn_list, and remember to remove it distance_results. (Hint: Use the remove() function for lists. )\n",
    "\n",
    "You may need to create extra variables to do this."
   ]
  },
  {
   "cell_type": "code",
   "execution_count": 11,
   "metadata": {},
   "outputs": [],
   "source": [
    "knn_list = []\n",
    "\n",
    "for distance in distance_results:\n",
    "    if len(knn_list) < 5:\n",
    "        knn_list.append(distance)\n",
    "    elif distance[0] < max(knn_list)[0]:\n",
    "        knn_list.remove(max(knn_list))\n",
    "        knn_list.append(distance)"
   ]
  },
  {
   "cell_type": "code",
   "execution_count": 12,
   "metadata": {},
   "outputs": [
    {
     "data": {
      "text/plain": [
       "[(0.9517946391717846, 'F'),\n",
       " (1.0557696306173738, 'M'),\n",
       " (1.111220423351047, 'M'),\n",
       " (0.9218039125555946, 'M'),\n",
       " (0.8118938160146502, 'M')]"
      ]
     },
     "execution_count": 12,
     "metadata": {},
     "output_type": "execute_result"
    }
   ],
   "source": [
    "knn_list"
   ]
  },
  {
   "cell_type": "markdown",
   "metadata": {},
   "source": [
    "### Step 6\n",
    "\n",
    "Count the number of \"M\" and \"F\".  \n",
    "Depending on which has a higher of occurence, print out the results!"
   ]
  },
  {
   "cell_type": "code",
   "execution_count": 13,
   "metadata": {},
   "outputs": [
    {
     "name": "stdout",
     "output_type": "stream",
     "text": [
      "48 M\n",
      "52 F\n"
     ]
    }
   ],
   "source": [
    "M = 0\n",
    "F = 0\n",
    "\n",
    "for gender in distance_results:\n",
    "    if gender[1] == 'M':\n",
    "        M += 1\n",
    "    else:\n",
    "        F += 1\n",
    "    \n",
    "print(M, 'M')\n",
    "print(F, 'F')"
   ]
  },
  {
   "cell_type": "markdown",
   "metadata": {},
   "source": [
    "### Congratulations! You completed the implementation of KNN!\n",
    "\n",
    "There are several ways you can improve the algorithm, including:  \n",
    "* Modify the example so this works for regression.\n",
    "* Use Python's multiprocessing package when calculating distance with all points. \n",
    "* The 'distance' function uses Pythagoras' Theorem and is commonly called Euclidean distance. Consider changing this to Manhattan distance."
   ]
  }
 ],
 "metadata": {
  "kernelspec": {
   "display_name": "Python 3 (ipykernel)",
   "language": "python",
   "name": "python3"
  },
  "language_info": {
   "codemirror_mode": {
    "name": "ipython",
    "version": 3
   },
   "file_extension": ".py",
   "mimetype": "text/x-python",
   "name": "python",
   "nbconvert_exporter": "python",
   "pygments_lexer": "ipython3",
   "version": "3.9.7"
  }
 },
 "nbformat": 4,
 "nbformat_minor": 4
}
