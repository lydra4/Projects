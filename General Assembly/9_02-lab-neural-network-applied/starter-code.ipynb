{
 "cells": [
  {
   "cell_type": "markdown",
   "metadata": {},
   "source": [
    "<img src=\"http://imgur.com/1ZcRyrc.png\" style=\"float: left; margin: 20px; height: 55px\">\n",
    "\n",
    "# Lab: Fun with Neural Nets\n",
    "\n",
    "---"
   ]
  },
  {
   "cell_type": "markdown",
   "metadata": {},
   "source": [
    "Below is a procedure for building a neural network to recognize handwritten digits.  The data is from [Kaggle](https://www.kaggle.com/c/digit-recognizer/data), and you will submit your results to Kaggle to test how well you did!\n",
    "\n",
    "1. Load the training data (`train.csv`) from [Kaggle](https://www.kaggle.com/c/digit-recognizer/data)\n",
    "2. Setup X and y (feature matrix and target vector)\n",
    "3. Split X and y into train and test subsets.\n",
    "4. Preprocess your data\n",
    "\n",
    "   - When dealing with image data, you need to normalize your `X` by dividing each value by the max value of a pixel (255).\n",
    "   - Since this is a multiclass classification problem, keras needs `y` to be a one-hot encoded matrix\n",
    "   \n",
    "5. Create your network.\n",
    "\n",
    "   - Remember that for multi-class classification you need a softamx activation function on the output layer.\n",
    "   - You may want to consider using regularization or dropout to improve performance.\n",
    "   \n",
    "6. Trian your network.\n",
    "7. If you are unhappy with your model performance, try to tighten up your model by adding hidden layers, adding hidden layer units, chaning the activation functions on the hidden layers, etc.\n",
    "8. Load in [Kaggle's](https://www.kaggle.com/c/digit-recognizer/data) `test.csv`\n",
    "9. Create your predictions (these should be numbers in the range 0-9).\n",
    "10. Save your predictions and submit them to Kaggle."
   ]
  },
  {
   "cell_type": "markdown",
   "metadata": {},
   "source": [
    "---\n",
    "\n",
    "For this lab, you should complete the above sequence of steps for _at least_ two of the four \"configurations\":\n",
    "\n",
    "1. Using a `tensorflow` network (we did _not_ cover this in class!)\n",
    "2. Using a `keras` convolutional network\n",
    "3. Using a `keras` network with regularization\n",
    "4. Using a `tensorflow` convolutional network (we did _not_ cover this in class!)"
   ]
  },
  {
   "cell_type": "markdown",
   "metadata": {},
   "source": [
    "# Importing Libraries"
   ]
  },
  {
   "cell_type": "code",
   "execution_count": 1,
   "metadata": {
    "ExecuteTime": {
     "end_time": "2022-09-13T09:52:52.975330Z",
     "start_time": "2022-09-13T09:52:44.447376Z"
    }
   },
   "outputs": [],
   "source": [
    "import numpy as np\n",
    "import pandas as pd\n",
    "import tensorflow as tf\n",
    "import matplotlib.pyplot as plt\n",
    "from tensorflow.keras.optimizers import SGD\n",
    "from tensorflow.keras.utils import to_categorical\n",
    "from sklearn.model_selection import train_test_split\n",
    "from tensorflow.keras import Sequential, datasets, regularizers\n",
    "from tensorflow.keras.layers import Dense, Conv2D, Flatten, MaxPooling2D, BatchNormalization"
   ]
  },
  {
   "cell_type": "markdown",
   "metadata": {},
   "source": [
    "### Define Generalization function"
   ]
  },
  {
   "cell_type": "code",
   "execution_count": 2,
   "metadata": {
    "ExecuteTime": {
     "end_time": "2022-09-13T09:52:52.991291Z",
     "start_time": "2022-09-13T09:52:52.976330Z"
    }
   },
   "outputs": [],
   "source": [
    "def gen_score(x,y):\n",
    "    return np.abs(((x - y) / y) * 100)"
   ]
  },
  {
   "cell_type": "markdown",
   "metadata": {},
   "source": [
    "# Reading Data"
   ]
  },
  {
   "cell_type": "code",
   "execution_count": 3,
   "metadata": {
    "ExecuteTime": {
     "end_time": "2022-09-13T09:53:37.810909Z",
     "start_time": "2022-09-13T09:52:52.992287Z"
    }
   },
   "outputs": [],
   "source": [
    "df_train = pd.read_csv('https://raw.githubusercontent.com/sbussmann/kaggle-mnist/master/Data/train.csv')\n",
    "df_test = pd.read_csv('https://raw.githubusercontent.com/sbussmann/kaggle-mnist/master/Data/test.csv')"
   ]
  },
  {
   "cell_type": "markdown",
   "metadata": {},
   "source": [
    "# Exploratory Data Analysis (EDA)"
   ]
  },
  {
   "cell_type": "code",
   "execution_count": 84,
   "metadata": {
    "ExecuteTime": {
     "end_time": "2022-09-13T09:07:31.643728Z",
     "start_time": "2022-09-13T09:07:31.628769Z"
    }
   },
   "outputs": [
    {
     "data": {
      "text/html": [
       "<div>\n",
       "<style scoped>\n",
       "    .dataframe tbody tr th:only-of-type {\n",
       "        vertical-align: middle;\n",
       "    }\n",
       "\n",
       "    .dataframe tbody tr th {\n",
       "        vertical-align: top;\n",
       "    }\n",
       "\n",
       "    .dataframe thead th {\n",
       "        text-align: right;\n",
       "    }\n",
       "</style>\n",
       "<table border=\"1\" class=\"dataframe\">\n",
       "  <thead>\n",
       "    <tr style=\"text-align: right;\">\n",
       "      <th></th>\n",
       "      <th>label</th>\n",
       "      <th>pixel0</th>\n",
       "      <th>pixel1</th>\n",
       "      <th>pixel2</th>\n",
       "      <th>pixel3</th>\n",
       "      <th>pixel4</th>\n",
       "      <th>pixel5</th>\n",
       "      <th>pixel6</th>\n",
       "      <th>pixel7</th>\n",
       "      <th>pixel8</th>\n",
       "      <th>...</th>\n",
       "      <th>pixel774</th>\n",
       "      <th>pixel775</th>\n",
       "      <th>pixel776</th>\n",
       "      <th>pixel777</th>\n",
       "      <th>pixel778</th>\n",
       "      <th>pixel779</th>\n",
       "      <th>pixel780</th>\n",
       "      <th>pixel781</th>\n",
       "      <th>pixel782</th>\n",
       "      <th>pixel783</th>\n",
       "    </tr>\n",
       "  </thead>\n",
       "  <tbody>\n",
       "    <tr>\n",
       "      <th>0</th>\n",
       "      <td>1</td>\n",
       "      <td>0</td>\n",
       "      <td>0</td>\n",
       "      <td>0</td>\n",
       "      <td>0</td>\n",
       "      <td>0</td>\n",
       "      <td>0</td>\n",
       "      <td>0</td>\n",
       "      <td>0</td>\n",
       "      <td>0</td>\n",
       "      <td>...</td>\n",
       "      <td>0</td>\n",
       "      <td>0</td>\n",
       "      <td>0</td>\n",
       "      <td>0</td>\n",
       "      <td>0</td>\n",
       "      <td>0</td>\n",
       "      <td>0</td>\n",
       "      <td>0</td>\n",
       "      <td>0</td>\n",
       "      <td>0</td>\n",
       "    </tr>\n",
       "    <tr>\n",
       "      <th>1</th>\n",
       "      <td>0</td>\n",
       "      <td>0</td>\n",
       "      <td>0</td>\n",
       "      <td>0</td>\n",
       "      <td>0</td>\n",
       "      <td>0</td>\n",
       "      <td>0</td>\n",
       "      <td>0</td>\n",
       "      <td>0</td>\n",
       "      <td>0</td>\n",
       "      <td>...</td>\n",
       "      <td>0</td>\n",
       "      <td>0</td>\n",
       "      <td>0</td>\n",
       "      <td>0</td>\n",
       "      <td>0</td>\n",
       "      <td>0</td>\n",
       "      <td>0</td>\n",
       "      <td>0</td>\n",
       "      <td>0</td>\n",
       "      <td>0</td>\n",
       "    </tr>\n",
       "    <tr>\n",
       "      <th>2</th>\n",
       "      <td>1</td>\n",
       "      <td>0</td>\n",
       "      <td>0</td>\n",
       "      <td>0</td>\n",
       "      <td>0</td>\n",
       "      <td>0</td>\n",
       "      <td>0</td>\n",
       "      <td>0</td>\n",
       "      <td>0</td>\n",
       "      <td>0</td>\n",
       "      <td>...</td>\n",
       "      <td>0</td>\n",
       "      <td>0</td>\n",
       "      <td>0</td>\n",
       "      <td>0</td>\n",
       "      <td>0</td>\n",
       "      <td>0</td>\n",
       "      <td>0</td>\n",
       "      <td>0</td>\n",
       "      <td>0</td>\n",
       "      <td>0</td>\n",
       "    </tr>\n",
       "    <tr>\n",
       "      <th>3</th>\n",
       "      <td>4</td>\n",
       "      <td>0</td>\n",
       "      <td>0</td>\n",
       "      <td>0</td>\n",
       "      <td>0</td>\n",
       "      <td>0</td>\n",
       "      <td>0</td>\n",
       "      <td>0</td>\n",
       "      <td>0</td>\n",
       "      <td>0</td>\n",
       "      <td>...</td>\n",
       "      <td>0</td>\n",
       "      <td>0</td>\n",
       "      <td>0</td>\n",
       "      <td>0</td>\n",
       "      <td>0</td>\n",
       "      <td>0</td>\n",
       "      <td>0</td>\n",
       "      <td>0</td>\n",
       "      <td>0</td>\n",
       "      <td>0</td>\n",
       "    </tr>\n",
       "    <tr>\n",
       "      <th>4</th>\n",
       "      <td>0</td>\n",
       "      <td>0</td>\n",
       "      <td>0</td>\n",
       "      <td>0</td>\n",
       "      <td>0</td>\n",
       "      <td>0</td>\n",
       "      <td>0</td>\n",
       "      <td>0</td>\n",
       "      <td>0</td>\n",
       "      <td>0</td>\n",
       "      <td>...</td>\n",
       "      <td>0</td>\n",
       "      <td>0</td>\n",
       "      <td>0</td>\n",
       "      <td>0</td>\n",
       "      <td>0</td>\n",
       "      <td>0</td>\n",
       "      <td>0</td>\n",
       "      <td>0</td>\n",
       "      <td>0</td>\n",
       "      <td>0</td>\n",
       "    </tr>\n",
       "  </tbody>\n",
       "</table>\n",
       "<p>5 rows × 785 columns</p>\n",
       "</div>"
      ],
      "text/plain": [
       "   label  pixel0  pixel1  pixel2  pixel3  pixel4  pixel5  pixel6  pixel7  \\\n",
       "0      1       0       0       0       0       0       0       0       0   \n",
       "1      0       0       0       0       0       0       0       0       0   \n",
       "2      1       0       0       0       0       0       0       0       0   \n",
       "3      4       0       0       0       0       0       0       0       0   \n",
       "4      0       0       0       0       0       0       0       0       0   \n",
       "\n",
       "   pixel8  ...  pixel774  pixel775  pixel776  pixel777  pixel778  pixel779  \\\n",
       "0       0  ...         0         0         0         0         0         0   \n",
       "1       0  ...         0         0         0         0         0         0   \n",
       "2       0  ...         0         0         0         0         0         0   \n",
       "3       0  ...         0         0         0         0         0         0   \n",
       "4       0  ...         0         0         0         0         0         0   \n",
       "\n",
       "   pixel780  pixel781  pixel782  pixel783  \n",
       "0         0         0         0         0  \n",
       "1         0         0         0         0  \n",
       "2         0         0         0         0  \n",
       "3         0         0         0         0  \n",
       "4         0         0         0         0  \n",
       "\n",
       "[5 rows x 785 columns]"
      ]
     },
     "execution_count": 84,
     "metadata": {},
     "output_type": "execute_result"
    }
   ],
   "source": [
    "df_train.head()"
   ]
  },
  {
   "cell_type": "code",
   "execution_count": 85,
   "metadata": {
    "ExecuteTime": {
     "end_time": "2022-09-13T09:07:31.690603Z",
     "start_time": "2022-09-13T09:07:31.646720Z"
    }
   },
   "outputs": [
    {
     "name": "stdout",
     "output_type": "stream",
     "text": [
      "<class 'pandas.core.frame.DataFrame'>\n",
      "RangeIndex: 42000 entries, 0 to 41999\n",
      "Data columns (total 785 columns):\n",
      " #    Column    Dtype\n",
      "---   ------    -----\n",
      " 0    label     int64\n",
      " 1    pixel0    int64\n",
      " 2    pixel1    int64\n",
      " 3    pixel2    int64\n",
      " 4    pixel3    int64\n",
      " 5    pixel4    int64\n",
      " 6    pixel5    int64\n",
      " 7    pixel6    int64\n",
      " 8    pixel7    int64\n",
      " 9    pixel8    int64\n",
      " 10   pixel9    int64\n",
      " 11   pixel10   int64\n",
      " 12   pixel11   int64\n",
      " 13   pixel12   int64\n",
      " 14   pixel13   int64\n",
      " 15   pixel14   int64\n",
      " 16   pixel15   int64\n",
      " 17   pixel16   int64\n",
      " 18   pixel17   int64\n",
      " 19   pixel18   int64\n",
      " 20   pixel19   int64\n",
      " 21   pixel20   int64\n",
      " 22   pixel21   int64\n",
      " 23   pixel22   int64\n",
      " 24   pixel23   int64\n",
      " 25   pixel24   int64\n",
      " 26   pixel25   int64\n",
      " 27   pixel26   int64\n",
      " 28   pixel27   int64\n",
      " 29   pixel28   int64\n",
      " 30   pixel29   int64\n",
      " 31   pixel30   int64\n",
      " 32   pixel31   int64\n",
      " 33   pixel32   int64\n",
      " 34   pixel33   int64\n",
      " 35   pixel34   int64\n",
      " 36   pixel35   int64\n",
      " 37   pixel36   int64\n",
      " 38   pixel37   int64\n",
      " 39   pixel38   int64\n",
      " 40   pixel39   int64\n",
      " 41   pixel40   int64\n",
      " 42   pixel41   int64\n",
      " 43   pixel42   int64\n",
      " 44   pixel43   int64\n",
      " 45   pixel44   int64\n",
      " 46   pixel45   int64\n",
      " 47   pixel46   int64\n",
      " 48   pixel47   int64\n",
      " 49   pixel48   int64\n",
      " 50   pixel49   int64\n",
      " 51   pixel50   int64\n",
      " 52   pixel51   int64\n",
      " 53   pixel52   int64\n",
      " 54   pixel53   int64\n",
      " 55   pixel54   int64\n",
      " 56   pixel55   int64\n",
      " 57   pixel56   int64\n",
      " 58   pixel57   int64\n",
      " 59   pixel58   int64\n",
      " 60   pixel59   int64\n",
      " 61   pixel60   int64\n",
      " 62   pixel61   int64\n",
      " 63   pixel62   int64\n",
      " 64   pixel63   int64\n",
      " 65   pixel64   int64\n",
      " 66   pixel65   int64\n",
      " 67   pixel66   int64\n",
      " 68   pixel67   int64\n",
      " 69   pixel68   int64\n",
      " 70   pixel69   int64\n",
      " 71   pixel70   int64\n",
      " 72   pixel71   int64\n",
      " 73   pixel72   int64\n",
      " 74   pixel73   int64\n",
      " 75   pixel74   int64\n",
      " 76   pixel75   int64\n",
      " 77   pixel76   int64\n",
      " 78   pixel77   int64\n",
      " 79   pixel78   int64\n",
      " 80   pixel79   int64\n",
      " 81   pixel80   int64\n",
      " 82   pixel81   int64\n",
      " 83   pixel82   int64\n",
      " 84   pixel83   int64\n",
      " 85   pixel84   int64\n",
      " 86   pixel85   int64\n",
      " 87   pixel86   int64\n",
      " 88   pixel87   int64\n",
      " 89   pixel88   int64\n",
      " 90   pixel89   int64\n",
      " 91   pixel90   int64\n",
      " 92   pixel91   int64\n",
      " 93   pixel92   int64\n",
      " 94   pixel93   int64\n",
      " 95   pixel94   int64\n",
      " 96   pixel95   int64\n",
      " 97   pixel96   int64\n",
      " 98   pixel97   int64\n",
      " 99   pixel98   int64\n",
      " 100  pixel99   int64\n",
      " 101  pixel100  int64\n",
      " 102  pixel101  int64\n",
      " 103  pixel102  int64\n",
      " 104  pixel103  int64\n",
      " 105  pixel104  int64\n",
      " 106  pixel105  int64\n",
      " 107  pixel106  int64\n",
      " 108  pixel107  int64\n",
      " 109  pixel108  int64\n",
      " 110  pixel109  int64\n",
      " 111  pixel110  int64\n",
      " 112  pixel111  int64\n",
      " 113  pixel112  int64\n",
      " 114  pixel113  int64\n",
      " 115  pixel114  int64\n",
      " 116  pixel115  int64\n",
      " 117  pixel116  int64\n",
      " 118  pixel117  int64\n",
      " 119  pixel118  int64\n",
      " 120  pixel119  int64\n",
      " 121  pixel120  int64\n",
      " 122  pixel121  int64\n",
      " 123  pixel122  int64\n",
      " 124  pixel123  int64\n",
      " 125  pixel124  int64\n",
      " 126  pixel125  int64\n",
      " 127  pixel126  int64\n",
      " 128  pixel127  int64\n",
      " 129  pixel128  int64\n",
      " 130  pixel129  int64\n",
      " 131  pixel130  int64\n",
      " 132  pixel131  int64\n",
      " 133  pixel132  int64\n",
      " 134  pixel133  int64\n",
      " 135  pixel134  int64\n",
      " 136  pixel135  int64\n",
      " 137  pixel136  int64\n",
      " 138  pixel137  int64\n",
      " 139  pixel138  int64\n",
      " 140  pixel139  int64\n",
      " 141  pixel140  int64\n",
      " 142  pixel141  int64\n",
      " 143  pixel142  int64\n",
      " 144  pixel143  int64\n",
      " 145  pixel144  int64\n",
      " 146  pixel145  int64\n",
      " 147  pixel146  int64\n",
      " 148  pixel147  int64\n",
      " 149  pixel148  int64\n",
      " 150  pixel149  int64\n",
      " 151  pixel150  int64\n",
      " 152  pixel151  int64\n",
      " 153  pixel152  int64\n",
      " 154  pixel153  int64\n",
      " 155  pixel154  int64\n",
      " 156  pixel155  int64\n",
      " 157  pixel156  int64\n",
      " 158  pixel157  int64\n",
      " 159  pixel158  int64\n",
      " 160  pixel159  int64\n",
      " 161  pixel160  int64\n",
      " 162  pixel161  int64\n",
      " 163  pixel162  int64\n",
      " 164  pixel163  int64\n",
      " 165  pixel164  int64\n",
      " 166  pixel165  int64\n",
      " 167  pixel166  int64\n",
      " 168  pixel167  int64\n",
      " 169  pixel168  int64\n",
      " 170  pixel169  int64\n",
      " 171  pixel170  int64\n",
      " 172  pixel171  int64\n",
      " 173  pixel172  int64\n",
      " 174  pixel173  int64\n",
      " 175  pixel174  int64\n",
      " 176  pixel175  int64\n",
      " 177  pixel176  int64\n",
      " 178  pixel177  int64\n",
      " 179  pixel178  int64\n",
      " 180  pixel179  int64\n",
      " 181  pixel180  int64\n",
      " 182  pixel181  int64\n",
      " 183  pixel182  int64\n",
      " 184  pixel183  int64\n",
      " 185  pixel184  int64\n",
      " 186  pixel185  int64\n",
      " 187  pixel186  int64\n",
      " 188  pixel187  int64\n",
      " 189  pixel188  int64\n",
      " 190  pixel189  int64\n",
      " 191  pixel190  int64\n",
      " 192  pixel191  int64\n",
      " 193  pixel192  int64\n",
      " 194  pixel193  int64\n",
      " 195  pixel194  int64\n",
      " 196  pixel195  int64\n",
      " 197  pixel196  int64\n",
      " 198  pixel197  int64\n",
      " 199  pixel198  int64\n",
      " 200  pixel199  int64\n",
      " 201  pixel200  int64\n",
      " 202  pixel201  int64\n",
      " 203  pixel202  int64\n",
      " 204  pixel203  int64\n",
      " 205  pixel204  int64\n",
      " 206  pixel205  int64\n",
      " 207  pixel206  int64\n",
      " 208  pixel207  int64\n",
      " 209  pixel208  int64\n",
      " 210  pixel209  int64\n",
      " 211  pixel210  int64\n",
      " 212  pixel211  int64\n",
      " 213  pixel212  int64\n",
      " 214  pixel213  int64\n",
      " 215  pixel214  int64\n",
      " 216  pixel215  int64\n",
      " 217  pixel216  int64\n",
      " 218  pixel217  int64\n",
      " 219  pixel218  int64\n",
      " 220  pixel219  int64\n",
      " 221  pixel220  int64\n",
      " 222  pixel221  int64\n",
      " 223  pixel222  int64\n",
      " 224  pixel223  int64\n",
      " 225  pixel224  int64\n",
      " 226  pixel225  int64\n",
      " 227  pixel226  int64\n",
      " 228  pixel227  int64\n",
      " 229  pixel228  int64\n",
      " 230  pixel229  int64\n",
      " 231  pixel230  int64\n",
      " 232  pixel231  int64\n",
      " 233  pixel232  int64\n",
      " 234  pixel233  int64\n",
      " 235  pixel234  int64\n",
      " 236  pixel235  int64\n",
      " 237  pixel236  int64\n",
      " 238  pixel237  int64\n",
      " 239  pixel238  int64\n",
      " 240  pixel239  int64\n",
      " 241  pixel240  int64\n",
      " 242  pixel241  int64\n",
      " 243  pixel242  int64\n",
      " 244  pixel243  int64\n",
      " 245  pixel244  int64\n",
      " 246  pixel245  int64\n",
      " 247  pixel246  int64\n",
      " 248  pixel247  int64\n",
      " 249  pixel248  int64\n",
      " 250  pixel249  int64\n",
      " 251  pixel250  int64\n",
      " 252  pixel251  int64\n",
      " 253  pixel252  int64\n",
      " 254  pixel253  int64\n",
      " 255  pixel254  int64\n",
      " 256  pixel255  int64\n",
      " 257  pixel256  int64\n",
      " 258  pixel257  int64\n",
      " 259  pixel258  int64\n",
      " 260  pixel259  int64\n",
      " 261  pixel260  int64\n",
      " 262  pixel261  int64\n",
      " 263  pixel262  int64\n",
      " 264  pixel263  int64\n",
      " 265  pixel264  int64\n",
      " 266  pixel265  int64\n",
      " 267  pixel266  int64\n",
      " 268  pixel267  int64\n",
      " 269  pixel268  int64\n",
      " 270  pixel269  int64\n",
      " 271  pixel270  int64\n",
      " 272  pixel271  int64\n",
      " 273  pixel272  int64\n",
      " 274  pixel273  int64\n",
      " 275  pixel274  int64\n",
      " 276  pixel275  int64\n",
      " 277  pixel276  int64\n",
      " 278  pixel277  int64\n",
      " 279  pixel278  int64\n",
      " 280  pixel279  int64\n",
      " 281  pixel280  int64\n",
      " 282  pixel281  int64\n",
      " 283  pixel282  int64\n",
      " 284  pixel283  int64\n",
      " 285  pixel284  int64\n",
      " 286  pixel285  int64\n",
      " 287  pixel286  int64\n",
      " 288  pixel287  int64\n",
      " 289  pixel288  int64\n",
      " 290  pixel289  int64\n",
      " 291  pixel290  int64\n",
      " 292  pixel291  int64\n",
      " 293  pixel292  int64\n",
      " 294  pixel293  int64\n",
      " 295  pixel294  int64\n",
      " 296  pixel295  int64\n",
      " 297  pixel296  int64\n",
      " 298  pixel297  int64\n",
      " 299  pixel298  int64\n",
      " 300  pixel299  int64\n",
      " 301  pixel300  int64\n",
      " 302  pixel301  int64\n",
      " 303  pixel302  int64\n",
      " 304  pixel303  int64\n",
      " 305  pixel304  int64\n",
      " 306  pixel305  int64\n",
      " 307  pixel306  int64\n",
      " 308  pixel307  int64\n",
      " 309  pixel308  int64\n",
      " 310  pixel309  int64\n",
      " 311  pixel310  int64\n",
      " 312  pixel311  int64\n",
      " 313  pixel312  int64\n",
      " 314  pixel313  int64\n",
      " 315  pixel314  int64\n",
      " 316  pixel315  int64\n",
      " 317  pixel316  int64\n",
      " 318  pixel317  int64\n",
      " 319  pixel318  int64\n",
      " 320  pixel319  int64\n",
      " 321  pixel320  int64\n",
      " 322  pixel321  int64\n",
      " 323  pixel322  int64\n",
      " 324  pixel323  int64\n",
      " 325  pixel324  int64\n",
      " 326  pixel325  int64\n",
      " 327  pixel326  int64\n",
      " 328  pixel327  int64\n",
      " 329  pixel328  int64\n",
      " 330  pixel329  int64\n",
      " 331  pixel330  int64\n",
      " 332  pixel331  int64\n",
      " 333  pixel332  int64\n",
      " 334  pixel333  int64\n",
      " 335  pixel334  int64\n",
      " 336  pixel335  int64\n",
      " 337  pixel336  int64\n",
      " 338  pixel337  int64\n",
      " 339  pixel338  int64\n",
      " 340  pixel339  int64\n",
      " 341  pixel340  int64\n",
      " 342  pixel341  int64\n",
      " 343  pixel342  int64\n",
      " 344  pixel343  int64\n",
      " 345  pixel344  int64\n",
      " 346  pixel345  int64\n",
      " 347  pixel346  int64\n",
      " 348  pixel347  int64\n",
      " 349  pixel348  int64\n",
      " 350  pixel349  int64\n",
      " 351  pixel350  int64\n",
      " 352  pixel351  int64\n",
      " 353  pixel352  int64\n",
      " 354  pixel353  int64\n",
      " 355  pixel354  int64\n",
      " 356  pixel355  int64\n",
      " 357  pixel356  int64\n",
      " 358  pixel357  int64\n",
      " 359  pixel358  int64\n",
      " 360  pixel359  int64\n",
      " 361  pixel360  int64\n",
      " 362  pixel361  int64\n",
      " 363  pixel362  int64\n",
      " 364  pixel363  int64\n",
      " 365  pixel364  int64\n",
      " 366  pixel365  int64\n",
      " 367  pixel366  int64\n",
      " 368  pixel367  int64\n",
      " 369  pixel368  int64\n",
      " 370  pixel369  int64\n",
      " 371  pixel370  int64\n",
      " 372  pixel371  int64\n",
      " 373  pixel372  int64\n",
      " 374  pixel373  int64\n",
      " 375  pixel374  int64\n",
      " 376  pixel375  int64\n",
      " 377  pixel376  int64\n",
      " 378  pixel377  int64\n",
      " 379  pixel378  int64\n",
      " 380  pixel379  int64\n",
      " 381  pixel380  int64\n",
      " 382  pixel381  int64\n",
      " 383  pixel382  int64\n",
      " 384  pixel383  int64\n",
      " 385  pixel384  int64\n",
      " 386  pixel385  int64\n",
      " 387  pixel386  int64\n",
      " 388  pixel387  int64\n",
      " 389  pixel388  int64\n",
      " 390  pixel389  int64\n",
      " 391  pixel390  int64\n",
      " 392  pixel391  int64\n",
      " 393  pixel392  int64\n",
      " 394  pixel393  int64\n",
      " 395  pixel394  int64\n",
      " 396  pixel395  int64\n",
      " 397  pixel396  int64\n",
      " 398  pixel397  int64\n",
      " 399  pixel398  int64\n",
      " 400  pixel399  int64\n",
      " 401  pixel400  int64\n",
      " 402  pixel401  int64\n",
      " 403  pixel402  int64\n",
      " 404  pixel403  int64\n",
      " 405  pixel404  int64\n",
      " 406  pixel405  int64\n",
      " 407  pixel406  int64\n",
      " 408  pixel407  int64\n",
      " 409  pixel408  int64\n",
      " 410  pixel409  int64\n",
      " 411  pixel410  int64\n",
      " 412  pixel411  int64\n",
      " 413  pixel412  int64\n",
      " 414  pixel413  int64\n",
      " 415  pixel414  int64\n",
      " 416  pixel415  int64\n",
      " 417  pixel416  int64\n",
      " 418  pixel417  int64\n",
      " 419  pixel418  int64\n",
      " 420  pixel419  int64\n",
      " 421  pixel420  int64\n",
      " 422  pixel421  int64\n",
      " 423  pixel422  int64\n",
      " 424  pixel423  int64\n",
      " 425  pixel424  int64\n",
      " 426  pixel425  int64\n",
      " 427  pixel426  int64\n",
      " 428  pixel427  int64\n",
      " 429  pixel428  int64\n",
      " 430  pixel429  int64\n",
      " 431  pixel430  int64\n",
      " 432  pixel431  int64\n",
      " 433  pixel432  int64\n",
      " 434  pixel433  int64\n",
      " 435  pixel434  int64\n",
      " 436  pixel435  int64\n",
      " 437  pixel436  int64\n",
      " 438  pixel437  int64\n",
      " 439  pixel438  int64\n",
      " 440  pixel439  int64\n",
      " 441  pixel440  int64\n",
      " 442  pixel441  int64\n",
      " 443  pixel442  int64\n",
      " 444  pixel443  int64\n",
      " 445  pixel444  int64\n",
      " 446  pixel445  int64\n",
      " 447  pixel446  int64\n",
      " 448  pixel447  int64\n",
      " 449  pixel448  int64\n",
      " 450  pixel449  int64\n",
      " 451  pixel450  int64\n",
      " 452  pixel451  int64\n",
      " 453  pixel452  int64\n",
      " 454  pixel453  int64\n",
      " 455  pixel454  int64\n",
      " 456  pixel455  int64\n",
      " 457  pixel456  int64\n",
      " 458  pixel457  int64\n",
      " 459  pixel458  int64\n",
      " 460  pixel459  int64\n",
      " 461  pixel460  int64\n",
      " 462  pixel461  int64\n",
      " 463  pixel462  int64\n",
      " 464  pixel463  int64\n",
      " 465  pixel464  int64\n",
      " 466  pixel465  int64\n",
      " 467  pixel466  int64\n",
      " 468  pixel467  int64\n",
      " 469  pixel468  int64\n",
      " 470  pixel469  int64\n",
      " 471  pixel470  int64\n",
      " 472  pixel471  int64\n",
      " 473  pixel472  int64\n",
      " 474  pixel473  int64\n",
      " 475  pixel474  int64\n",
      " 476  pixel475  int64\n",
      " 477  pixel476  int64\n",
      " 478  pixel477  int64\n",
      " 479  pixel478  int64\n",
      " 480  pixel479  int64\n",
      " 481  pixel480  int64\n",
      " 482  pixel481  int64\n",
      " 483  pixel482  int64\n",
      " 484  pixel483  int64\n",
      " 485  pixel484  int64\n",
      " 486  pixel485  int64\n",
      " 487  pixel486  int64\n",
      " 488  pixel487  int64\n",
      " 489  pixel488  int64\n",
      " 490  pixel489  int64\n",
      " 491  pixel490  int64\n",
      " 492  pixel491  int64\n",
      " 493  pixel492  int64\n",
      " 494  pixel493  int64\n",
      " 495  pixel494  int64\n",
      " 496  pixel495  int64\n",
      " 497  pixel496  int64\n",
      " 498  pixel497  int64\n",
      " 499  pixel498  int64\n",
      " 500  pixel499  int64\n",
      " 501  pixel500  int64\n",
      " 502  pixel501  int64\n",
      " 503  pixel502  int64\n",
      " 504  pixel503  int64\n",
      " 505  pixel504  int64\n",
      " 506  pixel505  int64\n",
      " 507  pixel506  int64\n",
      " 508  pixel507  int64\n",
      " 509  pixel508  int64\n",
      " 510  pixel509  int64\n",
      " 511  pixel510  int64\n",
      " 512  pixel511  int64\n",
      " 513  pixel512  int64\n",
      " 514  pixel513  int64\n",
      " 515  pixel514  int64\n",
      " 516  pixel515  int64\n",
      " 517  pixel516  int64\n",
      " 518  pixel517  int64\n",
      " 519  pixel518  int64\n",
      " 520  pixel519  int64\n",
      " 521  pixel520  int64\n",
      " 522  pixel521  int64\n",
      " 523  pixel522  int64\n",
      " 524  pixel523  int64\n",
      " 525  pixel524  int64\n",
      " 526  pixel525  int64\n",
      " 527  pixel526  int64\n",
      " 528  pixel527  int64\n",
      " 529  pixel528  int64\n",
      " 530  pixel529  int64\n",
      " 531  pixel530  int64\n",
      " 532  pixel531  int64\n",
      " 533  pixel532  int64\n",
      " 534  pixel533  int64\n",
      " 535  pixel534  int64\n",
      " 536  pixel535  int64\n",
      " 537  pixel536  int64\n",
      " 538  pixel537  int64\n",
      " 539  pixel538  int64\n",
      " 540  pixel539  int64\n",
      " 541  pixel540  int64\n",
      " 542  pixel541  int64\n",
      " 543  pixel542  int64\n",
      " 544  pixel543  int64\n",
      " 545  pixel544  int64\n",
      " 546  pixel545  int64\n",
      " 547  pixel546  int64\n",
      " 548  pixel547  int64\n",
      " 549  pixel548  int64\n",
      " 550  pixel549  int64\n",
      " 551  pixel550  int64\n",
      " 552  pixel551  int64\n",
      " 553  pixel552  int64\n",
      " 554  pixel553  int64\n",
      " 555  pixel554  int64\n",
      " 556  pixel555  int64\n",
      " 557  pixel556  int64\n",
      " 558  pixel557  int64\n",
      " 559  pixel558  int64\n",
      " 560  pixel559  int64\n",
      " 561  pixel560  int64\n",
      " 562  pixel561  int64\n",
      " 563  pixel562  int64\n",
      " 564  pixel563  int64\n",
      " 565  pixel564  int64\n",
      " 566  pixel565  int64\n",
      " 567  pixel566  int64\n",
      " 568  pixel567  int64\n",
      " 569  pixel568  int64\n",
      " 570  pixel569  int64\n",
      " 571  pixel570  int64\n",
      " 572  pixel571  int64\n",
      " 573  pixel572  int64\n",
      " 574  pixel573  int64\n",
      " 575  pixel574  int64\n",
      " 576  pixel575  int64\n",
      " 577  pixel576  int64\n",
      " 578  pixel577  int64\n",
      " 579  pixel578  int64\n",
      " 580  pixel579  int64\n",
      " 581  pixel580  int64\n",
      " 582  pixel581  int64\n",
      " 583  pixel582  int64\n",
      " 584  pixel583  int64\n",
      " 585  pixel584  int64\n",
      " 586  pixel585  int64\n",
      " 587  pixel586  int64\n",
      " 588  pixel587  int64\n",
      " 589  pixel588  int64\n",
      " 590  pixel589  int64\n",
      " 591  pixel590  int64\n",
      " 592  pixel591  int64\n",
      " 593  pixel592  int64\n",
      " 594  pixel593  int64\n",
      " 595  pixel594  int64\n",
      " 596  pixel595  int64\n",
      " 597  pixel596  int64\n",
      " 598  pixel597  int64\n",
      " 599  pixel598  int64\n",
      " 600  pixel599  int64\n",
      " 601  pixel600  int64\n",
      " 602  pixel601  int64\n",
      " 603  pixel602  int64\n",
      " 604  pixel603  int64\n",
      " 605  pixel604  int64\n",
      " 606  pixel605  int64\n",
      " 607  pixel606  int64\n",
      " 608  pixel607  int64\n",
      " 609  pixel608  int64\n",
      " 610  pixel609  int64\n",
      " 611  pixel610  int64\n",
      " 612  pixel611  int64\n",
      " 613  pixel612  int64\n",
      " 614  pixel613  int64\n",
      " 615  pixel614  int64\n",
      " 616  pixel615  int64\n",
      " 617  pixel616  int64\n",
      " 618  pixel617  int64\n",
      " 619  pixel618  int64\n",
      " 620  pixel619  int64\n",
      " 621  pixel620  int64\n",
      " 622  pixel621  int64\n",
      " 623  pixel622  int64\n",
      " 624  pixel623  int64\n",
      " 625  pixel624  int64\n",
      " 626  pixel625  int64\n",
      " 627  pixel626  int64\n",
      " 628  pixel627  int64\n",
      " 629  pixel628  int64\n",
      " 630  pixel629  int64\n",
      " 631  pixel630  int64\n",
      " 632  pixel631  int64\n",
      " 633  pixel632  int64\n",
      " 634  pixel633  int64\n",
      " 635  pixel634  int64\n",
      " 636  pixel635  int64\n",
      " 637  pixel636  int64\n",
      " 638  pixel637  int64\n",
      " 639  pixel638  int64\n",
      " 640  pixel639  int64\n",
      " 641  pixel640  int64\n",
      " 642  pixel641  int64\n",
      " 643  pixel642  int64\n",
      " 644  pixel643  int64\n",
      " 645  pixel644  int64\n",
      " 646  pixel645  int64\n",
      " 647  pixel646  int64\n",
      " 648  pixel647  int64\n",
      " 649  pixel648  int64\n",
      " 650  pixel649  int64\n",
      " 651  pixel650  int64\n",
      " 652  pixel651  int64\n",
      " 653  pixel652  int64\n",
      " 654  pixel653  int64\n",
      " 655  pixel654  int64\n",
      " 656  pixel655  int64\n",
      " 657  pixel656  int64\n",
      " 658  pixel657  int64\n",
      " 659  pixel658  int64\n",
      " 660  pixel659  int64\n",
      " 661  pixel660  int64\n",
      " 662  pixel661  int64\n",
      " 663  pixel662  int64\n",
      " 664  pixel663  int64\n",
      " 665  pixel664  int64\n",
      " 666  pixel665  int64\n",
      " 667  pixel666  int64\n",
      " 668  pixel667  int64\n",
      " 669  pixel668  int64\n",
      " 670  pixel669  int64\n",
      " 671  pixel670  int64\n",
      " 672  pixel671  int64\n",
      " 673  pixel672  int64\n",
      " 674  pixel673  int64\n",
      " 675  pixel674  int64\n",
      " 676  pixel675  int64\n",
      " 677  pixel676  int64\n",
      " 678  pixel677  int64\n",
      " 679  pixel678  int64\n",
      " 680  pixel679  int64\n",
      " 681  pixel680  int64\n",
      " 682  pixel681  int64\n",
      " 683  pixel682  int64\n",
      " 684  pixel683  int64\n",
      " 685  pixel684  int64\n",
      " 686  pixel685  int64\n",
      " 687  pixel686  int64\n",
      " 688  pixel687  int64\n",
      " 689  pixel688  int64\n",
      " 690  pixel689  int64\n",
      " 691  pixel690  int64\n",
      " 692  pixel691  int64\n",
      " 693  pixel692  int64\n",
      " 694  pixel693  int64\n",
      " 695  pixel694  int64\n",
      " 696  pixel695  int64\n",
      " 697  pixel696  int64\n",
      " 698  pixel697  int64\n",
      " 699  pixel698  int64\n",
      " 700  pixel699  int64\n",
      " 701  pixel700  int64\n",
      " 702  pixel701  int64\n",
      " 703  pixel702  int64\n",
      " 704  pixel703  int64\n",
      " 705  pixel704  int64\n",
      " 706  pixel705  int64\n",
      " 707  pixel706  int64\n",
      " 708  pixel707  int64\n",
      " 709  pixel708  int64\n",
      " 710  pixel709  int64\n",
      " 711  pixel710  int64\n",
      " 712  pixel711  int64\n",
      " 713  pixel712  int64\n",
      " 714  pixel713  int64\n",
      " 715  pixel714  int64\n",
      " 716  pixel715  int64\n",
      " 717  pixel716  int64\n",
      " 718  pixel717  int64\n",
      " 719  pixel718  int64\n",
      " 720  pixel719  int64\n",
      " 721  pixel720  int64\n",
      " 722  pixel721  int64\n",
      " 723  pixel722  int64\n",
      " 724  pixel723  int64\n",
      " 725  pixel724  int64\n",
      " 726  pixel725  int64\n",
      " 727  pixel726  int64\n",
      " 728  pixel727  int64\n",
      " 729  pixel728  int64\n",
      " 730  pixel729  int64\n",
      " 731  pixel730  int64\n",
      " 732  pixel731  int64\n",
      " 733  pixel732  int64\n",
      " 734  pixel733  int64\n",
      " 735  pixel734  int64\n",
      " 736  pixel735  int64\n",
      " 737  pixel736  int64\n",
      " 738  pixel737  int64\n",
      " 739  pixel738  int64\n",
      " 740  pixel739  int64\n",
      " 741  pixel740  int64\n",
      " 742  pixel741  int64\n",
      " 743  pixel742  int64\n",
      " 744  pixel743  int64\n",
      " 745  pixel744  int64\n",
      " 746  pixel745  int64\n",
      " 747  pixel746  int64\n",
      " 748  pixel747  int64\n",
      " 749  pixel748  int64\n",
      " 750  pixel749  int64\n",
      " 751  pixel750  int64\n",
      " 752  pixel751  int64\n",
      " 753  pixel752  int64\n",
      " 754  pixel753  int64\n",
      " 755  pixel754  int64\n",
      " 756  pixel755  int64\n",
      " 757  pixel756  int64\n",
      " 758  pixel757  int64\n",
      " 759  pixel758  int64\n",
      " 760  pixel759  int64\n",
      " 761  pixel760  int64\n",
      " 762  pixel761  int64\n",
      " 763  pixel762  int64\n",
      " 764  pixel763  int64\n",
      " 765  pixel764  int64\n",
      " 766  pixel765  int64\n",
      " 767  pixel766  int64\n",
      " 768  pixel767  int64\n",
      " 769  pixel768  int64\n",
      " 770  pixel769  int64\n",
      " 771  pixel770  int64\n",
      " 772  pixel771  int64\n",
      " 773  pixel772  int64\n",
      " 774  pixel773  int64\n",
      " 775  pixel774  int64\n",
      " 776  pixel775  int64\n",
      " 777  pixel776  int64\n",
      " 778  pixel777  int64\n",
      " 779  pixel778  int64\n",
      " 780  pixel779  int64\n",
      " 781  pixel780  int64\n",
      " 782  pixel781  int64\n",
      " 783  pixel782  int64\n",
      " 784  pixel783  int64\n",
      "dtypes: int64(785)\n",
      "memory usage: 251.5 MB\n"
     ]
    }
   ],
   "source": [
    "df_train.info(verbose=True)"
   ]
  },
  {
   "cell_type": "code",
   "execution_count": 86,
   "metadata": {
    "ExecuteTime": {
     "end_time": "2022-09-13T09:07:31.784352Z",
     "start_time": "2022-09-13T09:07:31.691600Z"
    }
   },
   "outputs": [
    {
     "data": {
      "text/plain": [
       "Series([], dtype: int64)"
      ]
     },
     "execution_count": 86,
     "metadata": {},
     "output_type": "execute_result"
    }
   ],
   "source": [
    "df_train.isnull().sum()[df_train.isnull().sum() >0]"
   ]
  },
  {
   "cell_type": "code",
   "execution_count": 87,
   "metadata": {
    "ExecuteTime": {
     "end_time": "2022-09-13T09:07:31.799312Z",
     "start_time": "2022-09-13T09:07:31.786347Z"
    }
   },
   "outputs": [
    {
     "data": {
      "text/plain": [
       "array([1, 0, 4, 7, 3, 5, 8, 9, 2, 6], dtype=int64)"
      ]
     },
     "execution_count": 87,
     "metadata": {},
     "output_type": "execute_result"
    }
   ],
   "source": [
    "df_train['label'].unique()"
   ]
  },
  {
   "cell_type": "markdown",
   "metadata": {},
   "source": [
    "# Setup X and Y"
   ]
  },
  {
   "cell_type": "code",
   "execution_count": 88,
   "metadata": {
    "ExecuteTime": {
     "end_time": "2022-09-13T09:07:31.972848Z",
     "start_time": "2022-09-13T09:07:31.800309Z"
    }
   },
   "outputs": [],
   "source": [
    "X = df_train.drop(labels='label', axis=1) / 255\n",
    "df_test = df_test / 255\n",
    "y = to_categorical(df_train['label'])"
   ]
  },
  {
   "cell_type": "code",
   "execution_count": 89,
   "metadata": {
    "ExecuteTime": {
     "end_time": "2022-09-13T09:07:32.525372Z",
     "start_time": "2022-09-13T09:07:31.973846Z"
    }
   },
   "outputs": [],
   "source": [
    "X_train, X_test, y_train, y_test = train_test_split(X, y, test_size=0.33, random_state=42, stratify=y)"
   ]
  },
  {
   "cell_type": "code",
   "execution_count": 90,
   "metadata": {
    "ExecuteTime": {
     "end_time": "2022-09-13T09:07:32.541348Z",
     "start_time": "2022-09-13T09:07:32.526369Z"
    }
   },
   "outputs": [
    {
     "data": {
      "text/plain": [
       "(28140, 784)"
      ]
     },
     "execution_count": 90,
     "metadata": {},
     "output_type": "execute_result"
    }
   ],
   "source": [
    "X_train.shape"
   ]
  },
  {
   "cell_type": "code",
   "execution_count": 91,
   "metadata": {
    "ExecuteTime": {
     "end_time": "2022-09-13T09:07:32.557287Z",
     "start_time": "2022-09-13T09:07:32.542326Z"
    }
   },
   "outputs": [
    {
     "data": {
      "text/plain": [
       "(13860, 784)"
      ]
     },
     "execution_count": 91,
     "metadata": {},
     "output_type": "execute_result"
    }
   ],
   "source": [
    "X_test.shape"
   ]
  },
  {
   "cell_type": "code",
   "execution_count": 92,
   "metadata": {
    "ExecuteTime": {
     "end_time": "2022-09-13T09:07:32.573244Z",
     "start_time": "2022-09-13T09:07:32.558284Z"
    }
   },
   "outputs": [
    {
     "data": {
      "text/plain": [
       "(28140, 10)"
      ]
     },
     "execution_count": 92,
     "metadata": {},
     "output_type": "execute_result"
    }
   ],
   "source": [
    "y_train.shape"
   ]
  },
  {
   "cell_type": "code",
   "execution_count": 93,
   "metadata": {
    "ExecuteTime": {
     "end_time": "2022-09-13T09:07:32.588227Z",
     "start_time": "2022-09-13T09:07:32.574241Z"
    }
   },
   "outputs": [
    {
     "data": {
      "text/plain": [
       "(array([0., 1.], dtype=float32), array([253260,  28140], dtype=int64))"
      ]
     },
     "execution_count": 93,
     "metadata": {},
     "output_type": "execute_result"
    }
   ],
   "source": [
    "np.unique(y_train, return_counts=True)"
   ]
  },
  {
   "cell_type": "code",
   "execution_count": 94,
   "metadata": {
    "ExecuteTime": {
     "end_time": "2022-09-13T09:07:32.603164Z",
     "start_time": "2022-09-13T09:07:32.590198Z"
    }
   },
   "outputs": [
    {
     "data": {
      "text/plain": [
       "(13860, 10)"
      ]
     },
     "execution_count": 94,
     "metadata": {},
     "output_type": "execute_result"
    }
   ],
   "source": [
    "y_test.shape"
   ]
  },
  {
   "cell_type": "code",
   "execution_count": 95,
   "metadata": {
    "ExecuteTime": {
     "end_time": "2022-09-13T09:07:32.618124Z",
     "start_time": "2022-09-13T09:07:32.604161Z"
    }
   },
   "outputs": [
    {
     "data": {
      "text/plain": [
       "(array([0., 1.], dtype=float32), array([124740,  13860], dtype=int64))"
      ]
     },
     "execution_count": 95,
     "metadata": {},
     "output_type": "execute_result"
    }
   ],
   "source": [
    "np.unique(y_test, return_counts=True)"
   ]
  },
  {
   "cell_type": "markdown",
   "metadata": {},
   "source": [
    "# Tensorflow Neural Network"
   ]
  },
  {
   "cell_type": "code",
   "execution_count": 96,
   "metadata": {
    "ExecuteTime": {
     "end_time": "2022-09-13T09:16:49.554182Z",
     "start_time": "2022-09-13T09:07:32.619121Z"
    }
   },
   "outputs": [
    {
     "name": "stdout",
     "output_type": "stream",
     "text": [
      "434/434 [==============================] - 2s 3ms/step - loss: 0.3804 - accuracy: 0.9175\n"
     ]
    },
    {
     "data": {
      "text/plain": [
       "[0.3803834915161133, 0.9174602627754211]"
      ]
     },
     "execution_count": 96,
     "metadata": {},
     "output_type": "execute_result"
    }
   ],
   "source": [
    "#create model\n",
    "model_tnn = Sequential()\n",
    "\n",
    "#add layers\n",
    "model_tnn.add(Dense(10, input_shape=(X_train.shape[1],), activation='relu'))\n",
    "model_tnn.add(Dense(10, activation='softmax'))\n",
    "\n",
    "#compile model\n",
    "model_tnn.compile(optimizer='adam', loss='categorical_crossentropy', metrics=['accuracy'])\n",
    "\n",
    "#train the model\n",
    "model_tnn.fit(X_train, y_train, epochs=150, batch_size=32, verbose=0)\n",
    "\n",
    "#predict\n",
    "model_tnn.evaluate(X_test, y_test, verbose=True)"
   ]
  },
  {
   "cell_type": "code",
   "execution_count": 97,
   "metadata": {
    "ExecuteTime": {
     "end_time": "2022-09-13T09:16:54.187007Z",
     "start_time": "2022-09-13T09:16:49.555179Z"
    }
   },
   "outputs": [
    {
     "name": "stdout",
     "output_type": "stream",
     "text": [
      "434/434 [==============================] - 1s 3ms/step - loss: 0.3804 - accuracy: 0.9175\n",
      "880/880 [==============================] - 3s 3ms/step - loss: 0.0948 - accuracy: 0.9706\n"
     ]
    },
    {
     "data": {
      "text/plain": [
       "5.47256932422263"
      ]
     },
     "execution_count": 97,
     "metadata": {},
     "output_type": "execute_result"
    }
   ],
   "source": [
    "gen_score(model_tnn.evaluate(X_test, y_test, verbose=True)[1], \\\n",
    "          model_tnn.evaluate(X_train, y_train, verbose=True)[1])"
   ]
  },
  {
   "cell_type": "markdown",
   "metadata": {},
   "source": [
    "# Keras convolutional network"
   ]
  },
  {
   "cell_type": "code",
   "execution_count": 98,
   "metadata": {
    "ExecuteTime": {
     "end_time": "2022-09-13T09:16:54.201967Z",
     "start_time": "2022-09-13T09:16:54.188004Z"
    }
   },
   "outputs": [],
   "source": [
    "X_train = X_train.to_numpy().reshape(X_train.shape[0],28,28,1)\n",
    "X_test = X_test.to_numpy().reshape(X_test.shape[0],28,28,1)"
   ]
  },
  {
   "cell_type": "code",
   "execution_count": 99,
   "metadata": {
    "ExecuteTime": {
     "end_time": "2022-09-13T09:17:02.076872Z",
     "start_time": "2022-09-13T09:16:54.202963Z"
    }
   },
   "outputs": [
    {
     "name": "stdout",
     "output_type": "stream",
     "text": [
      "880/880 [==============================] - 6s 6ms/step - loss: 0.2038 - accuracy: 0.9388\n",
      "434/434 [==============================] - 2s 4ms/step - loss: 0.0875 - accuracy: 0.9731\n"
     ]
    },
    {
     "data": {
      "text/plain": [
       "[0.0875004455447197, 0.9730879664421082]"
      ]
     },
     "execution_count": 99,
     "metadata": {},
     "output_type": "execute_result"
    }
   ],
   "source": [
    "#create model\n",
    "model_kcn = Sequential()\n",
    "\n",
    "#add layers\n",
    "model_kcn.add(Conv2D(32, (3, 3), activation='relu', kernel_initializer='he_uniform', \\\n",
    "                 input_shape=(X_train.shape[1], X_train.shape[2], X_train.shape[3])))\n",
    "model_kcn.add(MaxPooling2D((2, 2)))\n",
    "model_kcn.add(Flatten())\n",
    "model_kcn.add(Dense(100, activation='relu', kernel_initializer='he_uniform'))\n",
    "model_kcn.add(BatchNormalization())\n",
    "model_kcn.add(Dense(10, activation='softmax'))\n",
    "\n",
    "# compile model\n",
    "opt = SGD(learning_rate=0.01, momentum=0.9)\n",
    "model_kcn.compile(optimizer=opt, loss='categorical_crossentropy', metrics=['accuracy'])\n",
    "model_kcn.fit(X_train, y_train)\n",
    "model_kcn.evaluate(X_test, y_test, verbose=True)"
   ]
  },
  {
   "cell_type": "code",
   "execution_count": 100,
   "metadata": {
    "ExecuteTime": {
     "end_time": "2022-09-13T09:17:07.065077Z",
     "start_time": "2022-09-13T09:17:02.077869Z"
    }
   },
   "outputs": [
    {
     "name": "stdout",
     "output_type": "stream",
     "text": [
      "434/434 [==============================] - 2s 3ms/step - loss: 0.0875 - accuracy: 0.9731\n",
      "880/880 [==============================] - 3s 4ms/step - loss: 0.0744 - accuracy: 0.9785\n"
     ]
    },
    {
     "data": {
      "text/plain": [
       "0.5567423933618515"
      ]
     },
     "execution_count": 100,
     "metadata": {},
     "output_type": "execute_result"
    }
   ],
   "source": [
    "gen_score(model_kcn.evaluate(X_test, y_test, verbose=True)[1], \\\n",
    "          model_kcn.evaluate(X_train, y_train, verbose=True)[1])"
   ]
  },
  {
   "cell_type": "markdown",
   "metadata": {},
   "source": [
    "# Keras convolutional network with regularization"
   ]
  },
  {
   "cell_type": "code",
   "execution_count": 101,
   "metadata": {
    "ExecuteTime": {
     "end_time": "2022-09-13T09:17:16.578804Z",
     "start_time": "2022-09-13T09:17:07.066074Z"
    }
   },
   "outputs": [
    {
     "name": "stdout",
     "output_type": "stream",
     "text": [
      "880/880 [==============================] - 7s 7ms/step - loss: 0.2125 - accuracy: 0.9458\n",
      "434/434 [==============================] - 2s 4ms/step - loss: 0.0872 - accuracy: 0.9776\n"
     ]
    },
    {
     "data": {
      "text/plain": [
       "[0.08721708506345749, 0.9775612950325012]"
      ]
     },
     "execution_count": 101,
     "metadata": {},
     "output_type": "execute_result"
    }
   ],
   "source": [
    "#create model\n",
    "model_kcnr = Sequential()\n",
    "\n",
    "#add layers\n",
    "model_kcnr.add(Conv2D(32, (3, 3), activation='relu', kernel_initializer='he_uniform', \\\n",
    "                 input_shape=(X_train.shape[1], X_train.shape[2], X_train.shape[3]), \\\n",
    "                      kernel_regularizer=regularizers.L1L2(l1=1e-5, l2=1e-4),\\\n",
    "                     bias_regularizer=regularizers.L1L2(l1=1e-5, l2=1e-4),\\\n",
    "                     activity_regularizer=regularizers.L1L2(l1=1e-5, l2=1e-4)))\n",
    "model_kcnr.add(MaxPooling2D((2, 2)))\n",
    "model_kcnr.add(Flatten())\n",
    "model_kcnr.add(Dense(100, activation='relu', kernel_initializer='he_uniform'))\n",
    "model_kcnr.add(BatchNormalization())\n",
    "model_kcnr.add(Dense(10, activation='softmax'))\n",
    "\n",
    "# compile model\n",
    "opt = SGD(learning_rate=0.01, momentum=0.9)\n",
    "model_kcnr.compile(optimizer=opt, loss='categorical_crossentropy', metrics=['accuracy'])\n",
    "model_kcnr.fit(X_train, y_train)\n",
    "model_kcnr.evaluate(X_test, y_test, verbose=True)"
   ]
  },
  {
   "cell_type": "code",
   "execution_count": 102,
   "metadata": {
    "ExecuteTime": {
     "end_time": "2022-09-13T09:17:22.232552Z",
     "start_time": "2022-09-13T09:17:16.579803Z"
    }
   },
   "outputs": [
    {
     "name": "stdout",
     "output_type": "stream",
     "text": [
      "434/434 [==============================] - 2s 4ms/step - loss: 0.0872 - accuracy: 0.9776\n",
      "880/880 [==============================] - 4s 4ms/step - loss: 0.0627 - accuracy: 0.9864\n"
     ]
    },
    {
     "data": {
      "text/plain": [
       "0.894997718575209"
      ]
     },
     "execution_count": 102,
     "metadata": {},
     "output_type": "execute_result"
    }
   ],
   "source": [
    "gen_score(model_kcnr.evaluate(X_test, y_test, verbose=True)[1], \\\n",
    "          model_kcnr.evaluate(X_train, y_train, verbose=True)[1])"
   ]
  },
  {
   "cell_type": "markdown",
   "metadata": {},
   "source": [
    "# Tensorflow convolutional network"
   ]
  },
  {
   "cell_type": "code",
   "execution_count": null,
   "metadata": {},
   "outputs": [],
   "source": []
  },
  {
   "cell_type": "code",
   "execution_count": null,
   "metadata": {},
   "outputs": [],
   "source": []
  },
  {
   "cell_type": "code",
   "execution_count": null,
   "metadata": {},
   "outputs": [],
   "source": []
  },
  {
   "cell_type": "code",
   "execution_count": null,
   "metadata": {},
   "outputs": [],
   "source": []
  },
  {
   "cell_type": "code",
   "execution_count": null,
   "metadata": {},
   "outputs": [],
   "source": []
  },
  {
   "cell_type": "code",
   "execution_count": null,
   "metadata": {},
   "outputs": [],
   "source": []
  },
  {
   "cell_type": "code",
   "execution_count": null,
   "metadata": {},
   "outputs": [],
   "source": []
  },
  {
   "cell_type": "code",
   "execution_count": null,
   "metadata": {},
   "outputs": [],
   "source": []
  },
  {
   "cell_type": "code",
   "execution_count": null,
   "metadata": {},
   "outputs": [],
   "source": []
  },
  {
   "cell_type": "code",
   "execution_count": null,
   "metadata": {},
   "outputs": [],
   "source": []
  },
  {
   "cell_type": "code",
   "execution_count": null,
   "metadata": {},
   "outputs": [],
   "source": []
  },
  {
   "cell_type": "code",
   "execution_count": null,
   "metadata": {},
   "outputs": [],
   "source": []
  },
  {
   "cell_type": "code",
   "execution_count": null,
   "metadata": {},
   "outputs": [],
   "source": []
  }
 ],
 "metadata": {
  "kernelspec": {
   "display_name": "Python 3 (ipykernel)",
   "language": "python",
   "name": "python3"
  },
  "language_info": {
   "codemirror_mode": {
    "name": "ipython",
    "version": 3
   },
   "file_extension": ".py",
   "mimetype": "text/x-python",
   "name": "python",
   "nbconvert_exporter": "python",
   "pygments_lexer": "ipython3",
   "version": "3.9.12"
  }
 },
 "nbformat": 4,
 "nbformat_minor": 4
}
