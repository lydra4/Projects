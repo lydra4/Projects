{
 "cells": [
  {
   "cell_type": "markdown",
   "metadata": {},
   "source": [
    "# LR Reg Exercise - Solution\n",
    "\n",
    "Given X, and y, find the best fit equation (without formula, without pandas, sklearn, statsmodel).   \n",
    "\n",
    "Hint: Range for slope and intercept are provided below as s_range and i_range."
   ]
  },
  {
   "cell_type": "code",
   "execution_count": 74,
   "metadata": {},
   "outputs": [],
   "source": [
    "X = [10,7,10,5,8,8,6,7,9,10]\n",
    "y = [11,10,12,6,10,7,9,10,11,10]"
   ]
  },
  {
   "cell_type": "code",
   "execution_count": 75,
   "metadata": {},
   "outputs": [],
   "source": [
    "def y_predict(slope,intercept, X):\n",
    "    y_pred = [((slope * x) + intercept) for x in X]\n",
    "    return y_pred"
   ]
  },
  {
   "cell_type": "code",
   "execution_count": 76,
   "metadata": {},
   "outputs": [],
   "source": [
    "def sse(y, y_pred):\n",
    "    sse_result = 0\n",
    "    for i in range(len(y)):\n",
    "        sse_result += (y[i] - y_pred[i]) ** 2\n",
    "    \n",
    "    return sse_result"
   ]
  },
  {
   "cell_type": "code",
   "execution_count": 77,
   "metadata": {},
   "outputs": [
    {
     "name": "stdout",
     "output_type": "stream",
     "text": [
      "Best Slope:  0.8\n",
      "Best Intercept:  3.2\n",
      "Best SSE:  14.72\n"
     ]
    }
   ],
   "source": [
    "best_slope = None\n",
    "best_intercept = None\n",
    "best_sse = None\n",
    "\n",
    "m_range = [s/10 for s in range(-100,100,1)]\n",
    "c_range = [s/10 for s in range(-100,100,1)]\n",
    "\n",
    "for m in m_range:\n",
    "    for c in c_range:\n",
    "        y_pred = y_predict(m, c, X)\n",
    "        error = sse(y, y_pred)\n",
    "        \n",
    "        if best_sse == None or error <= best_sse:\n",
    "            best_slope, best_intercept, best_sse = m, c, error\n",
    "\n",
    "\n",
    "print(\"Best Slope: \", best_slope)\n",
    "print(\"Best Intercept: \", best_intercept)   \n",
    "print(\"Best SSE: \", best_sse)"
   ]
  },
  {
   "cell_type": "markdown",
   "metadata": {},
   "source": [
    "# Next Steps\n",
    "- Create a version that includes LASSO or Ridge regularisation technique.\n",
    "- Standardise the input (ie. X). Then create a MSE version, with and without regularisation."
   ]
  },
  {
   "cell_type": "code",
   "execution_count": 78,
   "metadata": {},
   "outputs": [
    {
     "name": "stdout",
     "output_type": "stream",
     "text": [
      "Best Slope:  0.6\n",
      "Best Intercept:  4.8\n",
      "Best lambda:  9.9\n",
      "Lowest error:  65659.39000000001\n"
     ]
    }
   ],
   "source": [
    "#LASSO\n",
    "lowest_error = None\n",
    "best_slope = None\n",
    "best_lambda = None\n",
    "\n",
    "m_range = [s/10 for s in range(-100,100,1)]\n",
    "c_range = [s/10 for s in range(-100,100,1)]\n",
    "j_range = [s/10 for s in range(-100,100,1)]\n",
    "\n",
    "for m in m_range:\n",
    "    for c in c_range:\n",
    "        for j in j_range:\n",
    "            y_pred = y_predict(m,c, X)\n",
    "            error = sse(y, y_pred)\n",
    "            total_error = error + (j * abs(m))\n",
    "        \n",
    "        if lowest_error == None or total_error <= lowest_error:\n",
    "            best_slope, best_intercept, best_lambda, lowest_error = m, c, j, total_error\n",
    "\n",
    "print(\"Best Slope: \", best_slope)\n",
    "print(\"Best Intercept: \", best_intercept)   \n",
    "print(\"Best lambda: \", j)\n",
    "print(\"Lowest error: \", total_error)"
   ]
  },
  {
   "cell_type": "code",
   "execution_count": 79,
   "metadata": {},
   "outputs": [
    {
     "name": "stdout",
     "output_type": "stream",
     "text": [
      "Best Slope:  0.6\n",
      "Best Intercept:  4.8\n",
      "Best lambda:  9.9\n",
      "Lowest error:  66531.67900000002\n"
     ]
    }
   ],
   "source": [
    "#RIDGE\n",
    "lowest_error = None\n",
    "best_slope = None\n",
    "best_lambda = None\n",
    "\n",
    "m_range = [s/10 for s in range(-100,100,1)]\n",
    "c_range = [s/10 for s in range(-100,100,1)]\n",
    "j_range = [s/10 for s in range(-100,100,1)]\n",
    "\n",
    "for m in m_range:\n",
    "    for c in c_range:\n",
    "        for j in j_range:\n",
    "            y_pred = y_predict(m,c, X)\n",
    "            error = sse(y, y_pred)\n",
    "            total_error = error + (j * m * m)\n",
    "        \n",
    "        if lowest_error == None or total_error <= lowest_error:\n",
    "            best_slope, best_intercept, best_lambda, lowest_error = m, c, j, total_error\n",
    "\n",
    "print(\"Best Slope: \", best_slope)\n",
    "print(\"Best Intercept: \", best_intercept)   \n",
    "print(\"Best lambda: \", j)\n",
    "print(\"Lowest error: \", total_error)"
   ]
  },
  {
   "cell_type": "code",
   "execution_count": 80,
   "metadata": {},
   "outputs": [],
   "source": [
    "X_mean = sum(X) / len(X)\n",
    "X_var = sum((x - X_mean) **2 for x in X)\n",
    "X_std = X_var ** 0.5"
   ]
  },
  {
   "cell_type": "code",
   "execution_count": 81,
   "metadata": {},
   "outputs": [
    {
     "name": "stdout",
     "output_type": "stream",
     "text": [
      "[0.3779644730092272, -0.1889822365046136, 0.3779644730092272, -0.5669467095138409, 0.0, 0.0, -0.3779644730092272, -0.1889822365046136, 0.1889822365046136, 0.3779644730092272]\n"
     ]
    }
   ],
   "source": [
    "X_standard = []\n",
    "for x in X:\n",
    "    X_standard.append((x - X_mean) / X_std)\n",
    "    \n",
    "print(X_standard)"
   ]
  },
  {
   "cell_type": "code",
   "execution_count": 82,
   "metadata": {},
   "outputs": [
    {
     "name": "stdout",
     "output_type": "stream",
     "text": [
      "Best Slope:  4.0\n",
      "Best Intercept:  9.6\n",
      "Best SSE:  14.650984267224914\n"
     ]
    }
   ],
   "source": [
    "#Without regularisation\n",
    "best_slope = None\n",
    "best_intercept = None\n",
    "best_sse = None\n",
    "\n",
    "m_range = [s/10 for s in range(-100,100,1)]\n",
    "c_range = [s/10 for s in range(-100,100,1)]\n",
    "\n",
    "for m in m_range:\n",
    "    for c in c_range:\n",
    "        y_pred = y_predict(m, c, X_standard)\n",
    "        error = sse(y, y_pred)\n",
    "        \n",
    "        if best_sse == None or error <= best_sse:\n",
    "            best_slope, best_intercept, best_sse = m, c, error\n",
    "\n",
    "\n",
    "print(\"Best Slope: \", best_slope)\n",
    "print(\"Best Intercept: \", best_intercept)   \n",
    "print(\"Best SSE: \", best_sse)"
   ]
  },
  {
   "cell_type": "code",
   "execution_count": 83,
   "metadata": {},
   "outputs": [
    {
     "name": "stdout",
     "output_type": "stream",
     "text": [
      "Best Slope:  0.0\n",
      "Best Intercept:  9.6\n",
      "Best lambda:  9.9\n",
      "Lowest error:  148.74118606138165\n"
     ]
    }
   ],
   "source": [
    "#With LASSO regularisation\n",
    "lowest_error = None\n",
    "best_slope = None\n",
    "best_lambda = None\n",
    "\n",
    "m_range = [s/10 for s in range(-100,100,1)]\n",
    "c_range = [s/10 for s in range(-100,100,1)]\n",
    "j_range = [s/10 for s in range(-100,100,1)]\n",
    "\n",
    "for m in m_range:\n",
    "    for c in c_range:\n",
    "        for j in j_range:\n",
    "            y_pred = y_predict(m,c, X_standard)\n",
    "            error = sse(y, y_pred)\n",
    "            total_error = error + (j * abs(m))\n",
    "        \n",
    "        if lowest_error == None or total_error <= lowest_error:\n",
    "            best_slope, best_intercept, best_lambda, lowest_error = m, c, j, total_error\n",
    "\n",
    "print(\"Best Slope: \", best_slope)\n",
    "print(\"Best Intercept: \", best_intercept)   \n",
    "print(\"Best lambda: \", j)\n",
    "print(\"Lowest error: \", total_error)"
   ]
  },
  {
   "cell_type": "code",
   "execution_count": 84,
   "metadata": {},
   "outputs": [
    {
     "name": "stdout",
     "output_type": "stream",
     "text": [
      "Best Slope:  0.4\n",
      "Best Intercept:  9.6\n",
      "Best lambda:  9.9\n",
      "Lowest error:  1021.0301860613818\n"
     ]
    }
   ],
   "source": [
    "#With RIDGE regularisation\n",
    "lowest_error = None\n",
    "best_slope = None\n",
    "best_lambda = None\n",
    "\n",
    "m_range = [s/10 for s in range(-100,100,1)]\n",
    "c_range = [s/10 for s in range(-100,100,1)]\n",
    "j_range = [s/10 for s in range(-100,100,1)]\n",
    "\n",
    "for m in m_range:\n",
    "    for c in c_range:\n",
    "        for j in j_range:\n",
    "            y_pred = y_predict(m,c, X_standard)\n",
    "            error = sse(y, y_pred)\n",
    "            total_error = error + (j * m * m)\n",
    "        \n",
    "        if lowest_error == None or total_error <= lowest_error:\n",
    "            best_slope, best_intercept, best_lambda, lowest_error = m, c, j, total_error\n",
    "\n",
    "print(\"Best Slope: \", best_slope)\n",
    "print(\"Best Intercept: \", best_intercept)   \n",
    "print(\"Best lambda: \", j)\n",
    "print(\"Lowest error: \", total_error)"
   ]
  }
 ],
 "metadata": {
  "kernelspec": {
   "display_name": "Python 3 (ipykernel)",
   "language": "python",
   "name": "python3"
  },
  "language_info": {
   "codemirror_mode": {
    "name": "ipython",
    "version": 3
   },
   "file_extension": ".py",
   "mimetype": "text/x-python",
   "name": "python",
   "nbconvert_exporter": "python",
   "pygments_lexer": "ipython3",
   "version": "3.9.7"
  }
 },
 "nbformat": 4,
 "nbformat_minor": 4
}
